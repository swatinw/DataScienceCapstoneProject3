{
 "cells": [
  {
   "cell_type": "markdown",
   "id": "8a162d78",
   "metadata": {},
   "source": [
    "# Import Libraries "
   ]
  },
  {
   "cell_type": "code",
   "execution_count": 1,
   "id": "e9f3e2fb",
   "metadata": {},
   "outputs": [],
   "source": [
    "import pandas as pd\n",
    "import matplotlib.pyplot as plt\n",
    "import seaborn as sns\n",
    "import os\n",
    "import numpy as np\n",
    "from sklearn.decomposition import PCA\n",
    "from sklearn.preprocessing import scale\n",
    "\n",
    "\n",
    "import pickle\n",
    "\n",
    "from sklearn import __version__ as sklearn_version\n",
    "from sklearn.model_selection import train_test_split, cross_validate, GridSearchCV, learning_curve\n",
    "from sklearn.preprocessing import StandardScaler, MinMaxScaler\n",
    "from sklearn.dummy import DummyRegressor\n",
    "from sklearn.linear_model import LinearRegression\n",
    "from sklearn.ensemble import RandomForestRegressor\n",
    "from sklearn.metrics import r2_score, mean_squared_error, mean_absolute_error\n",
    "from sklearn.pipeline import make_pipeline\n",
    "from sklearn.impute import SimpleImputer\n",
    "from sklearn.feature_selection import SelectKBest, f_regression\n",
    "import datetime\n",
    "\n",
    "# Show plots inline\n",
    "%matplotlib inline"
   ]
  },
  {
   "cell_type": "code",
   "execution_count": 2,
   "id": "5babddff",
   "metadata": {},
   "outputs": [],
   "source": [
    "import warnings\n",
    "warnings.simplefilter(action='ignore', category=FutureWarning)\n",
    "warnings.simplefilter(action='ignore', category=UserWarning)"
   ]
  },
  {
   "cell_type": "markdown",
   "id": "ea57e344",
   "metadata": {},
   "source": [
    "# Data Collection and Acquisition"
   ]
  },
  {
   "cell_type": "code",
   "execution_count": 3,
   "id": "41ad96f4",
   "metadata": {},
   "outputs": [
    {
     "data": {
      "text/html": [
       "<div>\n",
       "<style scoped>\n",
       "    .dataframe tbody tr th:only-of-type {\n",
       "        vertical-align: middle;\n",
       "    }\n",
       "\n",
       "    .dataframe tbody tr th {\n",
       "        vertical-align: top;\n",
       "    }\n",
       "\n",
       "    .dataframe thead th {\n",
       "        text-align: right;\n",
       "    }\n",
       "</style>\n",
       "<table border=\"1\" class=\"dataframe\">\n",
       "  <thead>\n",
       "    <tr style=\"text-align: right;\">\n",
       "      <th></th>\n",
       "      <th>User ID</th>\n",
       "      <th>Product ID</th>\n",
       "      <th>Product Name</th>\n",
       "      <th>Brand</th>\n",
       "      <th>Category</th>\n",
       "      <th>Price</th>\n",
       "      <th>Rating</th>\n",
       "      <th>Color</th>\n",
       "      <th>Size</th>\n",
       "    </tr>\n",
       "  </thead>\n",
       "  <tbody>\n",
       "    <tr>\n",
       "      <th>0</th>\n",
       "      <td>19</td>\n",
       "      <td>1</td>\n",
       "      <td>Dress</td>\n",
       "      <td>Adidas</td>\n",
       "      <td>Men's Fashion</td>\n",
       "      <td>40</td>\n",
       "      <td>1.043159</td>\n",
       "      <td>Black</td>\n",
       "      <td>XL</td>\n",
       "    </tr>\n",
       "    <tr>\n",
       "      <th>1</th>\n",
       "      <td>97</td>\n",
       "      <td>2</td>\n",
       "      <td>Shoes</td>\n",
       "      <td>H&amp;M</td>\n",
       "      <td>Women's Fashion</td>\n",
       "      <td>82</td>\n",
       "      <td>4.026416</td>\n",
       "      <td>Black</td>\n",
       "      <td>L</td>\n",
       "    </tr>\n",
       "    <tr>\n",
       "      <th>2</th>\n",
       "      <td>25</td>\n",
       "      <td>3</td>\n",
       "      <td>Dress</td>\n",
       "      <td>Adidas</td>\n",
       "      <td>Women's Fashion</td>\n",
       "      <td>44</td>\n",
       "      <td>3.337938</td>\n",
       "      <td>Yellow</td>\n",
       "      <td>XL</td>\n",
       "    </tr>\n",
       "    <tr>\n",
       "      <th>3</th>\n",
       "      <td>57</td>\n",
       "      <td>4</td>\n",
       "      <td>Shoes</td>\n",
       "      <td>Zara</td>\n",
       "      <td>Men's Fashion</td>\n",
       "      <td>23</td>\n",
       "      <td>1.049523</td>\n",
       "      <td>White</td>\n",
       "      <td>S</td>\n",
       "    </tr>\n",
       "    <tr>\n",
       "      <th>4</th>\n",
       "      <td>79</td>\n",
       "      <td>5</td>\n",
       "      <td>T-shirt</td>\n",
       "      <td>Adidas</td>\n",
       "      <td>Men's Fashion</td>\n",
       "      <td>79</td>\n",
       "      <td>4.302773</td>\n",
       "      <td>Black</td>\n",
       "      <td>M</td>\n",
       "    </tr>\n",
       "  </tbody>\n",
       "</table>\n",
       "</div>"
      ],
      "text/plain": [
       "   User ID  Product ID Product Name   Brand         Category  Price    Rating  \\\n",
       "0       19           1        Dress  Adidas    Men's Fashion     40  1.043159   \n",
       "1       97           2        Shoes     H&M  Women's Fashion     82  4.026416   \n",
       "2       25           3        Dress  Adidas  Women's Fashion     44  3.337938   \n",
       "3       57           4        Shoes    Zara    Men's Fashion     23  1.049523   \n",
       "4       79           5      T-shirt  Adidas    Men's Fashion     79  4.302773   \n",
       "\n",
       "    Color Size  \n",
       "0   Black   XL  \n",
       "1   Black    L  \n",
       "2  Yellow   XL  \n",
       "3   White    S  \n",
       "4   Black    M  "
      ]
     },
     "execution_count": 3,
     "metadata": {},
     "output_type": "execute_result"
    }
   ],
   "source": [
    "# Code task 1 - Gather data\n",
    "# Load CSV from a local file\n",
    "\n",
    "df = pd.read_csv('/Users/swatisharma/Documents/GitHub/Capstone_3/fashion_products.csv')\n",
    "df.head()"
   ]
  },
  {
   "cell_type": "markdown",
   "id": "68cc7272",
   "metadata": {},
   "source": [
    "# Inspect the Data"
   ]
  },
  {
   "cell_type": "code",
   "execution_count": 4,
   "id": "4a36a883",
   "metadata": {},
   "outputs": [
    {
     "data": {
      "text/plain": [
       "User ID          100\n",
       "Product ID      1000\n",
       "Product Name       5\n",
       "Brand              5\n",
       "Category           3\n",
       "Price             91\n",
       "Rating          1000\n",
       "Color              6\n",
       "Size               4\n",
       "dtype: int64"
      ]
     },
     "execution_count": 4,
     "metadata": {},
     "output_type": "execute_result"
    }
   ],
   "source": [
    "# Code task 2\n",
    "# Check if there are unique values for each column\n",
    "\n",
    "df.nunique()"
   ]
  },
  {
   "cell_type": "code",
   "execution_count": 5,
   "id": "3f108e15",
   "metadata": {},
   "outputs": [
    {
     "name": "stdout",
     "output_type": "stream",
     "text": [
      "(1000, 9)\n"
     ]
    }
   ],
   "source": [
    "# Code task 3\n",
    "# Check the shape of the data\n",
    "\n",
    "print(df.shape)"
   ]
  },
  {
   "cell_type": "code",
   "execution_count": 6,
   "id": "dc18558b",
   "metadata": {},
   "outputs": [
    {
     "name": "stdout",
     "output_type": "stream",
     "text": [
      "<class 'pandas.core.frame.DataFrame'>\n",
      "RangeIndex: 1000 entries, 0 to 999\n",
      "Data columns (total 9 columns):\n",
      " #   Column        Non-Null Count  Dtype  \n",
      "---  ------        --------------  -----  \n",
      " 0   User ID       1000 non-null   int64  \n",
      " 1   Product ID    1000 non-null   int64  \n",
      " 2   Product Name  1000 non-null   object \n",
      " 3   Brand         1000 non-null   object \n",
      " 4   Category      1000 non-null   object \n",
      " 5   Price         1000 non-null   int64  \n",
      " 6   Rating        1000 non-null   float64\n",
      " 7   Color         1000 non-null   object \n",
      " 8   Size          1000 non-null   object \n",
      "dtypes: float64(1), int64(3), object(5)\n",
      "memory usage: 70.4+ KB\n"
     ]
    }
   ],
   "source": [
    "# Code task 4\n",
    "# Check the format of all columns\n",
    "\n",
    "df.info()"
   ]
  },
  {
   "cell_type": "code",
   "execution_count": 7,
   "id": "289ba519",
   "metadata": {},
   "outputs": [
    {
     "data": {
      "text/plain": [
       "User ID         0\n",
       "Product ID      0\n",
       "Product Name    0\n",
       "Brand           0\n",
       "Category        0\n",
       "Price           0\n",
       "Rating          0\n",
       "Color           0\n",
       "Size            0\n",
       "dtype: int64"
      ]
     },
     "execution_count": 7,
     "metadata": {},
     "output_type": "execute_result"
    }
   ],
   "source": [
    "# Code task 5\n",
    "# Check if there are any missing values in the columns\n",
    "\n",
    "df.isnull().sum()"
   ]
  },
  {
   "cell_type": "code",
   "execution_count": 8,
   "id": "80b61ac6",
   "metadata": {},
   "outputs": [
    {
     "data": {
      "text/html": [
       "<div>\n",
       "<style scoped>\n",
       "    .dataframe tbody tr th:only-of-type {\n",
       "        vertical-align: middle;\n",
       "    }\n",
       "\n",
       "    .dataframe tbody tr th {\n",
       "        vertical-align: top;\n",
       "    }\n",
       "\n",
       "    .dataframe thead th {\n",
       "        text-align: right;\n",
       "    }\n",
       "</style>\n",
       "<table border=\"1\" class=\"dataframe\">\n",
       "  <thead>\n",
       "    <tr style=\"text-align: right;\">\n",
       "      <th></th>\n",
       "      <th>User ID</th>\n",
       "      <th>Product ID</th>\n",
       "      <th>Price</th>\n",
       "      <th>Rating</th>\n",
       "    </tr>\n",
       "  </thead>\n",
       "  <tbody>\n",
       "    <tr>\n",
       "      <th>count</th>\n",
       "      <td>1000.00000</td>\n",
       "      <td>1000.000000</td>\n",
       "      <td>1000.000000</td>\n",
       "      <td>1000.000000</td>\n",
       "    </tr>\n",
       "    <tr>\n",
       "      <th>mean</th>\n",
       "      <td>50.41900</td>\n",
       "      <td>500.500000</td>\n",
       "      <td>55.785000</td>\n",
       "      <td>2.993135</td>\n",
       "    </tr>\n",
       "    <tr>\n",
       "      <th>std</th>\n",
       "      <td>28.78131</td>\n",
       "      <td>288.819436</td>\n",
       "      <td>26.291748</td>\n",
       "      <td>1.153185</td>\n",
       "    </tr>\n",
       "    <tr>\n",
       "      <th>min</th>\n",
       "      <td>1.00000</td>\n",
       "      <td>1.000000</td>\n",
       "      <td>10.000000</td>\n",
       "      <td>1.000967</td>\n",
       "    </tr>\n",
       "    <tr>\n",
       "      <th>25%</th>\n",
       "      <td>26.00000</td>\n",
       "      <td>250.750000</td>\n",
       "      <td>33.000000</td>\n",
       "      <td>1.992786</td>\n",
       "    </tr>\n",
       "    <tr>\n",
       "      <th>50%</th>\n",
       "      <td>50.00000</td>\n",
       "      <td>500.500000</td>\n",
       "      <td>57.000000</td>\n",
       "      <td>2.984003</td>\n",
       "    </tr>\n",
       "    <tr>\n",
       "      <th>75%</th>\n",
       "      <td>75.00000</td>\n",
       "      <td>750.250000</td>\n",
       "      <td>78.250000</td>\n",
       "      <td>3.985084</td>\n",
       "    </tr>\n",
       "    <tr>\n",
       "      <th>max</th>\n",
       "      <td>100.00000</td>\n",
       "      <td>1000.000000</td>\n",
       "      <td>100.000000</td>\n",
       "      <td>4.987964</td>\n",
       "    </tr>\n",
       "  </tbody>\n",
       "</table>\n",
       "</div>"
      ],
      "text/plain": [
       "          User ID   Product ID        Price       Rating\n",
       "count  1000.00000  1000.000000  1000.000000  1000.000000\n",
       "mean     50.41900   500.500000    55.785000     2.993135\n",
       "std      28.78131   288.819436    26.291748     1.153185\n",
       "min       1.00000     1.000000    10.000000     1.000967\n",
       "25%      26.00000   250.750000    33.000000     1.992786\n",
       "50%      50.00000   500.500000    57.000000     2.984003\n",
       "75%      75.00000   750.250000    78.250000     3.985084\n",
       "max     100.00000  1000.000000   100.000000     4.987964"
      ]
     },
     "execution_count": 8,
     "metadata": {},
     "output_type": "execute_result"
    }
   ],
   "source": [
    "# Code task 6\n",
    "# Check the description of the numerical column in the DataFrame\n",
    "\n",
    "df.describe()"
   ]
  },
  {
   "cell_type": "code",
   "execution_count": 9,
   "id": "2541a72c",
   "metadata": {},
   "outputs": [
    {
     "data": {
      "text/html": [
       "<div>\n",
       "<style scoped>\n",
       "    .dataframe tbody tr th:only-of-type {\n",
       "        vertical-align: middle;\n",
       "    }\n",
       "\n",
       "    .dataframe tbody tr th {\n",
       "        vertical-align: top;\n",
       "    }\n",
       "\n",
       "    .dataframe thead th {\n",
       "        text-align: right;\n",
       "    }\n",
       "</style>\n",
       "<table border=\"1\" class=\"dataframe\">\n",
       "  <thead>\n",
       "    <tr style=\"text-align: right;\">\n",
       "      <th></th>\n",
       "      <th>User ID</th>\n",
       "      <th>Product ID</th>\n",
       "      <th>Price</th>\n",
       "      <th>Rating</th>\n",
       "    </tr>\n",
       "  </thead>\n",
       "  <tbody>\n",
       "    <tr>\n",
       "      <th>0</th>\n",
       "      <td>19</td>\n",
       "      <td>1</td>\n",
       "      <td>40</td>\n",
       "      <td>1.043159</td>\n",
       "    </tr>\n",
       "    <tr>\n",
       "      <th>1</th>\n",
       "      <td>97</td>\n",
       "      <td>2</td>\n",
       "      <td>82</td>\n",
       "      <td>4.026416</td>\n",
       "    </tr>\n",
       "    <tr>\n",
       "      <th>2</th>\n",
       "      <td>25</td>\n",
       "      <td>3</td>\n",
       "      <td>44</td>\n",
       "      <td>3.337938</td>\n",
       "    </tr>\n",
       "    <tr>\n",
       "      <th>3</th>\n",
       "      <td>57</td>\n",
       "      <td>4</td>\n",
       "      <td>23</td>\n",
       "      <td>1.049523</td>\n",
       "    </tr>\n",
       "    <tr>\n",
       "      <th>4</th>\n",
       "      <td>79</td>\n",
       "      <td>5</td>\n",
       "      <td>79</td>\n",
       "      <td>4.302773</td>\n",
       "    </tr>\n",
       "    <tr>\n",
       "      <th>...</th>\n",
       "      <td>...</td>\n",
       "      <td>...</td>\n",
       "      <td>...</td>\n",
       "      <td>...</td>\n",
       "    </tr>\n",
       "    <tr>\n",
       "      <th>995</th>\n",
       "      <td>20</td>\n",
       "      <td>996</td>\n",
       "      <td>55</td>\n",
       "      <td>1.620081</td>\n",
       "    </tr>\n",
       "    <tr>\n",
       "      <th>996</th>\n",
       "      <td>42</td>\n",
       "      <td>997</td>\n",
       "      <td>13</td>\n",
       "      <td>1.544464</td>\n",
       "    </tr>\n",
       "    <tr>\n",
       "      <th>997</th>\n",
       "      <td>9</td>\n",
       "      <td>998</td>\n",
       "      <td>47</td>\n",
       "      <td>3.961913</td>\n",
       "    </tr>\n",
       "    <tr>\n",
       "      <th>998</th>\n",
       "      <td>8</td>\n",
       "      <td>999</td>\n",
       "      <td>68</td>\n",
       "      <td>3.089722</td>\n",
       "    </tr>\n",
       "    <tr>\n",
       "      <th>999</th>\n",
       "      <td>91</td>\n",
       "      <td>1000</td>\n",
       "      <td>79</td>\n",
       "      <td>3.093553</td>\n",
       "    </tr>\n",
       "  </tbody>\n",
       "</table>\n",
       "<p>1000 rows × 4 columns</p>\n",
       "</div>"
      ],
      "text/plain": [
       "     User ID  Product ID  Price    Rating\n",
       "0         19           1     40  1.043159\n",
       "1         97           2     82  4.026416\n",
       "2         25           3     44  3.337938\n",
       "3         57           4     23  1.049523\n",
       "4         79           5     79  4.302773\n",
       "..       ...         ...    ...       ...\n",
       "995       20         996     55  1.620081\n",
       "996       42         997     13  1.544464\n",
       "997        9         998     47  3.961913\n",
       "998        8         999     68  3.089722\n",
       "999       91        1000     79  3.093553\n",
       "\n",
       "[1000 rows x 4 columns]"
      ]
     },
     "execution_count": 9,
     "metadata": {},
     "output_type": "execute_result"
    }
   ],
   "source": [
    "# Code task 7\n",
    "# Use df's`select_dtypes` method to select only numeric columns\n",
    "\n",
    "df.select_dtypes(include = \"number\")"
   ]
  },
  {
   "cell_type": "code",
   "execution_count": 10,
   "id": "edd75648",
   "metadata": {},
   "outputs": [
    {
     "data": {
      "text/plain": [
       "Brand\n",
       "Nike      214\n",
       "Zara      203\n",
       "Adidas    198\n",
       "H&M       194\n",
       "Gucci     191\n",
       "Name: count, dtype: int64"
      ]
     },
     "execution_count": 10,
     "metadata": {},
     "output_type": "execute_result"
    }
   ],
   "source": [
    "#Code task 8\n",
    "#Use pandas' Series method `value_counts` to check the frequency of a Brand occurred in the data\n",
    "\n",
    "df['Brand'].value_counts().head()"
   ]
  },
  {
   "cell_type": "code",
   "execution_count": 11,
   "id": "66bb0143",
   "metadata": {},
   "outputs": [
    {
     "data": {
      "text/html": [
       "<div>\n",
       "<style scoped>\n",
       "    .dataframe tbody tr th:only-of-type {\n",
       "        vertical-align: middle;\n",
       "    }\n",
       "\n",
       "    .dataframe tbody tr th {\n",
       "        vertical-align: top;\n",
       "    }\n",
       "\n",
       "    .dataframe thead th {\n",
       "        text-align: right;\n",
       "    }\n",
       "</style>\n",
       "<table border=\"1\" class=\"dataframe\">\n",
       "  <thead>\n",
       "    <tr style=\"text-align: right;\">\n",
       "      <th></th>\n",
       "      <th>count</th>\n",
       "      <th>mean</th>\n",
       "      <th>std</th>\n",
       "      <th>min</th>\n",
       "      <th>25%</th>\n",
       "      <th>50%</th>\n",
       "      <th>75%</th>\n",
       "      <th>max</th>\n",
       "    </tr>\n",
       "  </thead>\n",
       "  <tbody>\n",
       "    <tr>\n",
       "      <th>User ID</th>\n",
       "      <td>1000.0</td>\n",
       "      <td>50.419000</td>\n",
       "      <td>28.781310</td>\n",
       "      <td>1.000000</td>\n",
       "      <td>26.000000</td>\n",
       "      <td>50.000000</td>\n",
       "      <td>75.000000</td>\n",
       "      <td>100.000000</td>\n",
       "    </tr>\n",
       "    <tr>\n",
       "      <th>Product ID</th>\n",
       "      <td>1000.0</td>\n",
       "      <td>500.500000</td>\n",
       "      <td>288.819436</td>\n",
       "      <td>1.000000</td>\n",
       "      <td>250.750000</td>\n",
       "      <td>500.500000</td>\n",
       "      <td>750.250000</td>\n",
       "      <td>1000.000000</td>\n",
       "    </tr>\n",
       "    <tr>\n",
       "      <th>Price</th>\n",
       "      <td>1000.0</td>\n",
       "      <td>55.785000</td>\n",
       "      <td>26.291748</td>\n",
       "      <td>10.000000</td>\n",
       "      <td>33.000000</td>\n",
       "      <td>57.000000</td>\n",
       "      <td>78.250000</td>\n",
       "      <td>100.000000</td>\n",
       "    </tr>\n",
       "    <tr>\n",
       "      <th>Rating</th>\n",
       "      <td>1000.0</td>\n",
       "      <td>2.993135</td>\n",
       "      <td>1.153185</td>\n",
       "      <td>1.000967</td>\n",
       "      <td>1.992786</td>\n",
       "      <td>2.984003</td>\n",
       "      <td>3.985084</td>\n",
       "      <td>4.987964</td>\n",
       "    </tr>\n",
       "  </tbody>\n",
       "</table>\n",
       "</div>"
      ],
      "text/plain": [
       "             count        mean         std        min         25%         50%  \\\n",
       "User ID     1000.0   50.419000   28.781310   1.000000   26.000000   50.000000   \n",
       "Product ID  1000.0  500.500000  288.819436   1.000000  250.750000  500.500000   \n",
       "Price       1000.0   55.785000   26.291748  10.000000   33.000000   57.000000   \n",
       "Rating      1000.0    2.993135    1.153185   1.000967    1.992786    2.984003   \n",
       "\n",
       "                   75%          max  \n",
       "User ID      75.000000   100.000000  \n",
       "Product ID  750.250000  1000.000000  \n",
       "Price        78.250000   100.000000  \n",
       "Rating        3.985084     4.987964  "
      ]
     },
     "execution_count": 11,
     "metadata": {},
     "output_type": "execute_result"
    }
   ],
   "source": [
    "# Code task 9\n",
    "# Call data's `describe` method for a statistical summary of the numerical columns\n",
    "# Hint: there are fewer summary stat columns than features, so displaying the transpose will be useful again\n",
    "\n",
    "df.describe().transpose()"
   ]
  },
  {
   "cell_type": "markdown",
   "id": "1d081516",
   "metadata": {},
   "source": [
    "# Distribution Of dataset\n",
    "Our primary focus is to observe the distribution of the data and display any outliers attributes in data."
   ]
  },
  {
   "cell_type": "markdown",
   "id": "aaf2611d",
   "metadata": {},
   "source": [
    "# Visualizing Numerical Data Distribution"
   ]
  },
  {
   "cell_type": "code",
   "execution_count": 12,
   "id": "d60c67dd",
   "metadata": {},
   "outputs": [
    {
     "data": {
      "text/plain": [
       "array([[<Axes: title={'center': 'User ID'}>,\n",
       "        <Axes: title={'center': 'Product ID'}>],\n",
       "       [<Axes: title={'center': 'Price'}>,\n",
       "        <Axes: title={'center': 'Rating'}>]], dtype=object)"
      ]
     },
     "execution_count": 12,
     "metadata": {},
     "output_type": "execute_result"
    },
    {
     "data": {
      "image/png": "[encoded data removed]",
      "text/plain": [
       "<Figure size 640x480 with 4 Axes>"
      ]
     },
     "metadata": {},
     "output_type": "display_data"
    }
   ],
   "source": [
    "# Code task 10\n",
    "# Call df_train's `hist` method to plot histograms to check if there are any outliers in columns\n",
    "\n",
    "df.hist()"
   ]
  },
  {
   "cell_type": "code",
   "execution_count": 13,
   "id": "fe7b4b92",
   "metadata": {},
   "outputs": [
    {
     "data": {
      "text/plain": [
       "<Axes: >"
      ]
     },
     "execution_count": 13,
     "metadata": {},
     "output_type": "execute_result"
    },
    {
     "data": {
      "image/png": "[encoded data removed]",
      "text/plain": [
       "<Figure size 640x480 with 1 Axes>"
      ]
     },
     "metadata": {},
     "output_type": "display_data"
    }
   ],
   "source": [
    "# Code task 11\n",
    "# Create a seaborn boxplot of the df dataframe we created above,to again confirm for the outliers\n",
    "# in each columns. This will use boxplot's data argument.\n",
    "# Compare the dataset - Our goal is to understand whether the distribution is symmetrical or skewed and display any outliers attributes in data.\n",
    "\n",
    "sns.boxplot(df)"
   ]
  },
  {
   "cell_type": "markdown",
   "id": "7375d30e",
   "metadata": {},
   "source": [
    "No outliers detected in all numeric columns including User ID, Product ID, Price, Rating"
   ]
  },
  {
   "cell_type": "markdown",
   "id": "87daf578",
   "metadata": {},
   "source": [
    "# Visualizing Categorical Data Distribution"
   ]
  },
  {
   "cell_type": "code",
   "execution_count": 14,
   "id": "e2fe27a3",
   "metadata": {},
   "outputs": [
    {
     "data": {
      "image/png": "[encoded data removed]",
      "text/plain": [
       "<Figure size 640x480 with 1 Axes>"
      ]
     },
     "metadata": {},
     "output_type": "display_data"
    }
   ],
   "source": [
    "# Code task 12\n",
    "# Use train data's `plot()` method to create a barplot with 'Category' on the x-axis \n",
    "# Shows frequency distribution of various Categories\n",
    "\n",
    "sns.countplot(x='Category', data=df)\n",
    "plt.title('Category Distribution')\n",
    "plt.xlabel('Category')\n",
    "plt.ylabel('Frequency')\n",
    "plt.show()"
   ]
  },
  {
   "cell_type": "code",
   "execution_count": 15,
   "id": "231dbb87",
   "metadata": {},
   "outputs": [
    {
     "data": {
      "image/png": "[encoded data removed]",
      "text/plain": [
       "<Figure size 640x480 with 1 Axes>"
      ]
     },
     "metadata": {},
     "output_type": "display_data"
    }
   ],
   "source": [
    "# Code task 13\n",
    "# Use train data's `plot()` method to create a barplot with 'Brand' on the x-axis \n",
    "# Shows frequency distribution of various Brands\n",
    "\n",
    "sns.countplot(x='Brand', data=df)\n",
    "plt.title('Brand Distribution')\n",
    "plt.xlabel('Brand Name')\n",
    "plt.ylabel('Frequency')\n",
    "plt.show()"
   ]
  },
  {
   "cell_type": "code",
   "execution_count": 16,
   "id": "e2cc0586",
   "metadata": {},
   "outputs": [
    {
     "data": {
      "image/png": "[encoded data removed]",
      "text/plain": [
       "<Figure size 640x480 with 1 Axes>"
      ]
     },
     "metadata": {},
     "output_type": "display_data"
    }
   ],
   "source": [
    "# Code task 14\n",
    "# Use train data's `plot()` method to create a barplot with 'Product Name' on the x-axis \n",
    "# Shows frequency distribution of various Products\n",
    "\n",
    "sns.countplot(x='Product Name', data=df)\n",
    "plt.title('Product Distribution')\n",
    "plt.xlabel('Product Name')\n",
    "plt.ylabel('Frequency')\n",
    "plt.show()"
   ]
  },
  {
   "cell_type": "code",
   "execution_count": 17,
   "id": "d2f367c7",
   "metadata": {},
   "outputs": [
    {
     "data": {
      "image/png": "[encoded data removed]",
      "text/plain": [
       "<Figure size 640x480 with 1 Axes>"
      ]
     },
     "metadata": {},
     "output_type": "display_data"
    }
   ],
   "source": [
    "# Code task 15\n",
    "# Use train data's `plot()` method to create a barplot with 'Product Name' on the x-axis \n",
    "# Shows frequency distribution of various Products in terms of size\n",
    "\n",
    "sns.countplot(x='Product Name', hue = \"Size\", data=df)\n",
    "plt.title('Product - Size Distribution')\n",
    "plt.xlabel('Product Name')\n",
    "plt.ylabel('Frequency')\n",
    "plt.show()"
   ]
  },
  {
   "cell_type": "code",
   "execution_count": 18,
   "id": "790db52f",
   "metadata": {},
   "outputs": [
    {
     "data": {
      "image/png": "[encoded data removed]",
      "text/plain": [
       "<Figure size 640x480 with 1 Axes>"
      ]
     },
     "metadata": {},
     "output_type": "display_data"
    }
   ],
   "source": [
    "# Code task 16\n",
    "# Use train data's `plot()` method to create a barplot with 'Product Name' on the x-axis \n",
    "# Shows frequency distribution of various Products in terms of Color\n",
    "\n",
    "sns.countplot(x='Product Name', hue = \"Color\", data=df)\n",
    "plt.title('Product - Color Distribution')\n",
    "plt.xlabel('Product name')\n",
    "plt.ylabel('Frequency')\n",
    "plt.show()"
   ]
  },
  {
   "cell_type": "markdown",
   "id": "178142a1",
   "metadata": {},
   "source": [
    "# Plot Summary and Conclusions \n",
    "Based on the above histogram, box plot (Numerical variables) and bar plot (Categorical variables), we can make the following conclusions:\n",
    "\n",
    "Above plot clearly depicts that the distribution of data is multi-modal that has multiple peaks and also the length of two whiskers are varied.\n",
    "\n",
    "There are no outliers present in the data.\n",
    "\n",
    "The frequency of Kid's fashion is slight higher than the men's and women's fashion.\n",
    "\n",
    "Among all the brands, the count of Nike products are slightly higher than other brands.\n",
    "\n",
    "Products such as Jeans, shoes and t-shirts are more popular in this dataset.\n",
    "\n",
    "In product jeans, XL seems most popular. M size tops the list in two product categories, shoes and t-shirts. \n",
    "\n",
    "Color White seems extremely popular in shoes and t-shirt categories. "
   ]
  },
  {
   "cell_type": "markdown",
   "id": "88a60d32",
   "metadata": {},
   "source": [
    "# Rating for each Product ID"
   ]
  },
  {
   "cell_type": "markdown",
   "id": "1e5e0ac9",
   "metadata": {},
   "source": [
    "Distribution of Rating per Product ID, shows how rating for each Product ID look like?"
   ]
  },
  {
   "cell_type": "code",
   "execution_count": 37,
   "id": "20f2016e",
   "metadata": {},
   "outputs": [
    {
     "data": {
      "text/html": [
       "<div>\n",
       "<style scoped>\n",
       "    .dataframe tbody tr th:only-of-type {\n",
       "        vertical-align: middle;\n",
       "    }\n",
       "\n",
       "    .dataframe tbody tr th {\n",
       "        vertical-align: top;\n",
       "    }\n",
       "\n",
       "    .dataframe thead th {\n",
       "        text-align: right;\n",
       "    }\n",
       "</style>\n",
       "<table border=\"1\" class=\"dataframe\">\n",
       "  <thead>\n",
       "    <tr style=\"text-align: right;\">\n",
       "      <th></th>\n",
       "      <th>User ID</th>\n",
       "      <th>Product Name</th>\n",
       "      <th>Brand</th>\n",
       "      <th>Category</th>\n",
       "      <th>Price</th>\n",
       "      <th>Rating</th>\n",
       "      <th>Color</th>\n",
       "      <th>Size</th>\n",
       "    </tr>\n",
       "    <tr>\n",
       "      <th>Product ID</th>\n",
       "      <th></th>\n",
       "      <th></th>\n",
       "      <th></th>\n",
       "      <th></th>\n",
       "      <th></th>\n",
       "      <th></th>\n",
       "      <th></th>\n",
       "      <th></th>\n",
       "    </tr>\n",
       "  </thead>\n",
       "  <tbody>\n",
       "    <tr>\n",
       "      <th>1</th>\n",
       "      <td>19</td>\n",
       "      <td>Dress</td>\n",
       "      <td>Adidas</td>\n",
       "      <td>Men's Fashion</td>\n",
       "      <td>40</td>\n",
       "      <td>1.043159</td>\n",
       "      <td>Black</td>\n",
       "      <td>XL</td>\n",
       "    </tr>\n",
       "    <tr>\n",
       "      <th>2</th>\n",
       "      <td>97</td>\n",
       "      <td>Shoes</td>\n",
       "      <td>H&amp;M</td>\n",
       "      <td>Women's Fashion</td>\n",
       "      <td>82</td>\n",
       "      <td>4.026416</td>\n",
       "      <td>Black</td>\n",
       "      <td>L</td>\n",
       "    </tr>\n",
       "    <tr>\n",
       "      <th>3</th>\n",
       "      <td>25</td>\n",
       "      <td>Dress</td>\n",
       "      <td>Adidas</td>\n",
       "      <td>Women's Fashion</td>\n",
       "      <td>44</td>\n",
       "      <td>3.337938</td>\n",
       "      <td>Yellow</td>\n",
       "      <td>XL</td>\n",
       "    </tr>\n",
       "    <tr>\n",
       "      <th>4</th>\n",
       "      <td>57</td>\n",
       "      <td>Shoes</td>\n",
       "      <td>Zara</td>\n",
       "      <td>Men's Fashion</td>\n",
       "      <td>23</td>\n",
       "      <td>1.049523</td>\n",
       "      <td>White</td>\n",
       "      <td>S</td>\n",
       "    </tr>\n",
       "    <tr>\n",
       "      <th>5</th>\n",
       "      <td>79</td>\n",
       "      <td>T-shirt</td>\n",
       "      <td>Adidas</td>\n",
       "      <td>Men's Fashion</td>\n",
       "      <td>79</td>\n",
       "      <td>4.302773</td>\n",
       "      <td>Black</td>\n",
       "      <td>M</td>\n",
       "    </tr>\n",
       "    <tr>\n",
       "      <th>...</th>\n",
       "      <td>...</td>\n",
       "      <td>...</td>\n",
       "      <td>...</td>\n",
       "      <td>...</td>\n",
       "      <td>...</td>\n",
       "      <td>...</td>\n",
       "      <td>...</td>\n",
       "      <td>...</td>\n",
       "    </tr>\n",
       "    <tr>\n",
       "      <th>996</th>\n",
       "      <td>20</td>\n",
       "      <td>Shoes</td>\n",
       "      <td>Zara</td>\n",
       "      <td>Women's Fashion</td>\n",
       "      <td>55</td>\n",
       "      <td>1.620081</td>\n",
       "      <td>Black</td>\n",
       "      <td>M</td>\n",
       "    </tr>\n",
       "    <tr>\n",
       "      <th>997</th>\n",
       "      <td>42</td>\n",
       "      <td>Sweater</td>\n",
       "      <td>Nike</td>\n",
       "      <td>Kids' Fashion</td>\n",
       "      <td>13</td>\n",
       "      <td>1.544464</td>\n",
       "      <td>Green</td>\n",
       "      <td>L</td>\n",
       "    </tr>\n",
       "    <tr>\n",
       "      <th>998</th>\n",
       "      <td>9</td>\n",
       "      <td>Sweater</td>\n",
       "      <td>Zara</td>\n",
       "      <td>Men's Fashion</td>\n",
       "      <td>47</td>\n",
       "      <td>3.961913</td>\n",
       "      <td>White</td>\n",
       "      <td>L</td>\n",
       "    </tr>\n",
       "    <tr>\n",
       "      <th>999</th>\n",
       "      <td>8</td>\n",
       "      <td>T-shirt</td>\n",
       "      <td>Zara</td>\n",
       "      <td>Women's Fashion</td>\n",
       "      <td>68</td>\n",
       "      <td>3.089722</td>\n",
       "      <td>Blue</td>\n",
       "      <td>S</td>\n",
       "    </tr>\n",
       "    <tr>\n",
       "      <th>1000</th>\n",
       "      <td>91</td>\n",
       "      <td>Shoes</td>\n",
       "      <td>Adidas</td>\n",
       "      <td>Women's Fashion</td>\n",
       "      <td>79</td>\n",
       "      <td>3.093553</td>\n",
       "      <td>White</td>\n",
       "      <td>L</td>\n",
       "    </tr>\n",
       "  </tbody>\n",
       "</table>\n",
       "<p>1000 rows × 8 columns</p>\n",
       "</div>"
      ],
      "text/plain": [
       "            User ID Product Name   Brand         Category  Price    Rating  \\\n",
       "Product ID                                                                   \n",
       "1                19        Dress  Adidas    Men's Fashion     40  1.043159   \n",
       "2                97        Shoes     H&M  Women's Fashion     82  4.026416   \n",
       "3                25        Dress  Adidas  Women's Fashion     44  3.337938   \n",
       "4                57        Shoes    Zara    Men's Fashion     23  1.049523   \n",
       "5                79      T-shirt  Adidas    Men's Fashion     79  4.302773   \n",
       "...             ...          ...     ...              ...    ...       ...   \n",
       "996              20        Shoes    Zara  Women's Fashion     55  1.620081   \n",
       "997              42      Sweater    Nike    Kids' Fashion     13  1.544464   \n",
       "998               9      Sweater    Zara    Men's Fashion     47  3.961913   \n",
       "999               8      T-shirt    Zara  Women's Fashion     68  3.089722   \n",
       "1000             91        Shoes  Adidas  Women's Fashion     79  3.093553   \n",
       "\n",
       "             Color Size  \n",
       "Product ID               \n",
       "1            Black   XL  \n",
       "2            Black    L  \n",
       "3           Yellow   XL  \n",
       "4            White    S  \n",
       "5            Black    M  \n",
       "...            ...  ...  \n",
       "996          Black    M  \n",
       "997          Green    L  \n",
       "998          White    L  \n",
       "999           Blue    S  \n",
       "1000         White    L  \n",
       "\n",
       "[1000 rows x 8 columns]"
      ]
     },
     "execution_count": 37,
     "metadata": {},
     "output_type": "execute_result"
    }
   ],
   "source": [
    "# Code task 21\n",
    "\n",
    "df_train = df.set_index('Product ID')\n",
    "df_train"
   ]
  },
  {
   "cell_type": "code",
   "execution_count": 38,
   "id": "32b48d96",
   "metadata": {},
   "outputs": [
    {
     "data": {
      "text/plain": [
       "501    4.987964\n",
       "417    4.986091\n",
       "578    4.985950\n",
       "198    4.980656\n",
       "703    4.979678\n",
       "Name: Rating, dtype: float64"
      ]
     },
     "execution_count": 38,
     "metadata": {},
     "output_type": "execute_result"
    }
   ],
   "source": [
    "# Code task 22\n",
    "\n",
    "df.Rating.sort_values(ascending=False).head()"
   ]
  },
  {
   "cell_type": "markdown",
   "id": "dc3648fd",
   "metadata": {},
   "source": [
    "Product ID 501, 417, 578 dominates per Rating."
   ]
  },
  {
   "cell_type": "markdown",
   "id": "ae50ab71",
   "metadata": {},
   "source": [
    "# Total Price distribution per Product ID"
   ]
  },
  {
   "cell_type": "code",
   "execution_count": 39,
   "id": "e55958ef",
   "metadata": {},
   "outputs": [
    {
     "data": {
      "text/plain": [
       "268    100\n",
       "868    100\n",
       "711    100\n",
       "937    100\n",
       "91     100\n",
       "      ... \n",
       "927     10\n",
       "558     10\n",
       "728     10\n",
       "603     10\n",
       "131     10\n",
       "Name: Price, Length: 1000, dtype: int64"
      ]
     },
     "execution_count": 39,
     "metadata": {},
     "output_type": "execute_result"
    }
   ],
   "source": [
    "# Code task 23\n",
    "\n",
    "df.Price.sort_values(ascending=False)"
   ]
  },
  {
   "cell_type": "markdown",
   "id": "0a7af4da",
   "metadata": {},
   "source": [
    "Product ID 268, 868, 711 are among top three products that are most expensive."
   ]
  },
  {
   "cell_type": "code",
   "execution_count": 40,
   "id": "f9cfafef",
   "metadata": {},
   "outputs": [
    {
     "data": {
      "image/png": "[encoded data removed]",
      "text/plain": [
       "<Figure size 640x480 with 1 Axes>"
      ]
     },
     "metadata": {},
     "output_type": "display_data"
    }
   ],
   "source": [
    "# Code task 24\n",
    "# Call df_train's `hist` method to plot histograms to view the distribution of Rating per product ID\n",
    "\n",
    "df.Rating.hist(bins = 50)\n",
    "plt.xlabel('Rating')\n",
    "plt.ylabel('count');"
   ]
  },
  {
   "cell_type": "markdown",
   "id": "7c7badb9",
   "metadata": {},
   "source": [
    "# Feature correlation heatmap"
   ]
  },
  {
   "cell_type": "markdown",
   "id": "e1eea92f",
   "metadata": {},
   "source": [
    "Use the heatmap to uncover relationships between features and understand the underlying structure of the data."
   ]
  },
  {
   "cell_type": "code",
   "execution_count": 43,
   "id": "a267c7d2",
   "metadata": {},
   "outputs": [
    {
     "data": {
      "text/html": [
       "<div>\n",
       "<style scoped>\n",
       "    .dataframe tbody tr th:only-of-type {\n",
       "        vertical-align: middle;\n",
       "    }\n",
       "\n",
       "    .dataframe tbody tr th {\n",
       "        vertical-align: top;\n",
       "    }\n",
       "\n",
       "    .dataframe thead th {\n",
       "        text-align: right;\n",
       "    }\n",
       "</style>\n",
       "<table border=\"1\" class=\"dataframe\">\n",
       "  <thead>\n",
       "    <tr style=\"text-align: right;\">\n",
       "      <th></th>\n",
       "      <th>User ID</th>\n",
       "      <th>Product ID</th>\n",
       "      <th>Price</th>\n",
       "      <th>Rating</th>\n",
       "    </tr>\n",
       "  </thead>\n",
       "  <tbody>\n",
       "    <tr>\n",
       "      <th>User ID</th>\n",
       "      <td>1.000000</td>\n",
       "      <td>-0.021075</td>\n",
       "      <td>0.003363</td>\n",
       "      <td>0.044837</td>\n",
       "    </tr>\n",
       "    <tr>\n",
       "      <th>Product ID</th>\n",
       "      <td>-0.021075</td>\n",
       "      <td>1.000000</td>\n",
       "      <td>0.034602</td>\n",
       "      <td>0.033896</td>\n",
       "    </tr>\n",
       "    <tr>\n",
       "      <th>Price</th>\n",
       "      <td>0.003363</td>\n",
       "      <td>0.034602</td>\n",
       "      <td>1.000000</td>\n",
       "      <td>0.033927</td>\n",
       "    </tr>\n",
       "    <tr>\n",
       "      <th>Rating</th>\n",
       "      <td>0.044837</td>\n",
       "      <td>0.033896</td>\n",
       "      <td>0.033927</td>\n",
       "      <td>1.000000</td>\n",
       "    </tr>\n",
       "  </tbody>\n",
       "</table>\n",
       "</div>"
      ],
      "text/plain": [
       "             User ID  Product ID     Price    Rating\n",
       "User ID     1.000000   -0.021075  0.003363  0.044837\n",
       "Product ID -0.021075    1.000000  0.034602  0.033896\n",
       "Price       0.003363    0.034602  1.000000  0.033927\n",
       "Rating      0.044837    0.033896  0.033927  1.000000"
      ]
     },
     "execution_count": 43,
     "metadata": {},
     "output_type": "execute_result"
    }
   ],
   "source": [
    "#Code task 32\n",
    "\n",
    "# Compute the correlation matrix\n",
    "\n",
    "correlation_matrix = df.corr(numeric_only=True)\n",
    "correlation_matrix.head()"
   ]
  },
  {
   "cell_type": "code",
   "execution_count": 42,
   "id": "eb8fdf1d",
   "metadata": {},
   "outputs": [
    {
     "data": {
      "image/png": "[encoded data removed]",
      "text/plain": [
       "<Figure size 1200x1000 with 2 Axes>"
      ]
     },
     "metadata": {},
     "output_type": "display_data"
    }
   ],
   "source": [
    "#Code task 33\n",
    "\n",
    "plt.subplots(figsize=(12,10))\n",
    "sns.heatmap(df.corr(numeric_only=True));"
   ]
  },
  {
   "cell_type": "markdown",
   "id": "f2772e7e",
   "metadata": {},
   "source": [
    "As per Feature Heatmap above, there is no correlation between numeric features."
   ]
  },
  {
   "cell_type": "code",
   "execution_count": 44,
   "id": "e63f9c20",
   "metadata": {},
   "outputs": [],
   "source": [
    "#Code task 34\n",
    "#Save the data to a new csv file\n",
    "\n",
    "df.to_csv('df_features.csv', index=False)"
   ]
  },
  {
   "cell_type": "code",
   "execution_count": null,
   "id": "8b636ff6",
   "metadata": {},
   "outputs": [],
   "source": []
  }
 ],
 "metadata": {
  "kernelspec": {
   "display_name": "Python 3 (ipykernel)",
   "language": "python",
   "name": "python3"
  },
  "language_info": {
   "codemirror_mode": {
    "name": "ipython",
    "version": 3
   },
   "file_extension": ".py",
   "mimetype": "text/x-python",
   "name": "python",
   "nbconvert_exporter": "python",
   "pygments_lexer": "ipython3",
   "version": "3.11.7"
  }
 },
 "nbformat": 4,
 "nbformat_minor": 5
}
