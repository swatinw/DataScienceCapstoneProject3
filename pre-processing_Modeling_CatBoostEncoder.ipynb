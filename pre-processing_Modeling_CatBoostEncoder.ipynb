{
 "cells": [
  {
   "cell_type": "markdown",
   "id": "8a162d78",
   "metadata": {},
   "source": [
    "# Import Libraries "
   ]
  },
  {
   "cell_type": "code",
   "execution_count": 1,
   "id": "db9e6ee4",
   "metadata": {},
   "outputs": [
    {
     "name": "stdout",
     "output_type": "stream",
     "text": [
      "Requirement already satisfied: scikit-learn in /opt/anaconda3/lib/python3.11/site-packages (1.6.1)\n",
      "Requirement already satisfied: xgboost in /opt/anaconda3/lib/python3.11/site-packages (3.0.0)\n",
      "Requirement already satisfied: numpy>=1.19.5 in /opt/anaconda3/lib/python3.11/site-packages (from scikit-learn) (1.26.4)\n",
      "Requirement already satisfied: scipy>=1.6.0 in /opt/anaconda3/lib/python3.11/site-packages (from scikit-learn) (1.11.4)\n",
      "Requirement already satisfied: joblib>=1.2.0 in /opt/anaconda3/lib/python3.11/site-packages (from scikit-learn) (1.4.2)\n",
      "Requirement already satisfied: threadpoolctl>=3.1.0 in /opt/anaconda3/lib/python3.11/site-packages (from scikit-learn) (3.5.0)\n",
      "\n",
      "\u001b[1m[\u001b[0m\u001b[34;49mnotice\u001b[0m\u001b[1;39;49m]\u001b[0m\u001b[39;49m A new release of pip is available: \u001b[0m\u001b[31;49m24.3.1\u001b[0m\u001b[39;49m -> \u001b[0m\u001b[32;49m25.0.1\u001b[0m\n",
      "\u001b[1m[\u001b[0m\u001b[34;49mnotice\u001b[0m\u001b[1;39;49m]\u001b[0m\u001b[39;49m To update, run: \u001b[0m\u001b[32;49mpip install --upgrade pip\u001b[0m\n",
      "Note: you may need to restart the kernel to use updated packages.\n"
     ]
    }
   ],
   "source": [
    "pip install -U scikit-learn xgboost"
   ]
  },
  {
   "cell_type": "code",
   "execution_count": 2,
   "id": "e9f3e2fb",
   "metadata": {},
   "outputs": [],
   "source": [
    "import pandas as pd\n",
    "import matplotlib.pyplot as plt\n",
    "import seaborn as sns\n",
    "import os\n",
    "import numpy as np\n",
    "from sklearn.decomposition import PCA\n",
    "from sklearn.preprocessing import scale\n",
    "\n",
    "\n",
    "import pickle\n",
    "\n",
    "from sklearn import __version__ as sklearn_version\n",
    "from sklearn.model_selection import train_test_split, cross_validate, GridSearchCV, learning_curve\n",
    "from sklearn.preprocessing import StandardScaler, MinMaxScaler\n",
    "from sklearn.dummy import DummyRegressor\n",
    "from sklearn.linear_model import LinearRegression\n",
    "from sklearn.ensemble import RandomForestRegressor\n",
    "from sklearn.metrics import r2_score, mean_squared_error, mean_absolute_error\n",
    "from sklearn.pipeline import make_pipeline\n",
    "from sklearn.impute import SimpleImputer\n",
    "from sklearn.feature_selection import SelectKBest, f_regression\n",
    "import datetime\n",
    "from sklearn.metrics import accuracy_score\n",
    "\n",
    "\n",
    "# Show plots inline\n",
    "%matplotlib inline"
   ]
  },
  {
   "cell_type": "code",
   "execution_count": 3,
   "id": "5babddff",
   "metadata": {},
   "outputs": [],
   "source": [
    "import warnings\n",
    "warnings.simplefilter(action='ignore', category=FutureWarning)\n",
    "warnings.simplefilter(action='ignore', category=UserWarning)"
   ]
  },
  {
   "cell_type": "markdown",
   "id": "ea57e344",
   "metadata": {},
   "source": [
    "# Data Collection and Acquisition"
   ]
  },
  {
   "cell_type": "code",
   "execution_count": 4,
   "id": "41ad96f4",
   "metadata": {},
   "outputs": [
    {
     "data": {
      "text/html": [
       "<div>\n",
       "<style scoped>\n",
       "    .dataframe tbody tr th:only-of-type {\n",
       "        vertical-align: middle;\n",
       "    }\n",
       "\n",
       "    .dataframe tbody tr th {\n",
       "        vertical-align: top;\n",
       "    }\n",
       "\n",
       "    .dataframe thead th {\n",
       "        text-align: right;\n",
       "    }\n",
       "</style>\n",
       "<table border=\"1\" class=\"dataframe\">\n",
       "  <thead>\n",
       "    <tr style=\"text-align: right;\">\n",
       "      <th></th>\n",
       "      <th>User ID</th>\n",
       "      <th>Product ID</th>\n",
       "      <th>Product Name</th>\n",
       "      <th>Brand</th>\n",
       "      <th>Category</th>\n",
       "      <th>Price</th>\n",
       "      <th>Rating</th>\n",
       "      <th>Color</th>\n",
       "      <th>Size</th>\n",
       "    </tr>\n",
       "  </thead>\n",
       "  <tbody>\n",
       "    <tr>\n",
       "      <th>0</th>\n",
       "      <td>19</td>\n",
       "      <td>1</td>\n",
       "      <td>Dress</td>\n",
       "      <td>Adidas</td>\n",
       "      <td>Men's Fashion</td>\n",
       "      <td>40</td>\n",
       "      <td>1.043159</td>\n",
       "      <td>Black</td>\n",
       "      <td>XL</td>\n",
       "    </tr>\n",
       "    <tr>\n",
       "      <th>1</th>\n",
       "      <td>97</td>\n",
       "      <td>2</td>\n",
       "      <td>Shoes</td>\n",
       "      <td>H&amp;M</td>\n",
       "      <td>Women's Fashion</td>\n",
       "      <td>82</td>\n",
       "      <td>4.026416</td>\n",
       "      <td>Black</td>\n",
       "      <td>L</td>\n",
       "    </tr>\n",
       "    <tr>\n",
       "      <th>2</th>\n",
       "      <td>25</td>\n",
       "      <td>3</td>\n",
       "      <td>Dress</td>\n",
       "      <td>Adidas</td>\n",
       "      <td>Women's Fashion</td>\n",
       "      <td>44</td>\n",
       "      <td>3.337938</td>\n",
       "      <td>Yellow</td>\n",
       "      <td>XL</td>\n",
       "    </tr>\n",
       "    <tr>\n",
       "      <th>3</th>\n",
       "      <td>57</td>\n",
       "      <td>4</td>\n",
       "      <td>Shoes</td>\n",
       "      <td>Zara</td>\n",
       "      <td>Men's Fashion</td>\n",
       "      <td>23</td>\n",
       "      <td>1.049523</td>\n",
       "      <td>White</td>\n",
       "      <td>S</td>\n",
       "    </tr>\n",
       "    <tr>\n",
       "      <th>4</th>\n",
       "      <td>79</td>\n",
       "      <td>5</td>\n",
       "      <td>T-shirt</td>\n",
       "      <td>Adidas</td>\n",
       "      <td>Men's Fashion</td>\n",
       "      <td>79</td>\n",
       "      <td>4.302773</td>\n",
       "      <td>Black</td>\n",
       "      <td>M</td>\n",
       "    </tr>\n",
       "    <tr>\n",
       "      <th>5</th>\n",
       "      <td>98</td>\n",
       "      <td>6</td>\n",
       "      <td>Dress</td>\n",
       "      <td>Adidas</td>\n",
       "      <td>Men's Fashion</td>\n",
       "      <td>47</td>\n",
       "      <td>1.379566</td>\n",
       "      <td>Yellow</td>\n",
       "      <td>L</td>\n",
       "    </tr>\n",
       "    <tr>\n",
       "      <th>6</th>\n",
       "      <td>16</td>\n",
       "      <td>7</td>\n",
       "      <td>Jeans</td>\n",
       "      <td>Gucci</td>\n",
       "      <td>Men's Fashion</td>\n",
       "      <td>37</td>\n",
       "      <td>1.356750</td>\n",
       "      <td>White</td>\n",
       "      <td>XL</td>\n",
       "    </tr>\n",
       "    <tr>\n",
       "      <th>7</th>\n",
       "      <td>63</td>\n",
       "      <td>8</td>\n",
       "      <td>Sweater</td>\n",
       "      <td>Zara</td>\n",
       "      <td>Kids' Fashion</td>\n",
       "      <td>64</td>\n",
       "      <td>4.360303</td>\n",
       "      <td>Blue</td>\n",
       "      <td>XL</td>\n",
       "    </tr>\n",
       "    <tr>\n",
       "      <th>8</th>\n",
       "      <td>96</td>\n",
       "      <td>9</td>\n",
       "      <td>Sweater</td>\n",
       "      <td>H&amp;M</td>\n",
       "      <td>Men's Fashion</td>\n",
       "      <td>53</td>\n",
       "      <td>4.466182</td>\n",
       "      <td>Green</td>\n",
       "      <td>XL</td>\n",
       "    </tr>\n",
       "    <tr>\n",
       "      <th>9</th>\n",
       "      <td>36</td>\n",
       "      <td>10</td>\n",
       "      <td>T-shirt</td>\n",
       "      <td>Zara</td>\n",
       "      <td>Kids' Fashion</td>\n",
       "      <td>55</td>\n",
       "      <td>4.093234</td>\n",
       "      <td>White</td>\n",
       "      <td>XL</td>\n",
       "    </tr>\n",
       "  </tbody>\n",
       "</table>\n",
       "</div>"
      ],
      "text/plain": [
       "   User ID  Product ID Product Name   Brand         Category  Price    Rating  \\\n",
       "0       19           1        Dress  Adidas    Men's Fashion     40  1.043159   \n",
       "1       97           2        Shoes     H&M  Women's Fashion     82  4.026416   \n",
       "2       25           3        Dress  Adidas  Women's Fashion     44  3.337938   \n",
       "3       57           4        Shoes    Zara    Men's Fashion     23  1.049523   \n",
       "4       79           5      T-shirt  Adidas    Men's Fashion     79  4.302773   \n",
       "5       98           6        Dress  Adidas    Men's Fashion     47  1.379566   \n",
       "6       16           7        Jeans   Gucci    Men's Fashion     37  1.356750   \n",
       "7       63           8      Sweater    Zara    Kids' Fashion     64  4.360303   \n",
       "8       96           9      Sweater     H&M    Men's Fashion     53  4.466182   \n",
       "9       36          10      T-shirt    Zara    Kids' Fashion     55  4.093234   \n",
       "\n",
       "    Color Size  \n",
       "0   Black   XL  \n",
       "1   Black    L  \n",
       "2  Yellow   XL  \n",
       "3   White    S  \n",
       "4   Black    M  \n",
       "5  Yellow    L  \n",
       "6   White   XL  \n",
       "7    Blue   XL  \n",
       "8   Green   XL  \n",
       "9   White   XL  "
      ]
     },
     "execution_count": 4,
     "metadata": {},
     "output_type": "execute_result"
    }
   ],
   "source": [
    "# Code task 1 - Gather data\n",
    "# Load CSV from a local file\n",
    "\n",
    "df = pd.read_csv('df_features.csv')\n",
    "df.head(10)"
   ]
  },
  {
   "cell_type": "code",
   "execution_count": 5,
   "id": "577469d4",
   "metadata": {},
   "outputs": [
    {
     "name": "stdout",
     "output_type": "stream",
     "text": [
      "   User ID  Product ID Product Name   Brand         Category  Price    Rating  \\\n",
      "0       19           1        Dress  Adidas    Men's Fashion     40  1.043159   \n",
      "1       97           2        Shoes     H&M  Women's Fashion     82  4.026416   \n",
      "2       25           3        Dress  Adidas  Women's Fashion     44  3.337938   \n",
      "3       57           4        Shoes    Zara    Men's Fashion     23  1.049523   \n",
      "4       79           5      T-shirt  Adidas    Men's Fashion     79  4.302773   \n",
      "\n",
      "    Color Size  \n",
      "0   Black   XL  \n",
      "1   Black    L  \n",
      "2  Yellow   XL  \n",
      "3   White    S  \n",
      "4   Black    M  \n"
     ]
    }
   ],
   "source": [
    "# Show the segmented DataFrame\n",
    "print(df.head())"
   ]
  },
  {
   "cell_type": "code",
   "execution_count": 6,
   "id": "dc18558b",
   "metadata": {},
   "outputs": [
    {
     "name": "stdout",
     "output_type": "stream",
     "text": [
      "<class 'pandas.core.frame.DataFrame'>\n",
      "RangeIndex: 1000 entries, 0 to 999\n",
      "Data columns (total 9 columns):\n",
      " #   Column        Non-Null Count  Dtype  \n",
      "---  ------        --------------  -----  \n",
      " 0   User ID       1000 non-null   int64  \n",
      " 1   Product ID    1000 non-null   int64  \n",
      " 2   Product Name  1000 non-null   object \n",
      " 3   Brand         1000 non-null   object \n",
      " 4   Category      1000 non-null   object \n",
      " 5   Price         1000 non-null   int64  \n",
      " 6   Rating        1000 non-null   float64\n",
      " 7   Color         1000 non-null   object \n",
      " 8   Size          1000 non-null   object \n",
      "dtypes: float64(1), int64(3), object(5)\n",
      "memory usage: 70.4+ KB\n"
     ]
    }
   ],
   "source": [
    "# Code task 4\n",
    "# Check the format of all columns\n",
    "\n",
    "df.info()"
   ]
  },
  {
   "cell_type": "markdown",
   "id": "b367db09",
   "metadata": {},
   "source": [
    "# Feature Encoding"
   ]
  },
  {
   "cell_type": "markdown",
   "id": "4c67da4d",
   "metadata": {},
   "source": [
    "# Handling Non-Numeric Features (Categorical variables)"
   ]
  },
  {
   "cell_type": "markdown",
   "id": "006eef38",
   "metadata": {},
   "source": [
    "Encoding all non-numeric features such as \"Product Name\", \"Brand\", \"Category\", \"Color\", \"Size\" and User ID into numeric values"
   ]
  },
  {
   "cell_type": "code",
   "execution_count": 7,
   "id": "172e320b",
   "metadata": {},
   "outputs": [],
   "source": [
    "import pandas as pd\n",
    "import category_encoders as ce\n",
    "from sklearn.model_selection import train_test_split\n",
    "from sklearn.ensemble import RandomForestRegressor\n",
    "from sklearn.metrics import mean_absolute_error, r2_score\n",
    "\n",
    "# Example dataset with multiple categorical features and a target variable 'Rating'\n",
    "\n",
    "# Create DataFrame\n",
    "df_full = pd.DataFrame(df)\n",
    "\n",
    "# Features and target\n",
    "X = df_full[['Product Name', 'Brand', 'Category', 'Color', 'Size', 'User ID']]\n",
    "y = df_full['Rating']\n",
    "\n",
    "# Initialize CatBoostEncoder\n",
    "encoder = ce.CatBoostEncoder(cols=['Product Name', 'Brand', 'Category', 'Color', 'Size', 'User ID'])\n",
    "\n",
    "# Fit and transform the training data\n",
    "X_encoded = encoder.fit_transform(X, y)\n",
    "\n",
    "# Rename the new encoded columns\n",
    "X_encoded.columns = ['Product Name_encoded', 'Brand_encoded', 'Category_encoded', 'Color_encoded', 'Size_encoded', 'User ID_encoded']\n",
    "\n",
    "# Drop the original categorical columns\n",
    "df_updated = df_full.drop(columns=['Product Name', 'Brand', 'Category', 'Color', 'Size', 'User ID'])\n",
    "\n",
    "# Join the encoded features back to the original DataFrame\n",
    "df_encoded = pd.concat([df_updated, X_encoded], axis=1)\n"
   ]
  },
  {
   "cell_type": "code",
   "execution_count": 8,
   "id": "d0ac9aa0",
   "metadata": {},
   "outputs": [
    {
     "data": {
      "text/html": [
       "<div>\n",
       "<style scoped>\n",
       "    .dataframe tbody tr th:only-of-type {\n",
       "        vertical-align: middle;\n",
       "    }\n",
       "\n",
       "    .dataframe tbody tr th {\n",
       "        vertical-align: top;\n",
       "    }\n",
       "\n",
       "    .dataframe thead th {\n",
       "        text-align: right;\n",
       "    }\n",
       "</style>\n",
       "<table border=\"1\" class=\"dataframe\">\n",
       "  <thead>\n",
       "    <tr style=\"text-align: right;\">\n",
       "      <th></th>\n",
       "      <th>User ID</th>\n",
       "      <th>Product ID</th>\n",
       "      <th>Product Name</th>\n",
       "      <th>Brand</th>\n",
       "      <th>Category</th>\n",
       "      <th>Price</th>\n",
       "      <th>Rating</th>\n",
       "      <th>Color</th>\n",
       "      <th>Size</th>\n",
       "    </tr>\n",
       "  </thead>\n",
       "  <tbody>\n",
       "    <tr>\n",
       "      <th>0</th>\n",
       "      <td>19</td>\n",
       "      <td>1</td>\n",
       "      <td>Dress</td>\n",
       "      <td>Adidas</td>\n",
       "      <td>Men's Fashion</td>\n",
       "      <td>40</td>\n",
       "      <td>1.043159</td>\n",
       "      <td>Black</td>\n",
       "      <td>XL</td>\n",
       "    </tr>\n",
       "    <tr>\n",
       "      <th>1</th>\n",
       "      <td>97</td>\n",
       "      <td>2</td>\n",
       "      <td>Shoes</td>\n",
       "      <td>H&amp;M</td>\n",
       "      <td>Women's Fashion</td>\n",
       "      <td>82</td>\n",
       "      <td>4.026416</td>\n",
       "      <td>Black</td>\n",
       "      <td>L</td>\n",
       "    </tr>\n",
       "    <tr>\n",
       "      <th>2</th>\n",
       "      <td>25</td>\n",
       "      <td>3</td>\n",
       "      <td>Dress</td>\n",
       "      <td>Adidas</td>\n",
       "      <td>Women's Fashion</td>\n",
       "      <td>44</td>\n",
       "      <td>3.337938</td>\n",
       "      <td>Yellow</td>\n",
       "      <td>XL</td>\n",
       "    </tr>\n",
       "    <tr>\n",
       "      <th>3</th>\n",
       "      <td>57</td>\n",
       "      <td>4</td>\n",
       "      <td>Shoes</td>\n",
       "      <td>Zara</td>\n",
       "      <td>Men's Fashion</td>\n",
       "      <td>23</td>\n",
       "      <td>1.049523</td>\n",
       "      <td>White</td>\n",
       "      <td>S</td>\n",
       "    </tr>\n",
       "    <tr>\n",
       "      <th>4</th>\n",
       "      <td>79</td>\n",
       "      <td>5</td>\n",
       "      <td>T-shirt</td>\n",
       "      <td>Adidas</td>\n",
       "      <td>Men's Fashion</td>\n",
       "      <td>79</td>\n",
       "      <td>4.302773</td>\n",
       "      <td>Black</td>\n",
       "      <td>M</td>\n",
       "    </tr>\n",
       "    <tr>\n",
       "      <th>...</th>\n",
       "      <td>...</td>\n",
       "      <td>...</td>\n",
       "      <td>...</td>\n",
       "      <td>...</td>\n",
       "      <td>...</td>\n",
       "      <td>...</td>\n",
       "      <td>...</td>\n",
       "      <td>...</td>\n",
       "      <td>...</td>\n",
       "    </tr>\n",
       "    <tr>\n",
       "      <th>995</th>\n",
       "      <td>20</td>\n",
       "      <td>996</td>\n",
       "      <td>Shoes</td>\n",
       "      <td>Zara</td>\n",
       "      <td>Women's Fashion</td>\n",
       "      <td>55</td>\n",
       "      <td>1.620081</td>\n",
       "      <td>Black</td>\n",
       "      <td>M</td>\n",
       "    </tr>\n",
       "    <tr>\n",
       "      <th>996</th>\n",
       "      <td>42</td>\n",
       "      <td>997</td>\n",
       "      <td>Sweater</td>\n",
       "      <td>Nike</td>\n",
       "      <td>Kids' Fashion</td>\n",
       "      <td>13</td>\n",
       "      <td>1.544464</td>\n",
       "      <td>Green</td>\n",
       "      <td>L</td>\n",
       "    </tr>\n",
       "    <tr>\n",
       "      <th>997</th>\n",
       "      <td>9</td>\n",
       "      <td>998</td>\n",
       "      <td>Sweater</td>\n",
       "      <td>Zara</td>\n",
       "      <td>Men's Fashion</td>\n",
       "      <td>47</td>\n",
       "      <td>3.961913</td>\n",
       "      <td>White</td>\n",
       "      <td>L</td>\n",
       "    </tr>\n",
       "    <tr>\n",
       "      <th>998</th>\n",
       "      <td>8</td>\n",
       "      <td>999</td>\n",
       "      <td>T-shirt</td>\n",
       "      <td>Zara</td>\n",
       "      <td>Women's Fashion</td>\n",
       "      <td>68</td>\n",
       "      <td>3.089722</td>\n",
       "      <td>Blue</td>\n",
       "      <td>S</td>\n",
       "    </tr>\n",
       "    <tr>\n",
       "      <th>999</th>\n",
       "      <td>91</td>\n",
       "      <td>1000</td>\n",
       "      <td>Shoes</td>\n",
       "      <td>Adidas</td>\n",
       "      <td>Women's Fashion</td>\n",
       "      <td>79</td>\n",
       "      <td>3.093553</td>\n",
       "      <td>White</td>\n",
       "      <td>L</td>\n",
       "    </tr>\n",
       "  </tbody>\n",
       "</table>\n",
       "<p>1000 rows × 9 columns</p>\n",
       "</div>"
      ],
      "text/plain": [
       "     User ID  Product ID Product Name   Brand         Category  Price  \\\n",
       "0         19           1        Dress  Adidas    Men's Fashion     40   \n",
       "1         97           2        Shoes     H&M  Women's Fashion     82   \n",
       "2         25           3        Dress  Adidas  Women's Fashion     44   \n",
       "3         57           4        Shoes    Zara    Men's Fashion     23   \n",
       "4         79           5      T-shirt  Adidas    Men's Fashion     79   \n",
       "..       ...         ...          ...     ...              ...    ...   \n",
       "995       20         996        Shoes    Zara  Women's Fashion     55   \n",
       "996       42         997      Sweater    Nike    Kids' Fashion     13   \n",
       "997        9         998      Sweater    Zara    Men's Fashion     47   \n",
       "998        8         999      T-shirt    Zara  Women's Fashion     68   \n",
       "999       91        1000        Shoes  Adidas  Women's Fashion     79   \n",
       "\n",
       "       Rating   Color Size  \n",
       "0    1.043159   Black   XL  \n",
       "1    4.026416   Black    L  \n",
       "2    3.337938  Yellow   XL  \n",
       "3    1.049523   White    S  \n",
       "4    4.302773   Black    M  \n",
       "..        ...     ...  ...  \n",
       "995  1.620081   Black    M  \n",
       "996  1.544464   Green    L  \n",
       "997  3.961913   White    L  \n",
       "998  3.089722    Blue    S  \n",
       "999  3.093553   White    L  \n",
       "\n",
       "[1000 rows x 9 columns]"
      ]
     },
     "execution_count": 8,
     "metadata": {},
     "output_type": "execute_result"
    }
   ],
   "source": [
    "df"
   ]
  },
  {
   "cell_type": "code",
   "execution_count": 9,
   "id": "9230d2e1",
   "metadata": {},
   "outputs": [
    {
     "data": {
      "text/html": [
       "<div>\n",
       "<style scoped>\n",
       "    .dataframe tbody tr th:only-of-type {\n",
       "        vertical-align: middle;\n",
       "    }\n",
       "\n",
       "    .dataframe tbody tr th {\n",
       "        vertical-align: top;\n",
       "    }\n",
       "\n",
       "    .dataframe thead th {\n",
       "        text-align: right;\n",
       "    }\n",
       "</style>\n",
       "<table border=\"1\" class=\"dataframe\">\n",
       "  <thead>\n",
       "    <tr style=\"text-align: right;\">\n",
       "      <th></th>\n",
       "      <th>Product ID</th>\n",
       "      <th>Price</th>\n",
       "      <th>Rating</th>\n",
       "      <th>Product Name_encoded</th>\n",
       "      <th>Brand_encoded</th>\n",
       "      <th>Category_encoded</th>\n",
       "      <th>Color_encoded</th>\n",
       "      <th>Size_encoded</th>\n",
       "      <th>User ID_encoded</th>\n",
       "    </tr>\n",
       "  </thead>\n",
       "  <tbody>\n",
       "    <tr>\n",
       "      <th>0</th>\n",
       "      <td>1</td>\n",
       "      <td>40</td>\n",
       "      <td>1.043159</td>\n",
       "      <td>2.993135</td>\n",
       "      <td>2.993135</td>\n",
       "      <td>2.993135</td>\n",
       "      <td>2.993135</td>\n",
       "      <td>2.993135</td>\n",
       "      <td>2.993135</td>\n",
       "    </tr>\n",
       "    <tr>\n",
       "      <th>1</th>\n",
       "      <td>2</td>\n",
       "      <td>82</td>\n",
       "      <td>4.026416</td>\n",
       "      <td>2.993135</td>\n",
       "      <td>2.993135</td>\n",
       "      <td>2.993135</td>\n",
       "      <td>2.018147</td>\n",
       "      <td>2.993135</td>\n",
       "      <td>2.993135</td>\n",
       "    </tr>\n",
       "    <tr>\n",
       "      <th>2</th>\n",
       "      <td>3</td>\n",
       "      <td>44</td>\n",
       "      <td>3.337938</td>\n",
       "      <td>2.018147</td>\n",
       "      <td>2.018147</td>\n",
       "      <td>3.509776</td>\n",
       "      <td>2.993135</td>\n",
       "      <td>2.018147</td>\n",
       "      <td>2.993135</td>\n",
       "    </tr>\n",
       "    <tr>\n",
       "      <th>3</th>\n",
       "      <td>4</td>\n",
       "      <td>23</td>\n",
       "      <td>1.049523</td>\n",
       "      <td>3.509776</td>\n",
       "      <td>2.993135</td>\n",
       "      <td>2.018147</td>\n",
       "      <td>2.993135</td>\n",
       "      <td>2.993135</td>\n",
       "      <td>2.993135</td>\n",
       "    </tr>\n",
       "    <tr>\n",
       "      <th>4</th>\n",
       "      <td>5</td>\n",
       "      <td>79</td>\n",
       "      <td>4.302773</td>\n",
       "      <td>2.993135</td>\n",
       "      <td>2.458077</td>\n",
       "      <td>1.695272</td>\n",
       "      <td>2.687570</td>\n",
       "      <td>2.993135</td>\n",
       "      <td>2.993135</td>\n",
       "    </tr>\n",
       "    <tr>\n",
       "      <th>...</th>\n",
       "      <td>...</td>\n",
       "      <td>...</td>\n",
       "      <td>...</td>\n",
       "      <td>...</td>\n",
       "      <td>...</td>\n",
       "      <td>...</td>\n",
       "      <td>...</td>\n",
       "      <td>...</td>\n",
       "      <td>...</td>\n",
       "    </tr>\n",
       "    <tr>\n",
       "      <th>995</th>\n",
       "      <td>996</td>\n",
       "      <td>55</td>\n",
       "      <td>1.620081</td>\n",
       "      <td>2.908854</td>\n",
       "      <td>3.003209</td>\n",
       "      <td>3.003089</td>\n",
       "      <td>2.925438</td>\n",
       "      <td>2.953345</td>\n",
       "      <td>2.891994</td>\n",
       "    </tr>\n",
       "    <tr>\n",
       "      <th>996</th>\n",
       "      <td>997</td>\n",
       "      <td>13</td>\n",
       "      <td>1.544464</td>\n",
       "      <td>3.161843</td>\n",
       "      <td>2.884686</td>\n",
       "      <td>3.038584</td>\n",
       "      <td>3.070148</td>\n",
       "      <td>3.006161</td>\n",
       "      <td>3.361617</td>\n",
       "    </tr>\n",
       "    <tr>\n",
       "      <th>997</th>\n",
       "      <td>998</td>\n",
       "      <td>47</td>\n",
       "      <td>3.961913</td>\n",
       "      <td>3.152329</td>\n",
       "      <td>2.996362</td>\n",
       "      <td>2.938688</td>\n",
       "      <td>3.025818</td>\n",
       "      <td>3.000314</td>\n",
       "      <td>2.623336</td>\n",
       "    </tr>\n",
       "    <tr>\n",
       "      <th>998</th>\n",
       "      <td>999</td>\n",
       "      <td>68</td>\n",
       "      <td>3.089722</td>\n",
       "      <td>2.954329</td>\n",
       "      <td>3.001118</td>\n",
       "      <td>2.998847</td>\n",
       "      <td>2.976151</td>\n",
       "      <td>3.025326</td>\n",
       "      <td>3.162969</td>\n",
       "    </tr>\n",
       "    <tr>\n",
       "      <th>999</th>\n",
       "      <td>1000</td>\n",
       "      <td>79</td>\n",
       "      <td>3.093553</td>\n",
       "      <td>2.903049</td>\n",
       "      <td>2.942212</td>\n",
       "      <td>2.999125</td>\n",
       "      <td>3.030668</td>\n",
       "      <td>3.004145</td>\n",
       "      <td>2.995347</td>\n",
       "    </tr>\n",
       "  </tbody>\n",
       "</table>\n",
       "<p>1000 rows × 9 columns</p>\n",
       "</div>"
      ],
      "text/plain": [
       "     Product ID  Price    Rating  Product Name_encoded  Brand_encoded  \\\n",
       "0             1     40  1.043159              2.993135       2.993135   \n",
       "1             2     82  4.026416              2.993135       2.993135   \n",
       "2             3     44  3.337938              2.018147       2.018147   \n",
       "3             4     23  1.049523              3.509776       2.993135   \n",
       "4             5     79  4.302773              2.993135       2.458077   \n",
       "..          ...    ...       ...                   ...            ...   \n",
       "995         996     55  1.620081              2.908854       3.003209   \n",
       "996         997     13  1.544464              3.161843       2.884686   \n",
       "997         998     47  3.961913              3.152329       2.996362   \n",
       "998         999     68  3.089722              2.954329       3.001118   \n",
       "999        1000     79  3.093553              2.903049       2.942212   \n",
       "\n",
       "     Category_encoded  Color_encoded  Size_encoded  User ID_encoded  \n",
       "0            2.993135       2.993135      2.993135         2.993135  \n",
       "1            2.993135       2.018147      2.993135         2.993135  \n",
       "2            3.509776       2.993135      2.018147         2.993135  \n",
       "3            2.018147       2.993135      2.993135         2.993135  \n",
       "4            1.695272       2.687570      2.993135         2.993135  \n",
       "..                ...            ...           ...              ...  \n",
       "995          3.003089       2.925438      2.953345         2.891994  \n",
       "996          3.038584       3.070148      3.006161         3.361617  \n",
       "997          2.938688       3.025818      3.000314         2.623336  \n",
       "998          2.998847       2.976151      3.025326         3.162969  \n",
       "999          2.999125       3.030668      3.004145         2.995347  \n",
       "\n",
       "[1000 rows x 9 columns]"
      ]
     },
     "execution_count": 9,
     "metadata": {},
     "output_type": "execute_result"
    }
   ],
   "source": [
    "df_new = pd.DataFrame(df_encoded)\n",
    "df_new"
   ]
  },
  {
   "cell_type": "markdown",
   "id": "584a0594",
   "metadata": {},
   "source": [
    "Here, we have created a feature matrix where:\n",
    "\n",
    "Product ID and Price are identifiers.\n",
    "Rating is the target variable.\n",
    "Rest all are the features including User ID as this feature is iterative and repeats several times in the dataset.Choosing User ID as a categorical variable will allow us to capture a group-specific patterns such as preferences, activity levels."
   ]
  },
  {
   "cell_type": "code",
   "execution_count": 10,
   "id": "f8efe69b",
   "metadata": {},
   "outputs": [
    {
     "name": "stdout",
     "output_type": "stream",
     "text": [
      "(1000, 9)\n"
     ]
    }
   ],
   "source": [
    "# Code task 18\n",
    "# Check the shape of the new dataframe (including newly encoded columns) in the DataFrame\n",
    "\n",
    "print(df_new.shape)"
   ]
  },
  {
   "cell_type": "code",
   "execution_count": 11,
   "id": "40b280e7",
   "metadata": {},
   "outputs": [
    {
     "name": "stdout",
     "output_type": "stream",
     "text": [
      "<class 'pandas.core.frame.DataFrame'>\n",
      "RangeIndex: 1000 entries, 0 to 999\n",
      "Data columns (total 9 columns):\n",
      " #   Column                Non-Null Count  Dtype  \n",
      "---  ------                --------------  -----  \n",
      " 0   Product ID            1000 non-null   int64  \n",
      " 1   Price                 1000 non-null   int64  \n",
      " 2   Rating                1000 non-null   float64\n",
      " 3   Product Name_encoded  1000 non-null   float64\n",
      " 4   Brand_encoded         1000 non-null   float64\n",
      " 5   Category_encoded      1000 non-null   float64\n",
      " 6   Color_encoded         1000 non-null   float64\n",
      " 7   Size_encoded          1000 non-null   float64\n",
      " 8   User ID_encoded       1000 non-null   float64\n",
      "dtypes: float64(7), int64(2)\n",
      "memory usage: 70.4 KB\n"
     ]
    }
   ],
   "source": [
    "# Code task 19\n",
    "# Check the format of all columns (including newly encoded columns) in the DataFrame\n",
    "\n",
    "df_new.info()"
   ]
  },
  {
   "cell_type": "markdown",
   "id": "65f25184",
   "metadata": {},
   "source": [
    "All columns are now numeric."
   ]
  },
  {
   "cell_type": "code",
   "execution_count": 12,
   "id": "36e2f847",
   "metadata": {},
   "outputs": [
    {
     "data": {
      "text/html": [
       "<div>\n",
       "<style scoped>\n",
       "    .dataframe tbody tr th:only-of-type {\n",
       "        vertical-align: middle;\n",
       "    }\n",
       "\n",
       "    .dataframe tbody tr th {\n",
       "        vertical-align: top;\n",
       "    }\n",
       "\n",
       "    .dataframe thead th {\n",
       "        text-align: right;\n",
       "    }\n",
       "</style>\n",
       "<table border=\"1\" class=\"dataframe\">\n",
       "  <thead>\n",
       "    <tr style=\"text-align: right;\">\n",
       "      <th></th>\n",
       "      <th>Product ID</th>\n",
       "      <th>Price</th>\n",
       "      <th>Rating</th>\n",
       "      <th>Product Name_encoded</th>\n",
       "      <th>Brand_encoded</th>\n",
       "      <th>Category_encoded</th>\n",
       "      <th>Color_encoded</th>\n",
       "      <th>Size_encoded</th>\n",
       "      <th>User ID_encoded</th>\n",
       "    </tr>\n",
       "  </thead>\n",
       "  <tbody>\n",
       "    <tr>\n",
       "      <th>count</th>\n",
       "      <td>1000.000000</td>\n",
       "      <td>1000.000000</td>\n",
       "      <td>1000.000000</td>\n",
       "      <td>1000.000000</td>\n",
       "      <td>1000.000000</td>\n",
       "      <td>1000.000000</td>\n",
       "      <td>1000.000000</td>\n",
       "      <td>1000.000000</td>\n",
       "      <td>1000.000000</td>\n",
       "    </tr>\n",
       "    <tr>\n",
       "      <th>mean</th>\n",
       "      <td>500.500000</td>\n",
       "      <td>55.785000</td>\n",
       "      <td>2.993135</td>\n",
       "      <td>2.966473</td>\n",
       "      <td>2.961967</td>\n",
       "      <td>2.969352</td>\n",
       "      <td>2.965415</td>\n",
       "      <td>2.965117</td>\n",
       "      <td>2.976524</td>\n",
       "    </tr>\n",
       "    <tr>\n",
       "      <th>std</th>\n",
       "      <td>288.819436</td>\n",
       "      <td>26.291748</td>\n",
       "      <td>1.153185</td>\n",
       "      <td>0.217152</td>\n",
       "      <td>0.193344</td>\n",
       "      <td>0.159867</td>\n",
       "      <td>0.141875</td>\n",
       "      <td>0.136690</td>\n",
       "      <td>0.407035</td>\n",
       "    </tr>\n",
       "    <tr>\n",
       "      <th>min</th>\n",
       "      <td>1.000000</td>\n",
       "      <td>10.000000</td>\n",
       "      <td>1.000967</td>\n",
       "      <td>1.983693</td>\n",
       "      <td>2.018147</td>\n",
       "      <td>1.695272</td>\n",
       "      <td>1.799803</td>\n",
       "      <td>1.656591</td>\n",
       "      <td>1.701480</td>\n",
       "    </tr>\n",
       "    <tr>\n",
       "      <th>25%</th>\n",
       "      <td>250.750000</td>\n",
       "      <td>33.000000</td>\n",
       "      <td>1.992786</td>\n",
       "      <td>2.831600</td>\n",
       "      <td>2.854746</td>\n",
       "      <td>2.878439</td>\n",
       "      <td>2.877145</td>\n",
       "      <td>2.929529</td>\n",
       "      <td>2.721392</td>\n",
       "    </tr>\n",
       "    <tr>\n",
       "      <th>50%</th>\n",
       "      <td>500.500000</td>\n",
       "      <td>57.000000</td>\n",
       "      <td>2.984003</td>\n",
       "      <td>2.943164</td>\n",
       "      <td>2.930428</td>\n",
       "      <td>3.002708</td>\n",
       "      <td>2.982633</td>\n",
       "      <td>2.982184</td>\n",
       "      <td>2.993135</td>\n",
       "    </tr>\n",
       "    <tr>\n",
       "      <th>75%</th>\n",
       "      <td>750.250000</td>\n",
       "      <td>78.250000</td>\n",
       "      <td>3.985084</td>\n",
       "      <td>3.077073</td>\n",
       "      <td>3.106158</td>\n",
       "      <td>3.056833</td>\n",
       "      <td>3.048068</td>\n",
       "      <td>3.012145</td>\n",
       "      <td>3.228626</td>\n",
       "    </tr>\n",
       "    <tr>\n",
       "      <th>max</th>\n",
       "      <td>1000.000000</td>\n",
       "      <td>100.000000</td>\n",
       "      <td>4.987964</td>\n",
       "      <td>3.939873</td>\n",
       "      <td>3.828578</td>\n",
       "      <td>3.815558</td>\n",
       "      <td>3.953299</td>\n",
       "      <td>3.647954</td>\n",
       "      <td>4.266373</td>\n",
       "    </tr>\n",
       "  </tbody>\n",
       "</table>\n",
       "</div>"
      ],
      "text/plain": [
       "        Product ID        Price       Rating  Product Name_encoded  \\\n",
       "count  1000.000000  1000.000000  1000.000000           1000.000000   \n",
       "mean    500.500000    55.785000     2.993135              2.966473   \n",
       "std     288.819436    26.291748     1.153185              0.217152   \n",
       "min       1.000000    10.000000     1.000967              1.983693   \n",
       "25%     250.750000    33.000000     1.992786              2.831600   \n",
       "50%     500.500000    57.000000     2.984003              2.943164   \n",
       "75%     750.250000    78.250000     3.985084              3.077073   \n",
       "max    1000.000000   100.000000     4.987964              3.939873   \n",
       "\n",
       "       Brand_encoded  Category_encoded  Color_encoded  Size_encoded  \\\n",
       "count    1000.000000       1000.000000    1000.000000   1000.000000   \n",
       "mean        2.961967          2.969352       2.965415      2.965117   \n",
       "std         0.193344          0.159867       0.141875      0.136690   \n",
       "min         2.018147          1.695272       1.799803      1.656591   \n",
       "25%         2.854746          2.878439       2.877145      2.929529   \n",
       "50%         2.930428          3.002708       2.982633      2.982184   \n",
       "75%         3.106158          3.056833       3.048068      3.012145   \n",
       "max         3.828578          3.815558       3.953299      3.647954   \n",
       "\n",
       "       User ID_encoded  \n",
       "count      1000.000000  \n",
       "mean          2.976524  \n",
       "std           0.407035  \n",
       "min           1.701480  \n",
       "25%           2.721392  \n",
       "50%           2.993135  \n",
       "75%           3.228626  \n",
       "max           4.266373  "
      ]
     },
     "execution_count": 12,
     "metadata": {},
     "output_type": "execute_result"
    }
   ],
   "source": [
    "# Code task 20\n",
    "# Check the description of all the numerical columns (including newly encoded columns) in the DataFrame\n",
    "\n",
    "df_new.describe()"
   ]
  },
  {
   "cell_type": "markdown",
   "id": "f4b46bf3",
   "metadata": {},
   "source": [
    "# Train/Test Split"
   ]
  },
  {
   "cell_type": "markdown",
   "id": "692b107a",
   "metadata": {},
   "source": [
    "Partition sizes with a 70/30 train/test split"
   ]
  },
  {
   "cell_type": "code",
   "execution_count": 13,
   "id": "3ec73891",
   "metadata": {},
   "outputs": [
    {
     "data": {
      "text/plain": [
       "(700.0, 300.0)"
      ]
     },
     "execution_count": 13,
     "metadata": {},
     "output_type": "execute_result"
    }
   ],
   "source": [
    "len(df_new) * .7, len(df_new) * .3"
   ]
  },
  {
   "cell_type": "code",
   "execution_count": 14,
   "id": "6635ba48",
   "metadata": {},
   "outputs": [],
   "source": [
    "X_train, X_test, y_train, y_test = train_test_split(df_new, y, test_size=0.3, \n",
    "                                                    random_state=47)"
   ]
  },
  {
   "cell_type": "code",
   "execution_count": 15,
   "id": "5391017c",
   "metadata": {},
   "outputs": [
    {
     "data": {
      "text/plain": [
       "((700, 9), (300, 9))"
      ]
     },
     "execution_count": 15,
     "metadata": {},
     "output_type": "execute_result"
    }
   ],
   "source": [
    "X_train.shape, X_test.shape"
   ]
  },
  {
   "cell_type": "code",
   "execution_count": 16,
   "id": "44249539",
   "metadata": {},
   "outputs": [
    {
     "data": {
      "text/plain": [
       "((700,), (300,))"
      ]
     },
     "execution_count": 16,
     "metadata": {},
     "output_type": "execute_result"
    }
   ],
   "source": [
    "y_train.shape, y_test.shape"
   ]
  },
  {
   "cell_type": "code",
   "execution_count": 17,
   "id": "218473d7",
   "metadata": {},
   "outputs": [
    {
     "data": {
      "text/plain": [
       "Product ID                int64\n",
       "Price                     int64\n",
       "Rating                  float64\n",
       "Product Name_encoded    float64\n",
       "Brand_encoded           float64\n",
       "Category_encoded        float64\n",
       "Color_encoded           float64\n",
       "Size_encoded            float64\n",
       "User ID_encoded         float64\n",
       "dtype: object"
      ]
     },
     "execution_count": 17,
     "metadata": {},
     "output_type": "execute_result"
    }
   ],
   "source": [
    "#Check the `dtypes` attribute of `X_train` to verify all features are numeric\n",
    "X_train.dtypes"
   ]
  },
  {
   "cell_type": "code",
   "execution_count": 18,
   "id": "f5a5b67e",
   "metadata": {},
   "outputs": [
    {
     "data": {
      "text/plain": [
       "Product ID                int64\n",
       "Price                     int64\n",
       "Rating                  float64\n",
       "Product Name_encoded    float64\n",
       "Brand_encoded           float64\n",
       "Category_encoded        float64\n",
       "Color_encoded           float64\n",
       "Size_encoded            float64\n",
       "User ID_encoded         float64\n",
       "dtype: object"
      ]
     },
     "execution_count": 18,
     "metadata": {},
     "output_type": "execute_result"
    }
   ],
   "source": [
    "#Repeat this check for the test split in `X_test`\n",
    "X_test.dtypes"
   ]
  },
  {
   "cell_type": "markdown",
   "id": "0f11d60d",
   "metadata": {},
   "source": [
    "We have only numeric features in our X now!"
   ]
  },
  {
   "cell_type": "code",
   "execution_count": 19,
   "id": "f32ca8ad",
   "metadata": {},
   "outputs": [
    {
     "name": "stdout",
     "output_type": "stream",
     "text": [
      "<class 'pandas.core.frame.DataFrame'>\n",
      "RangeIndex: 1000 entries, 0 to 999\n",
      "Data columns (total 9 columns):\n",
      " #   Column                Non-Null Count  Dtype  \n",
      "---  ------                --------------  -----  \n",
      " 0   Product ID            1000 non-null   int64  \n",
      " 1   Price                 1000 non-null   int64  \n",
      " 2   Rating                1000 non-null   float64\n",
      " 3   Product Name_encoded  1000 non-null   float64\n",
      " 4   Brand_encoded         1000 non-null   float64\n",
      " 5   Category_encoded      1000 non-null   float64\n",
      " 6   Color_encoded         1000 non-null   float64\n",
      " 7   Size_encoded          1000 non-null   float64\n",
      " 8   User ID_encoded       1000 non-null   float64\n",
      "dtypes: float64(7), int64(2)\n",
      "memory usage: 70.4 KB\n"
     ]
    }
   ],
   "source": [
    "df_new.info()"
   ]
  },
  {
   "cell_type": "code",
   "execution_count": 20,
   "id": "80159df0",
   "metadata": {},
   "outputs": [
    {
     "data": {
      "text/html": [
       "<div>\n",
       "<style scoped>\n",
       "    .dataframe tbody tr th:only-of-type {\n",
       "        vertical-align: middle;\n",
       "    }\n",
       "\n",
       "    .dataframe tbody tr th {\n",
       "        vertical-align: top;\n",
       "    }\n",
       "\n",
       "    .dataframe thead th {\n",
       "        text-align: right;\n",
       "    }\n",
       "</style>\n",
       "<table border=\"1\" class=\"dataframe\">\n",
       "  <thead>\n",
       "    <tr style=\"text-align: right;\">\n",
       "      <th></th>\n",
       "      <th>Product ID</th>\n",
       "      <th>Price</th>\n",
       "      <th>Rating</th>\n",
       "      <th>Product Name_encoded</th>\n",
       "      <th>Brand_encoded</th>\n",
       "      <th>Category_encoded</th>\n",
       "      <th>Color_encoded</th>\n",
       "      <th>Size_encoded</th>\n",
       "      <th>User ID_encoded</th>\n",
       "    </tr>\n",
       "  </thead>\n",
       "  <tbody>\n",
       "    <tr>\n",
       "      <th>Product ID</th>\n",
       "      <td>1.000000</td>\n",
       "      <td>0.031849</td>\n",
       "      <td>0.013083</td>\n",
       "      <td>-0.023073</td>\n",
       "      <td>0.054740</td>\n",
       "      <td>0.007234</td>\n",
       "      <td>0.047833</td>\n",
       "      <td>0.031528</td>\n",
       "      <td>0.062028</td>\n",
       "    </tr>\n",
       "    <tr>\n",
       "      <th>Price</th>\n",
       "      <td>0.031849</td>\n",
       "      <td>1.000000</td>\n",
       "      <td>0.022195</td>\n",
       "      <td>-0.021768</td>\n",
       "      <td>-0.044327</td>\n",
       "      <td>0.052582</td>\n",
       "      <td>0.008400</td>\n",
       "      <td>0.009211</td>\n",
       "      <td>0.013732</td>\n",
       "    </tr>\n",
       "    <tr>\n",
       "      <th>Rating</th>\n",
       "      <td>0.013083</td>\n",
       "      <td>0.022195</td>\n",
       "      <td>1.000000</td>\n",
       "      <td>0.001814</td>\n",
       "      <td>0.005317</td>\n",
       "      <td>0.015154</td>\n",
       "      <td>-0.045281</td>\n",
       "      <td>0.012543</td>\n",
       "      <td>-0.031498</td>\n",
       "    </tr>\n",
       "    <tr>\n",
       "      <th>Product Name_encoded</th>\n",
       "      <td>-0.023073</td>\n",
       "      <td>-0.021768</td>\n",
       "      <td>0.001814</td>\n",
       "      <td>1.000000</td>\n",
       "      <td>0.129485</td>\n",
       "      <td>-0.047921</td>\n",
       "      <td>0.087746</td>\n",
       "      <td>0.013802</td>\n",
       "      <td>0.005867</td>\n",
       "    </tr>\n",
       "    <tr>\n",
       "      <th>Brand_encoded</th>\n",
       "      <td>0.054740</td>\n",
       "      <td>-0.044327</td>\n",
       "      <td>0.005317</td>\n",
       "      <td>0.129485</td>\n",
       "      <td>1.000000</td>\n",
       "      <td>-0.002885</td>\n",
       "      <td>0.145163</td>\n",
       "      <td>-0.011148</td>\n",
       "      <td>-0.014389</td>\n",
       "    </tr>\n",
       "    <tr>\n",
       "      <th>Category_encoded</th>\n",
       "      <td>0.007234</td>\n",
       "      <td>0.052582</td>\n",
       "      <td>0.015154</td>\n",
       "      <td>-0.047921</td>\n",
       "      <td>-0.002885</td>\n",
       "      <td>1.000000</td>\n",
       "      <td>-0.026674</td>\n",
       "      <td>0.129205</td>\n",
       "      <td>0.017597</td>\n",
       "    </tr>\n",
       "    <tr>\n",
       "      <th>Color_encoded</th>\n",
       "      <td>0.047833</td>\n",
       "      <td>0.008400</td>\n",
       "      <td>-0.045281</td>\n",
       "      <td>0.087746</td>\n",
       "      <td>0.145163</td>\n",
       "      <td>-0.026674</td>\n",
       "      <td>1.000000</td>\n",
       "      <td>-0.085906</td>\n",
       "      <td>-0.017502</td>\n",
       "    </tr>\n",
       "    <tr>\n",
       "      <th>Size_encoded</th>\n",
       "      <td>0.031528</td>\n",
       "      <td>0.009211</td>\n",
       "      <td>0.012543</td>\n",
       "      <td>0.013802</td>\n",
       "      <td>-0.011148</td>\n",
       "      <td>0.129205</td>\n",
       "      <td>-0.085906</td>\n",
       "      <td>1.000000</td>\n",
       "      <td>-0.048172</td>\n",
       "    </tr>\n",
       "    <tr>\n",
       "      <th>User ID_encoded</th>\n",
       "      <td>0.062028</td>\n",
       "      <td>0.013732</td>\n",
       "      <td>-0.031498</td>\n",
       "      <td>0.005867</td>\n",
       "      <td>-0.014389</td>\n",
       "      <td>0.017597</td>\n",
       "      <td>-0.017502</td>\n",
       "      <td>-0.048172</td>\n",
       "      <td>1.000000</td>\n",
       "    </tr>\n",
       "  </tbody>\n",
       "</table>\n",
       "</div>"
      ],
      "text/plain": [
       "                      Product ID     Price    Rating  Product Name_encoded  \\\n",
       "Product ID              1.000000  0.031849  0.013083             -0.023073   \n",
       "Price                   0.031849  1.000000  0.022195             -0.021768   \n",
       "Rating                  0.013083  0.022195  1.000000              0.001814   \n",
       "Product Name_encoded   -0.023073 -0.021768  0.001814              1.000000   \n",
       "Brand_encoded           0.054740 -0.044327  0.005317              0.129485   \n",
       "Category_encoded        0.007234  0.052582  0.015154             -0.047921   \n",
       "Color_encoded           0.047833  0.008400 -0.045281              0.087746   \n",
       "Size_encoded            0.031528  0.009211  0.012543              0.013802   \n",
       "User ID_encoded         0.062028  0.013732 -0.031498              0.005867   \n",
       "\n",
       "                      Brand_encoded  Category_encoded  Color_encoded  \\\n",
       "Product ID                 0.054740          0.007234       0.047833   \n",
       "Price                     -0.044327          0.052582       0.008400   \n",
       "Rating                     0.005317          0.015154      -0.045281   \n",
       "Product Name_encoded       0.129485         -0.047921       0.087746   \n",
       "Brand_encoded              1.000000         -0.002885       0.145163   \n",
       "Category_encoded          -0.002885          1.000000      -0.026674   \n",
       "Color_encoded              0.145163         -0.026674       1.000000   \n",
       "Size_encoded              -0.011148          0.129205      -0.085906   \n",
       "User ID_encoded           -0.014389          0.017597      -0.017502   \n",
       "\n",
       "                      Size_encoded  User ID_encoded  \n",
       "Product ID                0.031528         0.062028  \n",
       "Price                     0.009211         0.013732  \n",
       "Rating                    0.012543        -0.031498  \n",
       "Product Name_encoded      0.013802         0.005867  \n",
       "Brand_encoded            -0.011148        -0.014389  \n",
       "Category_encoded          0.129205         0.017597  \n",
       "Color_encoded            -0.085906        -0.017502  \n",
       "Size_encoded              1.000000        -0.048172  \n",
       "User ID_encoded          -0.048172         1.000000  "
      ]
     },
     "execution_count": 20,
     "metadata": {},
     "output_type": "execute_result"
    }
   ],
   "source": [
    "import pandas as pd\n",
    "correlation_matrix = X_train.corr()\n",
    "correlation_matrix"
   ]
  },
  {
   "cell_type": "markdown",
   "id": "c467fd58",
   "metadata": {},
   "source": [
    "# Method 1 - Random Forest Model"
   ]
  },
  {
   "cell_type": "markdown",
   "id": "a246bc06",
   "metadata": {},
   "source": [
    "# Define the pipeline"
   ]
  },
  {
   "cell_type": "code",
   "execution_count": 21,
   "id": "610f59d4",
   "metadata": {},
   "outputs": [],
   "source": [
    "#Define a pipeline comprising the steps:\n",
    "#SimpleImputer() with a strategy of 'median'\n",
    "#StandardScaler(),\n",
    "#and then RandomForestRegressor() with a random state of 47\n",
    "RF_pipe = make_pipeline(\n",
    "    RandomForestRegressor(n_estimators=100, max_depth=10, random_state=47, min_samples_split=10)\n",
    ")"
   ]
  },
  {
   "cell_type": "code",
   "execution_count": 22,
   "id": "a96d70d4",
   "metadata": {},
   "outputs": [
    {
     "data": {
      "text/html": [
       "<div>\n",
       "<style scoped>\n",
       "    .dataframe tbody tr th:only-of-type {\n",
       "        vertical-align: middle;\n",
       "    }\n",
       "\n",
       "    .dataframe tbody tr th {\n",
       "        vertical-align: top;\n",
       "    }\n",
       "\n",
       "    .dataframe thead th {\n",
       "        text-align: right;\n",
       "    }\n",
       "</style>\n",
       "<table border=\"1\" class=\"dataframe\">\n",
       "  <thead>\n",
       "    <tr style=\"text-align: right;\">\n",
       "      <th></th>\n",
       "      <th>Product ID</th>\n",
       "      <th>Price</th>\n",
       "      <th>Rating</th>\n",
       "      <th>Product Name_encoded</th>\n",
       "      <th>Brand_encoded</th>\n",
       "      <th>Category_encoded</th>\n",
       "      <th>Color_encoded</th>\n",
       "      <th>Size_encoded</th>\n",
       "      <th>User ID_encoded</th>\n",
       "    </tr>\n",
       "  </thead>\n",
       "  <tbody>\n",
       "    <tr>\n",
       "      <th>128</th>\n",
       "      <td>129</td>\n",
       "      <td>85</td>\n",
       "      <td>2.104322</td>\n",
       "      <td>2.669062</td>\n",
       "      <td>3.059661</td>\n",
       "      <td>3.143416</td>\n",
       "      <td>2.926661</td>\n",
       "      <td>3.021098</td>\n",
       "      <td>2.993135</td>\n",
       "    </tr>\n",
       "    <tr>\n",
       "      <th>492</th>\n",
       "      <td>493</td>\n",
       "      <td>88</td>\n",
       "      <td>3.126248</td>\n",
       "      <td>2.807486</td>\n",
       "      <td>2.844828</td>\n",
       "      <td>2.991981</td>\n",
       "      <td>2.969442</td>\n",
       "      <td>3.011958</td>\n",
       "      <td>2.880183</td>\n",
       "    </tr>\n",
       "    <tr>\n",
       "      <th>303</th>\n",
       "      <td>304</td>\n",
       "      <td>85</td>\n",
       "      <td>1.300399</td>\n",
       "      <td>2.828699</td>\n",
       "      <td>2.836282</td>\n",
       "      <td>3.119169</td>\n",
       "      <td>3.084120</td>\n",
       "      <td>2.922178</td>\n",
       "      <td>3.099555</td>\n",
       "    </tr>\n",
       "    <tr>\n",
       "      <th>120</th>\n",
       "      <td>121</td>\n",
       "      <td>96</td>\n",
       "      <td>1.633990</td>\n",
       "      <td>2.629612</td>\n",
       "      <td>3.506794</td>\n",
       "      <td>2.750206</td>\n",
       "      <td>3.018945</td>\n",
       "      <td>2.970156</td>\n",
       "      <td>2.993135</td>\n",
       "    </tr>\n",
       "    <tr>\n",
       "      <th>455</th>\n",
       "      <td>456</td>\n",
       "      <td>14</td>\n",
       "      <td>4.435461</td>\n",
       "      <td>2.810580</td>\n",
       "      <td>3.213892</td>\n",
       "      <td>2.867895</td>\n",
       "      <td>2.836171</td>\n",
       "      <td>2.886689</td>\n",
       "      <td>2.341233</td>\n",
       "    </tr>\n",
       "  </tbody>\n",
       "</table>\n",
       "</div>"
      ],
      "text/plain": [
       "     Product ID  Price    Rating  Product Name_encoded  Brand_encoded  \\\n",
       "128         129     85  2.104322              2.669062       3.059661   \n",
       "492         493     88  3.126248              2.807486       2.844828   \n",
       "303         304     85  1.300399              2.828699       2.836282   \n",
       "120         121     96  1.633990              2.629612       3.506794   \n",
       "455         456     14  4.435461              2.810580       3.213892   \n",
       "\n",
       "     Category_encoded  Color_encoded  Size_encoded  User ID_encoded  \n",
       "128          3.143416       2.926661      3.021098         2.993135  \n",
       "492          2.991981       2.969442      3.011958         2.880183  \n",
       "303          3.119169       3.084120      2.922178         3.099555  \n",
       "120          2.750206       3.018945      2.970156         2.993135  \n",
       "455          2.867895       2.836171      2.886689         2.341233  "
      ]
     },
     "execution_count": 22,
     "metadata": {},
     "output_type": "execute_result"
    }
   ],
   "source": [
    "X_train.head()"
   ]
  },
  {
   "cell_type": "markdown",
   "id": "f7aac7ba",
   "metadata": {},
   "source": [
    "# Fit and assess performance using cross-validation"
   ]
  },
  {
   "cell_type": "code",
   "execution_count": 23,
   "id": "d7c94a9c",
   "metadata": {},
   "outputs": [],
   "source": [
    "#Call `cross_validate` to estimate the pipeline's performance.\n",
    "#Pass it the random forest pipe object, `X_train` and `y_train`,\n",
    "#and get it to use 5-fold cross-validation\n",
    "rf_default_cv_results = cross_validate(RF_pipe, X_train, y_train, cv=5, scoring='r2')\n"
   ]
  },
  {
   "cell_type": "code",
   "execution_count": 24,
   "id": "a13e4072",
   "metadata": {},
   "outputs": [
    {
     "data": {
      "text/plain": [
       "array([0.99993442, 0.9999444 , 0.99992111, 0.99989516, 0.99991613])"
      ]
     },
     "execution_count": 24,
     "metadata": {},
     "output_type": "execute_result"
    }
   ],
   "source": [
    "rf_cv_scores = rf_default_cv_results['test_score']\n",
    "rf_cv_scores"
   ]
  },
  {
   "cell_type": "code",
   "execution_count": 25,
   "id": "90fb6814",
   "metadata": {},
   "outputs": [
    {
     "data": {
      "text/plain": [
       "(0.9999222424807789, 1.68017577727131e-05)"
      ]
     },
     "execution_count": 25,
     "metadata": {},
     "output_type": "execute_result"
    }
   ],
   "source": [
    "np.mean(rf_cv_scores), np.std(rf_cv_scores)"
   ]
  },
  {
   "cell_type": "markdown",
   "id": "6dd38e8a",
   "metadata": {},
   "source": [
    "# Hyperparameter search using GridSearchCV"
   ]
  },
  {
   "cell_type": "code",
   "execution_count": 26,
   "id": "94cc08d9",
   "metadata": {},
   "outputs": [
    {
     "data": {
      "text/plain": [
       "{'randomforestregressor__n_estimators': [100, 200, 300],\n",
       " 'randomforestregressor__max_depth': [5, 10, 20],\n",
       " 'randomforestregressor__min_samples_split': [2, 5, 10],\n",
       " 'randomforestregressor__min_samples_leaf': [1, 2, 4]}"
      ]
     },
     "execution_count": 26,
     "metadata": {},
     "output_type": "execute_result"
    }
   ],
   "source": [
    "n_est = [100, 200, 300]\n",
    "max_depth=[5, 10, 20]\n",
    "min_samples_split = [2, 5, 10]\n",
    "min_samples_leaf = [1, 2, 4]\n",
    "grid_params = {\n",
    "    'randomforestregressor__n_estimators': n_est, \n",
    "    'randomforestregressor__max_depth': max_depth,\n",
    "    'randomforestregressor__min_samples_split': min_samples_split,\n",
    "    'randomforestregressor__min_samples_leaf': min_samples_leaf\n",
    "}\n",
    "grid_params"
   ]
  },
  {
   "cell_type": "code",
   "execution_count": 27,
   "id": "afc6aff9",
   "metadata": {},
   "outputs": [],
   "source": [
    "#Call `GridSearchCV` with the random forest pipeline, passing in the above `grid_params`\n",
    "#dict for parameters to evaluate, 5-fold cross-validation, and all available CPU cores (if desired)\n",
    "rf_grid_cv = GridSearchCV(RF_pipe, param_grid=grid_params, cv=5, n_jobs=-1)"
   ]
  },
  {
   "cell_type": "code",
   "execution_count": 28,
   "id": "572157f3",
   "metadata": {},
   "outputs": [
    {
     "data": {
      "text/html": [
       "<style>#sk-container-id-1 {\n",
       "  /* Definition of color scheme common for light and dark mode */\n",
       "  --sklearn-color-text: #000;\n",
       "  --sklearn-color-text-muted: #666;\n",
       "  --sklearn-color-line: gray;\n",
       "  /* Definition of color scheme for unfitted estimators */\n",
       "  --sklearn-color-unfitted-level-0: #fff5e6;\n",
       "  --sklearn-color-unfitted-level-1: #f6e4d2;\n",
       "  --sklearn-color-unfitted-level-2: #ffe0b3;\n",
       "  --sklearn-color-unfitted-level-3: chocolate;\n",
       "  /* Definition of color scheme for fitted estimators */\n",
       "  --sklearn-color-fitted-level-0: #f0f8ff;\n",
       "  --sklearn-color-fitted-level-1: #d4ebff;\n",
       "  --sklearn-color-fitted-level-2: #b3dbfd;\n",
       "  --sklearn-color-fitted-level-3: cornflowerblue;\n",
       "\n",
       "  /* Specific color for light theme */\n",
       "  --sklearn-color-text-on-default-background: var(--sg-text-color, var(--theme-code-foreground, var(--jp-content-font-color1, black)));\n",
       "  --sklearn-color-background: var(--sg-background-color, var(--theme-background, var(--jp-layout-color0, white)));\n",
       "  --sklearn-color-border-box: var(--sg-text-color, var(--theme-code-foreground, var(--jp-content-font-color1, black)));\n",
       "  --sklearn-color-icon: #696969;\n",
       "\n",
       "  @media (prefers-color-scheme: dark) {\n",
       "    /* Redefinition of color scheme for dark theme */\n",
       "    --sklearn-color-text-on-default-background: var(--sg-text-color, var(--theme-code-foreground, var(--jp-content-font-color1, white)));\n",
       "    --sklearn-color-background: var(--sg-background-color, var(--theme-background, var(--jp-layout-color0, #111)));\n",
       "    --sklearn-color-border-box: var(--sg-text-color, var(--theme-code-foreground, var(--jp-content-font-color1, white)));\n",
       "    --sklearn-color-icon: #878787;\n",
       "  }\n",
       "}\n",
       "\n",
       "#sk-container-id-1 {\n",
       "  color: var(--sklearn-color-text);\n",
       "}\n",
       "\n",
       "#sk-container-id-1 pre {\n",
       "  padding: 0;\n",
       "}\n",
       "\n",
       "#sk-container-id-1 input.sk-hidden--visually {\n",
       "  border: 0;\n",
       "  clip: rect(1px 1px 1px 1px);\n",
       "  clip: rect(1px, 1px, 1px, 1px);\n",
       "  height: 1px;\n",
       "  margin: -1px;\n",
       "  overflow: hidden;\n",
       "  padding: 0;\n",
       "  position: absolute;\n",
       "  width: 1px;\n",
       "}\n",
       "\n",
       "#sk-container-id-1 div.sk-dashed-wrapped {\n",
       "  border: 1px dashed var(--sklearn-color-line);\n",
       "  margin: 0 0.4em 0.5em 0.4em;\n",
       "  box-sizing: border-box;\n",
       "  padding-bottom: 0.4em;\n",
       "  background-color: var(--sklearn-color-background);\n",
       "}\n",
       "\n",
       "#sk-container-id-1 div.sk-container {\n",
       "  /* jupyter's `normalize.less` sets `[hidden] { display: none; }`\n",
       "     but bootstrap.min.css set `[hidden] { display: none !important; }`\n",
       "     so we also need the `!important` here to be able to override the\n",
       "     default hidden behavior on the sphinx rendered scikit-learn.org.\n",
       "     See: https://github.com/scikit-learn/scikit-learn/issues/21755 */\n",
       "  display: inline-block !important;\n",
       "  position: relative;\n",
       "}\n",
       "\n",
       "#sk-container-id-1 div.sk-text-repr-fallback {\n",
       "  display: none;\n",
       "}\n",
       "\n",
       "div.sk-parallel-item,\n",
       "div.sk-serial,\n",
       "div.sk-item {\n",
       "  /* draw centered vertical line to link estimators */\n",
       "  background-image: linear-gradient(var(--sklearn-color-text-on-default-background), var(--sklearn-color-text-on-default-background));\n",
       "  background-size: 2px 100%;\n",
       "  background-repeat: no-repeat;\n",
       "  background-position: center center;\n",
       "}\n",
       "\n",
       "/* Parallel-specific style estimator block */\n",
       "\n",
       "#sk-container-id-1 div.sk-parallel-item::after {\n",
       "  content: \"\";\n",
       "  width: 100%;\n",
       "  border-bottom: 2px solid var(--sklearn-color-text-on-default-background);\n",
       "  flex-grow: 1;\n",
       "}\n",
       "\n",
       "#sk-container-id-1 div.sk-parallel {\n",
       "  display: flex;\n",
       "  align-items: stretch;\n",
       "  justify-content: center;\n",
       "  background-color: var(--sklearn-color-background);\n",
       "  position: relative;\n",
       "}\n",
       "\n",
       "#sk-container-id-1 div.sk-parallel-item {\n",
       "  display: flex;\n",
       "  flex-direction: column;\n",
       "}\n",
       "\n",
       "#sk-container-id-1 div.sk-parallel-item:first-child::after {\n",
       "  align-self: flex-end;\n",
       "  width: 50%;\n",
       "}\n",
       "\n",
       "#sk-container-id-1 div.sk-parallel-item:last-child::after {\n",
       "  align-self: flex-start;\n",
       "  width: 50%;\n",
       "}\n",
       "\n",
       "#sk-container-id-1 div.sk-parallel-item:only-child::after {\n",
       "  width: 0;\n",
       "}\n",
       "\n",
       "/* Serial-specific style estimator block */\n",
       "\n",
       "#sk-container-id-1 div.sk-serial {\n",
       "  display: flex;\n",
       "  flex-direction: column;\n",
       "  align-items: center;\n",
       "  background-color: var(--sklearn-color-background);\n",
       "  padding-right: 1em;\n",
       "  padding-left: 1em;\n",
       "}\n",
       "\n",
       "\n",
       "/* Toggleable style: style used for estimator/Pipeline/ColumnTransformer box that is\n",
       "clickable and can be expanded/collapsed.\n",
       "- Pipeline and ColumnTransformer use this feature and define the default style\n",
       "- Estimators will overwrite some part of the style using the `sk-estimator` class\n",
       "*/\n",
       "\n",
       "/* Pipeline and ColumnTransformer style (default) */\n",
       "\n",
       "#sk-container-id-1 div.sk-toggleable {\n",
       "  /* Default theme specific background. It is overwritten whether we have a\n",
       "  specific estimator or a Pipeline/ColumnTransformer */\n",
       "  background-color: var(--sklearn-color-background);\n",
       "}\n",
       "\n",
       "/* Toggleable label */\n",
       "#sk-container-id-1 label.sk-toggleable__label {\n",
       "  cursor: pointer;\n",
       "  display: flex;\n",
       "  width: 100%;\n",
       "  margin-bottom: 0;\n",
       "  padding: 0.5em;\n",
       "  box-sizing: border-box;\n",
       "  text-align: center;\n",
       "  align-items: start;\n",
       "  justify-content: space-between;\n",
       "  gap: 0.5em;\n",
       "}\n",
       "\n",
       "#sk-container-id-1 label.sk-toggleable__label .caption {\n",
       "  font-size: 0.6rem;\n",
       "  font-weight: lighter;\n",
       "  color: var(--sklearn-color-text-muted);\n",
       "}\n",
       "\n",
       "#sk-container-id-1 label.sk-toggleable__label-arrow:before {\n",
       "  /* Arrow on the left of the label */\n",
       "  content: \"▸\";\n",
       "  float: left;\n",
       "  margin-right: 0.25em;\n",
       "  color: var(--sklearn-color-icon);\n",
       "}\n",
       "\n",
       "#sk-container-id-1 label.sk-toggleable__label-arrow:hover:before {\n",
       "  color: var(--sklearn-color-text);\n",
       "}\n",
       "\n",
       "/* Toggleable content - dropdown */\n",
       "\n",
       "#sk-container-id-1 div.sk-toggleable__content {\n",
       "  max-height: 0;\n",
       "  max-width: 0;\n",
       "  overflow: hidden;\n",
       "  text-align: left;\n",
       "  /* unfitted */\n",
       "  background-color: var(--sklearn-color-unfitted-level-0);\n",
       "}\n",
       "\n",
       "#sk-container-id-1 div.sk-toggleable__content.fitted {\n",
       "  /* fitted */\n",
       "  background-color: var(--sklearn-color-fitted-level-0);\n",
       "}\n",
       "\n",
       "#sk-container-id-1 div.sk-toggleable__content pre {\n",
       "  margin: 0.2em;\n",
       "  border-radius: 0.25em;\n",
       "  color: var(--sklearn-color-text);\n",
       "  /* unfitted */\n",
       "  background-color: var(--sklearn-color-unfitted-level-0);\n",
       "}\n",
       "\n",
       "#sk-container-id-1 div.sk-toggleable__content.fitted pre {\n",
       "  /* unfitted */\n",
       "  background-color: var(--sklearn-color-fitted-level-0);\n",
       "}\n",
       "\n",
       "#sk-container-id-1 input.sk-toggleable__control:checked~div.sk-toggleable__content {\n",
       "  /* Expand drop-down */\n",
       "  max-height: 200px;\n",
       "  max-width: 100%;\n",
       "  overflow: auto;\n",
       "}\n",
       "\n",
       "#sk-container-id-1 input.sk-toggleable__control:checked~label.sk-toggleable__label-arrow:before {\n",
       "  content: \"▾\";\n",
       "}\n",
       "\n",
       "/* Pipeline/ColumnTransformer-specific style */\n",
       "\n",
       "#sk-container-id-1 div.sk-label input.sk-toggleable__control:checked~label.sk-toggleable__label {\n",
       "  color: var(--sklearn-color-text);\n",
       "  background-color: var(--sklearn-color-unfitted-level-2);\n",
       "}\n",
       "\n",
       "#sk-container-id-1 div.sk-label.fitted input.sk-toggleable__control:checked~label.sk-toggleable__label {\n",
       "  background-color: var(--sklearn-color-fitted-level-2);\n",
       "}\n",
       "\n",
       "/* Estimator-specific style */\n",
       "\n",
       "/* Colorize estimator box */\n",
       "#sk-container-id-1 div.sk-estimator input.sk-toggleable__control:checked~label.sk-toggleable__label {\n",
       "  /* unfitted */\n",
       "  background-color: var(--sklearn-color-unfitted-level-2);\n",
       "}\n",
       "\n",
       "#sk-container-id-1 div.sk-estimator.fitted input.sk-toggleable__control:checked~label.sk-toggleable__label {\n",
       "  /* fitted */\n",
       "  background-color: var(--sklearn-color-fitted-level-2);\n",
       "}\n",
       "\n",
       "#sk-container-id-1 div.sk-label label.sk-toggleable__label,\n",
       "#sk-container-id-1 div.sk-label label {\n",
       "  /* The background is the default theme color */\n",
       "  color: var(--sklearn-color-text-on-default-background);\n",
       "}\n",
       "\n",
       "/* On hover, darken the color of the background */\n",
       "#sk-container-id-1 div.sk-label:hover label.sk-toggleable__label {\n",
       "  color: var(--sklearn-color-text);\n",
       "  background-color: var(--sklearn-color-unfitted-level-2);\n",
       "}\n",
       "\n",
       "/* Label box, darken color on hover, fitted */\n",
       "#sk-container-id-1 div.sk-label.fitted:hover label.sk-toggleable__label.fitted {\n",
       "  color: var(--sklearn-color-text);\n",
       "  background-color: var(--sklearn-color-fitted-level-2);\n",
       "}\n",
       "\n",
       "/* Estimator label */\n",
       "\n",
       "#sk-container-id-1 div.sk-label label {\n",
       "  font-family: monospace;\n",
       "  font-weight: bold;\n",
       "  display: inline-block;\n",
       "  line-height: 1.2em;\n",
       "}\n",
       "\n",
       "#sk-container-id-1 div.sk-label-container {\n",
       "  text-align: center;\n",
       "}\n",
       "\n",
       "/* Estimator-specific */\n",
       "#sk-container-id-1 div.sk-estimator {\n",
       "  font-family: monospace;\n",
       "  border: 1px dotted var(--sklearn-color-border-box);\n",
       "  border-radius: 0.25em;\n",
       "  box-sizing: border-box;\n",
       "  margin-bottom: 0.5em;\n",
       "  /* unfitted */\n",
       "  background-color: var(--sklearn-color-unfitted-level-0);\n",
       "}\n",
       "\n",
       "#sk-container-id-1 div.sk-estimator.fitted {\n",
       "  /* fitted */\n",
       "  background-color: var(--sklearn-color-fitted-level-0);\n",
       "}\n",
       "\n",
       "/* on hover */\n",
       "#sk-container-id-1 div.sk-estimator:hover {\n",
       "  /* unfitted */\n",
       "  background-color: var(--sklearn-color-unfitted-level-2);\n",
       "}\n",
       "\n",
       "#sk-container-id-1 div.sk-estimator.fitted:hover {\n",
       "  /* fitted */\n",
       "  background-color: var(--sklearn-color-fitted-level-2);\n",
       "}\n",
       "\n",
       "/* Specification for estimator info (e.g. \"i\" and \"?\") */\n",
       "\n",
       "/* Common style for \"i\" and \"?\" */\n",
       "\n",
       ".sk-estimator-doc-link,\n",
       "a:link.sk-estimator-doc-link,\n",
       "a:visited.sk-estimator-doc-link {\n",
       "  float: right;\n",
       "  font-size: smaller;\n",
       "  line-height: 1em;\n",
       "  font-family: monospace;\n",
       "  background-color: var(--sklearn-color-background);\n",
       "  border-radius: 1em;\n",
       "  height: 1em;\n",
       "  width: 1em;\n",
       "  text-decoration: none !important;\n",
       "  margin-left: 0.5em;\n",
       "  text-align: center;\n",
       "  /* unfitted */\n",
       "  border: var(--sklearn-color-unfitted-level-1) 1pt solid;\n",
       "  color: var(--sklearn-color-unfitted-level-1);\n",
       "}\n",
       "\n",
       ".sk-estimator-doc-link.fitted,\n",
       "a:link.sk-estimator-doc-link.fitted,\n",
       "a:visited.sk-estimator-doc-link.fitted {\n",
       "  /* fitted */\n",
       "  border: var(--sklearn-color-fitted-level-1) 1pt solid;\n",
       "  color: var(--sklearn-color-fitted-level-1);\n",
       "}\n",
       "\n",
       "/* On hover */\n",
       "div.sk-estimator:hover .sk-estimator-doc-link:hover,\n",
       ".sk-estimator-doc-link:hover,\n",
       "div.sk-label-container:hover .sk-estimator-doc-link:hover,\n",
       ".sk-estimator-doc-link:hover {\n",
       "  /* unfitted */\n",
       "  background-color: var(--sklearn-color-unfitted-level-3);\n",
       "  color: var(--sklearn-color-background);\n",
       "  text-decoration: none;\n",
       "}\n",
       "\n",
       "div.sk-estimator.fitted:hover .sk-estimator-doc-link.fitted:hover,\n",
       ".sk-estimator-doc-link.fitted:hover,\n",
       "div.sk-label-container:hover .sk-estimator-doc-link.fitted:hover,\n",
       ".sk-estimator-doc-link.fitted:hover {\n",
       "  /* fitted */\n",
       "  background-color: var(--sklearn-color-fitted-level-3);\n",
       "  color: var(--sklearn-color-background);\n",
       "  text-decoration: none;\n",
       "}\n",
       "\n",
       "/* Span, style for the box shown on hovering the info icon */\n",
       ".sk-estimator-doc-link span {\n",
       "  display: none;\n",
       "  z-index: 9999;\n",
       "  position: relative;\n",
       "  font-weight: normal;\n",
       "  right: .2ex;\n",
       "  padding: .5ex;\n",
       "  margin: .5ex;\n",
       "  width: min-content;\n",
       "  min-width: 20ex;\n",
       "  max-width: 50ex;\n",
       "  color: var(--sklearn-color-text);\n",
       "  box-shadow: 2pt 2pt 4pt #999;\n",
       "  /* unfitted */\n",
       "  background: var(--sklearn-color-unfitted-level-0);\n",
       "  border: .5pt solid var(--sklearn-color-unfitted-level-3);\n",
       "}\n",
       "\n",
       ".sk-estimator-doc-link.fitted span {\n",
       "  /* fitted */\n",
       "  background: var(--sklearn-color-fitted-level-0);\n",
       "  border: var(--sklearn-color-fitted-level-3);\n",
       "}\n",
       "\n",
       ".sk-estimator-doc-link:hover span {\n",
       "  display: block;\n",
       "}\n",
       "\n",
       "/* \"?\"-specific style due to the `<a>` HTML tag */\n",
       "\n",
       "#sk-container-id-1 a.estimator_doc_link {\n",
       "  float: right;\n",
       "  font-size: 1rem;\n",
       "  line-height: 1em;\n",
       "  font-family: monospace;\n",
       "  background-color: var(--sklearn-color-background);\n",
       "  border-radius: 1rem;\n",
       "  height: 1rem;\n",
       "  width: 1rem;\n",
       "  text-decoration: none;\n",
       "  /* unfitted */\n",
       "  color: var(--sklearn-color-unfitted-level-1);\n",
       "  border: var(--sklearn-color-unfitted-level-1) 1pt solid;\n",
       "}\n",
       "\n",
       "#sk-container-id-1 a.estimator_doc_link.fitted {\n",
       "  /* fitted */\n",
       "  border: var(--sklearn-color-fitted-level-1) 1pt solid;\n",
       "  color: var(--sklearn-color-fitted-level-1);\n",
       "}\n",
       "\n",
       "/* On hover */\n",
       "#sk-container-id-1 a.estimator_doc_link:hover {\n",
       "  /* unfitted */\n",
       "  background-color: var(--sklearn-color-unfitted-level-3);\n",
       "  color: var(--sklearn-color-background);\n",
       "  text-decoration: none;\n",
       "}\n",
       "\n",
       "#sk-container-id-1 a.estimator_doc_link.fitted:hover {\n",
       "  /* fitted */\n",
       "  background-color: var(--sklearn-color-fitted-level-3);\n",
       "}\n",
       "</style><div id=\"sk-container-id-1\" class=\"sk-top-container\"><div class=\"sk-text-repr-fallback\"><pre>GridSearchCV(cv=5,\n",
       "             estimator=Pipeline(steps=[(&#x27;randomforestregressor&#x27;,\n",
       "                                        RandomForestRegressor(max_depth=10,\n",
       "                                                              min_samples_split=10,\n",
       "                                                              random_state=47))]),\n",
       "             n_jobs=-1,\n",
       "             param_grid={&#x27;randomforestregressor__max_depth&#x27;: [5, 10, 20],\n",
       "                         &#x27;randomforestregressor__min_samples_leaf&#x27;: [1, 2, 4],\n",
       "                         &#x27;randomforestregressor__min_samples_split&#x27;: [2, 5, 10],\n",
       "                         &#x27;randomforestregressor__n_estimators&#x27;: [100, 200,\n",
       "                                                                 300]})</pre><b>In a Jupyter environment, please rerun this cell to show the HTML representation or trust the notebook. <br />On GitHub, the HTML representation is unable to render, please try loading this page with nbviewer.org.</b></div><div class=\"sk-container\" hidden><div class=\"sk-item sk-dashed-wrapped\"><div class=\"sk-label-container\"><div class=\"sk-label fitted sk-toggleable\"><input class=\"sk-toggleable__control sk-hidden--visually\" id=\"sk-estimator-id-1\" type=\"checkbox\" ><label for=\"sk-estimator-id-1\" class=\"sk-toggleable__label fitted sk-toggleable__label-arrow\"><div><div>GridSearchCV</div></div><div><a class=\"sk-estimator-doc-link fitted\" rel=\"noreferrer\" target=\"_blank\" href=\"https://scikit-learn.org/1.6/modules/generated/sklearn.model_selection.GridSearchCV.html\">?<span>Documentation for GridSearchCV</span></a><span class=\"sk-estimator-doc-link fitted\">i<span>Fitted</span></span></div></label><div class=\"sk-toggleable__content fitted\"><pre>GridSearchCV(cv=5,\n",
       "             estimator=Pipeline(steps=[(&#x27;randomforestregressor&#x27;,\n",
       "                                        RandomForestRegressor(max_depth=10,\n",
       "                                                              min_samples_split=10,\n",
       "                                                              random_state=47))]),\n",
       "             n_jobs=-1,\n",
       "             param_grid={&#x27;randomforestregressor__max_depth&#x27;: [5, 10, 20],\n",
       "                         &#x27;randomforestregressor__min_samples_leaf&#x27;: [1, 2, 4],\n",
       "                         &#x27;randomforestregressor__min_samples_split&#x27;: [2, 5, 10],\n",
       "                         &#x27;randomforestregressor__n_estimators&#x27;: [100, 200,\n",
       "                                                                 300]})</pre></div> </div></div><div class=\"sk-parallel\"><div class=\"sk-parallel-item\"><div class=\"sk-item\"><div class=\"sk-label-container\"><div class=\"sk-label fitted sk-toggleable\"><input class=\"sk-toggleable__control sk-hidden--visually\" id=\"sk-estimator-id-2\" type=\"checkbox\" ><label for=\"sk-estimator-id-2\" class=\"sk-toggleable__label fitted sk-toggleable__label-arrow\"><div><div>best_estimator_: Pipeline</div></div></label><div class=\"sk-toggleable__content fitted\"><pre>Pipeline(steps=[(&#x27;randomforestregressor&#x27;,\n",
       "                 RandomForestRegressor(max_depth=20, min_samples_leaf=2,\n",
       "                                       n_estimators=300, random_state=47))])</pre></div> </div></div><div class=\"sk-serial\"><div class=\"sk-item\"><div class=\"sk-serial\"><div class=\"sk-item\"><div class=\"sk-estimator fitted sk-toggleable\"><input class=\"sk-toggleable__control sk-hidden--visually\" id=\"sk-estimator-id-3\" type=\"checkbox\" ><label for=\"sk-estimator-id-3\" class=\"sk-toggleable__label fitted sk-toggleable__label-arrow\"><div><div>RandomForestRegressor</div></div><div><a class=\"sk-estimator-doc-link fitted\" rel=\"noreferrer\" target=\"_blank\" href=\"https://scikit-learn.org/1.6/modules/generated/sklearn.ensemble.RandomForestRegressor.html\">?<span>Documentation for RandomForestRegressor</span></a></div></label><div class=\"sk-toggleable__content fitted\"><pre>RandomForestRegressor(max_depth=20, min_samples_leaf=2, n_estimators=300,\n",
       "                      random_state=47)</pre></div> </div></div></div></div></div></div></div></div></div></div></div>"
      ],
      "text/plain": [
       "GridSearchCV(cv=5,\n",
       "             estimator=Pipeline(steps=[('randomforestregressor',\n",
       "                                        RandomForestRegressor(max_depth=10,\n",
       "                                                              min_samples_split=10,\n",
       "                                                              random_state=47))]),\n",
       "             n_jobs=-1,\n",
       "             param_grid={'randomforestregressor__max_depth': [5, 10, 20],\n",
       "                         'randomforestregressor__min_samples_leaf': [1, 2, 4],\n",
       "                         'randomforestregressor__min_samples_split': [2, 5, 10],\n",
       "                         'randomforestregressor__n_estimators': [100, 200,\n",
       "                                                                 300]})"
      ]
     },
     "execution_count": 28,
     "metadata": {},
     "output_type": "execute_result"
    }
   ],
   "source": [
    "#Now call the `GridSearchCV`'s `fit()` method with `X_train` and `y_train` as arguments\n",
    "#to actually start the grid search. This may take a minute or two.\n",
    "rf_grid_cv.fit(X_train, y_train)"
   ]
  },
  {
   "cell_type": "code",
   "execution_count": 29,
   "id": "3a45bb6d",
   "metadata": {},
   "outputs": [
    {
     "data": {
      "text/plain": [
       "{'randomforestregressor__max_depth': 20,\n",
       " 'randomforestregressor__min_samples_leaf': 2,\n",
       " 'randomforestregressor__min_samples_split': 2,\n",
       " 'randomforestregressor__n_estimators': 300}"
      ]
     },
     "execution_count": 29,
     "metadata": {},
     "output_type": "execute_result"
    }
   ],
   "source": [
    "#Print the best params (`best_params_` attribute) from the grid search\n",
    "rf_grid_cv.best_params_"
   ]
  },
  {
   "cell_type": "code",
   "execution_count": 30,
   "id": "c5e7ef70",
   "metadata": {},
   "outputs": [
    {
     "data": {
      "text/plain": [
       "array([0.99996988, 0.99997802, 0.99996608, 0.99995874, 0.99996718])"
      ]
     },
     "execution_count": 30,
     "metadata": {},
     "output_type": "execute_result"
    }
   ],
   "source": [
    "rf_best_cv_results = cross_validate(rf_grid_cv.best_estimator_, X_train, y_train, cv=5)\n",
    "rf_best_scores = rf_best_cv_results['test_score']\n",
    "rf_best_scores"
   ]
  },
  {
   "cell_type": "code",
   "execution_count": 31,
   "id": "5d366938",
   "metadata": {},
   "outputs": [
    {
     "data": {
      "text/plain": [
       "(0.9999679805838021, 6.22958988848313e-06)"
      ]
     },
     "execution_count": 31,
     "metadata": {},
     "output_type": "execute_result"
    }
   ],
   "source": [
    "np.mean(rf_best_scores), np.std(rf_best_scores)"
   ]
  },
  {
   "cell_type": "markdown",
   "id": "4ab7b05e",
   "metadata": {},
   "source": [
    "There is a slight improvement in performance after performing a hyperparameter tuning as compared to has been seen from the default CV results."
   ]
  },
  {
   "cell_type": "code",
   "execution_count": 32,
   "id": "76e466dd",
   "metadata": {},
   "outputs": [
    {
     "data": {
      "image/png": "[encoded data removed]",
      "text/plain": [
       "<Figure size 1000x600 with 1 Axes>"
      ]
     },
     "metadata": {},
     "output_type": "display_data"
    }
   ],
   "source": [
    "#Plot a barplot of the random forest's feature importances,\n",
    "#assigning the `feature_importances_` attribute of \n",
    "#`rf_grid_cv.best_estimator_.named_steps.randomforestregressor` to the name `imps` to then\n",
    "#create a pandas Series object of the feature importances, with the index given by the\n",
    "#training data column names, sorting the values in descending order\n",
    "plt.subplots(figsize=(10, 6))\n",
    "imps = rf_grid_cv.best_estimator_.named_steps.randomforestregressor.feature_importances_\n",
    "rf_feat_imps = pd.Series(imps, index=X_train.columns).sort_values(ascending=False)\n",
    "rf_feat_imps.plot(kind='bar')\n",
    "plt.xlabel('features')\n",
    "plt.ylabel('importance')\n",
    "plt.title('Best random forest regressor feature importances');"
   ]
  },
  {
   "cell_type": "code",
   "execution_count": 33,
   "id": "294293ac",
   "metadata": {},
   "outputs": [
    {
     "name": "stdout",
     "output_type": "stream",
     "text": [
      "Rating                  0.999956\n",
      "Product Name_encoded    0.000007\n",
      "Size_encoded            0.000006\n",
      "User ID_encoded         0.000006\n",
      "Color_encoded           0.000006\n",
      "Brand_encoded           0.000005\n",
      "Category_encoded        0.000005\n",
      "Price                   0.000005\n",
      "Product ID              0.000004\n",
      "dtype: float64\n"
     ]
    },
    {
     "data": {
      "image/png": "[encoded data removed]",
      "text/plain": [
       "<Figure size 640x480 with 1 Axes>"
      ]
     },
     "metadata": {},
     "output_type": "display_data"
    }
   ],
   "source": [
    "# Get the top N important features (e.g., top 3)\n",
    "top_n = 20\n",
    "top_features = rf_feat_imps.head(top_n)\n",
    "\n",
    "# Print top N features\n",
    "print(top_features)\n",
    "\n",
    "top_features.plot(kind='bar')\n",
    "plt.xticks(rotation=75)\n",
    "plt.xlabel('features')\n",
    "plt.ylabel('importance')\n",
    "plt.title('Best random forest regressor feature importances');"
   ]
  },
  {
   "cell_type": "markdown",
   "id": "4115d9a8",
   "metadata": {},
   "source": [
    "A bar plot of feature importances above helps us identify following features contribute most to a model’s predictions:\n",
    "Product ID, Price, User ID_24, User ID_30, User ID_83, Category_Kids Fashion, Size_M, User ID_26, User ID_76, User ID_51 are all top features."
   ]
  },
  {
   "cell_type": "code",
   "execution_count": 34,
   "id": "b2e382ae",
   "metadata": {},
   "outputs": [
    {
     "data": {
      "image/png": "[encoded data removed]",
      "text/plain": [
       "<Figure size 800x600 with 2 Axes>"
      ]
     },
     "metadata": {},
     "output_type": "display_data"
    }
   ],
   "source": [
    "import seaborn as sns\n",
    "import matplotlib.pyplot as plt\n",
    "\n",
    "# Pearson correlation matrix\n",
    "corr_matrix = df_new.corr(method='pearson')\n",
    "\n",
    "# Plotting the correlation matrix using seaborn heatmap\n",
    "plt.figure(figsize=(8, 6))\n",
    "sns.heatmap(corr_matrix, annot=True, cmap='coolwarm', fmt='.2f', linewidths=0.5)\n",
    "plt.title('Feature Correlation Matrix')\n",
    "plt.show()"
   ]
  },
  {
   "cell_type": "code",
   "execution_count": 35,
   "id": "354ba043",
   "metadata": {},
   "outputs": [
    {
     "name": "stdout",
     "output_type": "stream",
     "text": [
      "[2.89267219 4.94839789 1.25833541 4.74257285 2.04294343 2.40877201\n",
      " 1.450853   1.6088083  4.94770109 3.12661006 2.40854618 2.40272049\n",
      " 3.93330891 2.57408504 1.37663543 1.727262   3.73829023 1.65804295\n",
      " 1.84273086 2.24206271 3.70237949 1.06464206 4.65764293 4.59718504\n",
      " 2.65878502 4.17504458 1.84278533 2.03925084 4.30348012 2.25959385\n",
      " 4.17004215 4.35883487 3.46572125 2.59745253 3.55613083 2.05364412\n",
      " 3.72704114 2.32730522 3.95935712 2.09792492 4.97646056 2.23223649\n",
      " 2.00125507 3.8115158  3.26184973 4.50788552 4.3046678  2.19019873\n",
      " 3.92382178 2.50331216 1.94358668 1.02664527 3.93980014 4.86944573\n",
      " 1.49598435 2.14616974 1.02323362 2.19464795 3.24905876 2.92460916\n",
      " 2.60519256 3.49158764 1.89451988 4.15053917 2.93847615 4.43829734\n",
      " 4.50575319 1.40032958 2.58534846 1.19978405 2.39334461 1.87772523\n",
      " 2.00002748 1.56915515 3.15263943 2.77406639 2.4408139  2.43161352\n",
      " 4.73225035 2.5738587  3.18179938 1.17807737 1.68995782 3.66841918\n",
      " 1.8395101  2.40876672 2.60608718 3.14757884 1.94405897 3.08884149\n",
      " 1.99929969 2.9780665  1.17431573 3.98976079 3.33794415 3.05521461\n",
      " 3.18765704 2.82456303 2.94932413 1.20335526 4.40112629 3.08980184\n",
      " 3.4289673  1.84165492 3.4580695  2.30802015 4.97468214 2.79441012\n",
      " 3.28101682 3.08802621 1.20245476 3.88299886 3.19743829 3.07647782\n",
      " 1.66874373 4.07310759 1.02187196 4.02575908 1.57575648 2.63073963\n",
      " 3.72379206 1.70111774 3.39494662 4.27383391 3.4087087  2.79761304\n",
      " 4.2127238  1.49589803 1.79401982 3.64210745 3.08632623 3.99991276\n",
      " 3.80701061 4.45616228 4.47918263 4.0556332  3.12783731 4.12892095\n",
      " 4.92602908 3.07824749 1.35034208 4.73888849 2.77142095 1.78229668\n",
      " 3.48307482 4.4551756  2.93012895 3.14797934 4.44042589 1.36024529\n",
      " 4.07403102 2.2375157  1.39482138 4.67837271 4.56802361 1.84070724\n",
      " 4.71456364 4.05368726 2.6423678  2.24210935 1.41920059 3.72832692\n",
      " 3.96630254 2.50813597 3.70367749 2.25996492 2.43404685 3.68137395\n",
      " 4.70167798 2.57874119 1.59603792 3.23475516 3.6471877  4.64084259\n",
      " 4.3980538  2.36739253 2.64649199 4.24621229 2.92305979 3.6652197\n",
      " 4.65542597 2.09917911 3.93784929 1.37523574 2.57544805 3.66558732\n",
      " 4.50251665 3.15538906 1.10971213 3.09084057 3.45010306 2.40310824\n",
      " 1.54314767 1.24744276 3.00100455 3.35003615 3.27447779 4.45151703\n",
      " 3.70335035 2.62302024 1.66829385 4.78203305 1.12795889 3.96171101\n",
      " 3.39839063 4.69030623 4.19796459 1.80122551 2.14092821 4.43892679\n",
      " 2.97896831 1.0679787  4.4513978  3.44505861 4.14110013 1.0193583\n",
      " 4.3553386  4.28049197 1.16536826 2.50389305 3.21641964 2.3561978\n",
      " 4.64209427 1.56361843 1.94395742 2.67746935 4.49584783 2.75495576\n",
      " 4.17558255 1.09158467 1.89864433 4.17322481 3.39474094 2.72436219\n",
      " 2.55445319 2.03203808 3.11777843 3.83171814 3.58030388 3.4013223\n",
      " 1.10715292 3.38779348 3.80913258 1.02512777 4.27962588 1.04405604\n",
      " 4.09533124 1.09632941 1.26886081 4.30438213 4.56470865 2.64828882\n",
      " 4.30245896 2.36362127 4.64813555 1.65885062 1.45170807 3.12121885\n",
      " 4.22484744 2.95590609 3.64167112 3.69783489 2.06128959 4.74153172\n",
      " 4.32587364 4.71747154 4.15313113 2.76130584 3.01137095 1.60392757\n",
      " 2.71208455 3.04919918 4.79990284 2.53751715 2.9795895  4.42352418\n",
      " 4.9723582  1.02235897 1.42150996 4.92264535 1.76438591 4.14103651\n",
      " 2.93074152 4.4725179  1.29726915 2.01010856 4.90345747 2.05776758\n",
      " 2.05937384 2.40245425 1.18582913 3.70238984 1.47673625 4.71099659\n",
      " 3.12565982 3.07377451 3.14760995 3.17357274 2.17149829 1.10289138]\n"
     ]
    }
   ],
   "source": [
    "# Predict on the test set\n",
    "y_pred = rf_grid_cv.predict(X_test)\n",
    "\n",
    "# Display predicted ratings\n",
    "print(y_pred)"
   ]
  },
  {
   "cell_type": "code",
   "execution_count": 36,
   "id": "ad01c160",
   "metadata": {},
   "outputs": [
    {
     "name": "stdout",
     "output_type": "stream",
     "text": [
      "Mean Squared Error: 0.00\n",
      "Mean Absolute Error: 0.00\n",
      "RMSE: 0.004580684921527502\n",
      "R-squared: 1.00\n"
     ]
    }
   ],
   "source": [
    "from sklearn.metrics import r2_score\n",
    "from sklearn.metrics import mean_squared_error\n",
    "\n",
    "# Evaluate the model's performance\n",
    "mse = mean_squared_error(y_test, y_pred)\n",
    "mae = mean_absolute_error(y_test, y_pred)\n",
    "r2 = r2_score(y_test, y_pred)\n",
    "rmse = np.sqrt(mse)\n",
    "\n",
    "print(f\"Mean Squared Error: {mse:.2f}\")\n",
    "print(f\"Mean Absolute Error: {mae:.2f}\")\n",
    "print(f\"RMSE: {rmse}\")\n",
    "print(f\"R-squared: {r2:.2f}\")\n"
   ]
  },
  {
   "cell_type": "markdown",
   "id": "476b208a",
   "metadata": {},
   "source": [
    "This is an issue, R square still not significant."
   ]
  },
  {
   "cell_type": "code",
   "execution_count": 37,
   "id": "745c2460",
   "metadata": {},
   "outputs": [
    {
     "name": "stdout",
     "output_type": "stream",
     "text": [
      "Adjusted R-squared:  0.9999832737047378\n"
     ]
    }
   ],
   "source": [
    "# Calculate Adjusted R-squared\n",
    "n = X_test.shape[0]\n",
    "k = X_test.shape[1]\n",
    "adjusted_r_squared = 1 - ((1 - r2) * (n - 1)) / (n - k - 1)\n",
    "print(\"Adjusted R-squared: \", adjusted_r_squared)"
   ]
  },
  {
   "cell_type": "code",
   "execution_count": 38,
   "id": "8c0fb820",
   "metadata": {},
   "outputs": [
    {
     "data": {
      "image/png": "[encoded data removed]",
      "text/plain": [
       "<Figure size 800x600 with 1 Axes>"
      ]
     },
     "metadata": {},
     "output_type": "display_data"
    }
   ],
   "source": [
    "# Plot predicted vs actual ratings\n",
    "plt.figure(figsize=(8, 6))\n",
    "plt.scatter(y_test, y_pred, alpha=0.5)\n",
    "plt.title(\"Predicted vs Actual Ratings\")\n",
    "plt.xlabel(\"Actual Ratings\")\n",
    "plt.ylabel(\"Predicted Ratings\")\n",
    "plt.show()"
   ]
  },
  {
   "cell_type": "markdown",
   "id": "73942a0d",
   "metadata": {},
   "source": [
    "# Analyzing Predicted Ratings Distribution"
   ]
  },
  {
   "cell_type": "code",
   "execution_count": 39,
   "id": "71b83585",
   "metadata": {
    "scrolled": true
   },
   "outputs": [
    {
     "data": {
      "image/png": "[encoded data removed]",
      "text/plain": [
       "<Figure size 640x480 with 1 Axes>"
      ]
     },
     "metadata": {},
     "output_type": "display_data"
    }
   ],
   "source": [
    "import matplotlib.pyplot as plt\n",
    "\n",
    "# Simulate predicted ratings for users\n",
    "predicted_ratings = y_pred\n",
    "\n",
    "# Plot histogram of predicted ratings\n",
    "plt.hist(predicted_ratings, bins=5, edgecolor='black')\n",
    "plt.title(\"Distribution of Predicted Ratings\")\n",
    "plt.xlabel(\"Predicted Rating\")\n",
    "plt.ylabel(\"Frequency\")\n",
    "plt.show()"
   ]
  },
  {
   "cell_type": "markdown",
   "id": "3cea7f43",
   "metadata": {},
   "source": [
    "This mentions 3.0 is the most common rating and 2.5 comes second."
   ]
  },
  {
   "cell_type": "markdown",
   "id": "8c10705a",
   "metadata": {},
   "source": [
    "# Method 2 - XG BOOST MODEL"
   ]
  },
  {
   "cell_type": "markdown",
   "id": "6b6d3c5a",
   "metadata": {},
   "source": [
    "# Initialize, Build and Train the XGBoost Model"
   ]
  },
  {
   "cell_type": "code",
   "execution_count": 40,
   "id": "a669535c",
   "metadata": {},
   "outputs": [],
   "source": [
    "import xgboost as xgb\n",
    "from sklearn.metrics import mean_squared_error\n",
    "import numpy as np\n",
    "\n",
    "# Initialize the XGBoost Regressor\n",
    "xgb_model = xgb.XGBRegressor(objective='reg:squarederror', \n",
    "                             n_estimators=100, \n",
    "                             max_depth=6, \n",
    "                             learning_rate=0.1, \n",
    "                             random_state=42)\n",
    "\n",
    "# Train the model on the training data\n",
    "xgb_model.fit(X_train, y_train)\n",
    "\n",
    "# Make predictions on the test data\n",
    "y_pred = xgb_model.predict(X_test)"
   ]
  },
  {
   "cell_type": "markdown",
   "id": "8ff09b50",
   "metadata": {},
   "source": [
    "# Assess performance using RMSE, MAE, MSE"
   ]
  },
  {
   "cell_type": "code",
   "execution_count": 41,
   "id": "8fc47391",
   "metadata": {},
   "outputs": [
    {
     "name": "stdout",
     "output_type": "stream",
     "text": [
      "Mean Absolute Error (MAE): 0.007717887810233643\n",
      "R-squared: 0.999918999913102\n",
      "RMSE: 0.010235519225721785\n",
      "Mean Squared Error: 0.0001047658538201203\n"
     ]
    }
   ],
   "source": [
    "# Evaluate the model's performance\n",
    "mae = mean_absolute_error(y_test, y_pred)\n",
    "r2 = r2_score(y_test, y_pred)\n",
    "rmse = np.sqrt(mean_squared_error(y_test, y_pred))\n",
    "mse = mean_squared_error(y_test, y_pred)\n",
    "\n",
    "print(f\"Mean Absolute Error (MAE): {mae}\")\n",
    "print(f\"R-squared: {r2}\")\n",
    "print(f\"RMSE: {rmse}\")\n",
    "print(f'Mean Squared Error: {mse}')\n"
   ]
  },
  {
   "cell_type": "code",
   "execution_count": 42,
   "id": "0f9e192e",
   "metadata": {},
   "outputs": [
    {
     "data": {
      "image/png": "[encoded data removed]",
      "text/plain": [
       "<Figure size 640x480 with 1 Axes>"
      ]
     },
     "metadata": {},
     "output_type": "display_data"
    }
   ],
   "source": [
    "# Plot feature importance\n",
    "xgb.plot_importance(xgb_model, importance_type='weight', max_num_features=10, height=0.5)\n",
    "plt.title('Feature Importance')\n",
    "plt.show()"
   ]
  },
  {
   "cell_type": "markdown",
   "id": "35d44672",
   "metadata": {},
   "source": [
    "# Hyperparameter search using GridSearchCV"
   ]
  },
  {
   "cell_type": "code",
   "execution_count": 43,
   "id": "fc9e0e04",
   "metadata": {},
   "outputs": [
    {
     "name": "stdout",
     "output_type": "stream",
     "text": [
      "Fitting 3 folds for each of 729 candidates, totalling 2187 fits\n",
      "Best Parameters: {'colsample_bytree': 1.0, 'gamma': 0, 'learning_rate': 0.1, 'max_depth': 5, 'n_estimators': 100, 'subsample': 1.0}\n",
      "Best Score (Negative MSE): -0.00015006011548451893\n"
     ]
    }
   ],
   "source": [
    "from sklearn.model_selection import GridSearchCV\n",
    "from xgboost import XGBRegressor\n",
    "\n",
    "# Define the parameter grid\n",
    "param_grid = {\n",
    "    'n_estimators': [100, 200, 300],\n",
    "    'max_depth': [5, 10, 20],\n",
    "    'learning_rate': [0.01, 0.1, 0.2],\n",
    "    'subsample': [0.8, 0.9, 1.0],\n",
    "    'colsample_bytree': [0.7, 0.8, 1.0],\n",
    "    'gamma': [0, 0.1, 0.2]\n",
    "}\n",
    "\n",
    "# Create an instance of XGBRegressor\n",
    "xgb_regressor = XGBRegressor(objective='reg:squarederror')\n",
    "\n",
    "# Perform grid search with cross-validation\n",
    "grid_search = GridSearchCV(estimator=xgb_regressor, param_grid=param_grid, \n",
    "                           scoring='neg_mean_squared_error', cv=3, verbose=1, n_jobs=-1)\n",
    "\n",
    "# Fit the grid search\n",
    "grid_search.fit(X_train, y_train)\n",
    "\n",
    "# Get the best parameters and best score\n",
    "print(\"Best Parameters:\", grid_search.best_params_)\n",
    "print(\"Best Score (Negative MSE):\", grid_search.best_score_)\n",
    "\n",
    "# Use the best model to predict\n",
    "best_model = grid_search.best_estimator_\n",
    "y_pred = best_model.predict(X_test)"
   ]
  },
  {
   "cell_type": "markdown",
   "id": "a1898b76",
   "metadata": {},
   "source": [
    "# Method 3 - CATBOOST MODEL"
   ]
  },
  {
   "cell_type": "markdown",
   "id": "2154ebfa",
   "metadata": {},
   "source": [
    "Here we are predicting predicting a target like ratings (a continuous variable) based on a variety of features (both numerical and categorical) features such as Price (numerical), Product Name, User ID, Category, Size, Color, Brand (categorical)."
   ]
  },
  {
   "cell_type": "code",
   "execution_count": 44,
   "id": "8574d742",
   "metadata": {},
   "outputs": [
    {
     "data": {
      "text/plain": [
       "array([2.86024265, 3.0135275 , 3.04387003, 2.92618132, 2.79819699,\n",
       "       2.86710645, 3.10965106, 2.98111996, 3.06530415, 3.16139732,\n",
       "       3.27274822, 3.04851977, 3.14188895, 3.35205994, 3.33870917,\n",
       "       3.04545086, 3.43585709, 2.96443852, 2.85800071, 2.86711157,\n",
       "       2.72899619, 2.88956217, 3.08204445, 3.05157333, 2.71053707,\n",
       "       2.8968089 , 3.05136956, 3.64117743, 3.05824284, 2.90642078,\n",
       "       3.26039056, 2.95146014, 2.72783963, 2.95490008, 2.93316141,\n",
       "       2.62044958, 3.18498137, 2.65395764, 3.28266014, 3.16091055,\n",
       "       3.3037404 , 3.16088814, 2.72490718, 3.89639684, 2.94226227,\n",
       "       2.84662578, 3.38390587, 3.18304556, 2.68160178, 3.24335973,\n",
       "       2.96592967, 3.25694128, 3.24966009, 3.33941739, 3.42499461,\n",
       "       3.18685015, 3.02528875, 3.16763998, 3.07114365, 2.89732835,\n",
       "       3.02578454, 3.07874867, 3.15623594, 3.26141923, 3.08982408,\n",
       "       2.95077634, 2.86712751, 3.24885546, 3.13362751, 2.94790858,\n",
       "       2.84611375, 2.49433753, 3.03180613, 3.32940359, 2.80908655,\n",
       "       2.63212225, 3.14382587, 2.77899406, 2.9994373 , 2.92912064,\n",
       "       3.24956987, 3.25813304, 3.25844631, 2.83344888, 3.35324093,\n",
       "       3.24911993, 3.34829994, 2.65892811, 2.74575069, 2.82963314,\n",
       "       3.13180747, 3.44171237, 2.83218023, 3.41128249, 3.08970043,\n",
       "       2.89992358, 3.11173162, 3.09108175, 3.11036273, 3.06290225,\n",
       "       2.93950322, 3.17759281, 2.91712976, 2.64972914, 3.18455945,\n",
       "       3.14162272, 2.36253246, 2.54601909, 3.35429714, 2.89865851,\n",
       "       2.83980714, 2.51453381, 3.36744592, 2.95624303, 2.97425006,\n",
       "       3.24915327, 3.16025245, 3.29977158, 2.71949416, 2.76125904,\n",
       "       3.16737483, 2.70097451, 2.73073239, 2.64264098, 3.05742597,\n",
       "       3.23889836, 3.03325275, 2.98592983, 2.75961613, 2.86168406,\n",
       "       2.72603091, 3.36742108, 2.97638235, 3.68131641, 2.74068435,\n",
       "       2.83465972, 2.96211875, 3.00789468, 2.96488599, 2.5111485 ,\n",
       "       3.12055417, 2.89708948, 2.93633799, 3.29203581, 2.94618273,\n",
       "       2.47819561, 2.902934  , 2.97050295, 3.64843158, 3.04069833,\n",
       "       2.79440113, 3.52263175, 3.9020884 , 3.39603633, 2.87430981,\n",
       "       3.07812749, 3.13202558, 3.32099553, 3.05950788, 3.05619441,\n",
       "       2.88586241, 2.72514882, 2.77103151, 2.80695006, 2.95071451,\n",
       "       2.57666804, 3.19955398, 2.64579404, 3.02830228, 2.87926356,\n",
       "       3.18669934, 2.63023711, 2.84499719, 3.03879615, 2.7004056 ,\n",
       "       2.75313512, 3.28269978, 2.927769  , 2.83678223, 3.42547675,\n",
       "       2.88205509, 3.11727811, 2.95608909, 2.54164396, 2.83688507,\n",
       "       3.28226442, 2.53942775, 2.69035235, 3.14406921, 3.13232715,\n",
       "       3.16708563, 2.94915471, 2.97208771, 3.02392159, 3.07398794,\n",
       "       2.87616301, 2.78017625, 2.84765088, 3.03492918, 2.7666105 ,\n",
       "       2.87642871, 3.05560387, 3.03002392, 3.39902106, 3.07384211,\n",
       "       2.90633474, 2.85134426, 3.15381985, 2.88224437, 2.90247819,\n",
       "       2.88795008, 2.87724232, 3.23966674, 3.15227004, 3.51308808,\n",
       "       3.24420885, 2.63610474, 2.64788573, 2.71933053, 3.38116139,\n",
       "       2.98731791, 2.9558336 , 3.23246262, 3.01612556, 3.13837849,\n",
       "       2.8584161 , 2.31933616, 2.53426525, 2.89366075, 3.13287662,\n",
       "       3.43157468, 3.5543553 , 2.75079245, 2.85908275, 3.43353174,\n",
       "       2.90290306, 2.95240915, 3.14048626, 2.86307303, 2.95489406,\n",
       "       3.07230432, 2.81419702, 2.8147807 , 3.21239402, 3.02833547,\n",
       "       3.01105312, 3.23346342, 2.9319796 , 3.14101335, 3.26868439,\n",
       "       3.10286358, 3.50147402, 3.10781354, 2.83561807, 3.07757843,\n",
       "       3.41097645, 3.22721766, 2.80020439, 3.12537791, 3.28742817,\n",
       "       2.87396662, 2.65676499, 2.95371947, 3.02745427, 3.31466171,\n",
       "       3.0362254 , 2.97025257, 2.83522687, 2.84851033, 2.95652108,\n",
       "       2.24183935, 3.17969047, 2.65836555, 3.09711016, 3.45326063,\n",
       "       3.05673354, 3.45461908, 2.75950249, 2.6949659 , 3.29425241,\n",
       "       3.11675754, 2.86157413, 2.94892219, 2.80533895, 3.01159959,\n",
       "       2.66651741, 3.20815187, 2.7812396 , 2.7134408 , 3.13351131,\n",
       "       3.2681004 , 2.87903585, 2.49203065, 2.98135024, 3.04477182,\n",
       "       3.08797386, 3.22334628, 2.95762544, 3.09490957, 2.5385583 ])"
      ]
     },
     "execution_count": 44,
     "metadata": {},
     "output_type": "execute_result"
    }
   ],
   "source": [
    "import pandas as pd\n",
    "from catboost import CatBoostRegressor\n",
    "from sklearn.model_selection import train_test_split\n",
    "from sklearn.metrics import mean_squared_error\n",
    "\n",
    "# Define target and features\n",
    "X = df.drop(columns=['Rating'])\n",
    "y = df['Rating']\n",
    "\n",
    "# Categorical features\n",
    "categorical_features = ['User ID', 'Product Name', 'Brand', 'Category', 'Color', 'Size']\n",
    "\n",
    "\n",
    "# Train-test split\n",
    "X_train, X_test, y_train, y_test = train_test_split(X, y, test_size=0.3, random_state=42)\n",
    "\n",
    "# Create CatBoost model\n",
    "model_cat = CatBoostRegressor(\n",
    "    iterations=1000,        # Number of boosting rounds\n",
    "    depth=10,               # Depth of trees\n",
    "    learning_rate=0.1,      # Learning rate,   # Loss function for regression,  # Specify which features are categorical\n",
    "    loss_function='RMSE',   # Loss function for regression\n",
    "    cat_features=categorical_features,  # Specify which features are categorical\n",
    "    verbose=False             # Output every 200 iterations\n",
    ")\n",
    "\n",
    "# Train the model\n",
    "model_cat.fit(X_train, y_train)\n",
    "\n",
    "# Make predictions\n",
    "y_pred_cat = model_cat.predict(X_test)\n",
    "\n",
    "y_pred_cat"
   ]
  },
  {
   "cell_type": "code",
   "execution_count": 45,
   "id": "16c52b58",
   "metadata": {},
   "outputs": [
    {
     "name": "stdout",
     "output_type": "stream",
     "text": [
      "['User ID', 'Product ID', 'Product Name', 'Brand', 'Category', 'Price', 'Rating', 'Color', 'Size']\n"
     ]
    }
   ],
   "source": [
    "print(df.columns.tolist())"
   ]
  },
  {
   "cell_type": "code",
   "execution_count": 46,
   "id": "90a47842",
   "metadata": {},
   "outputs": [
    {
     "name": "stdout",
     "output_type": "stream",
     "text": [
      "Root Mean Squared Error (RMSE): 1.5307041383006932\n"
     ]
    }
   ],
   "source": [
    "# Evaluate performance (RMSE)\n",
    "rmse = mean_squared_error(y_test, y_pred_cat)\n",
    "print(f\"Root Mean Squared Error (RMSE): {rmse}\")"
   ]
  },
  {
   "cell_type": "code",
   "execution_count": 47,
   "id": "76440f61",
   "metadata": {},
   "outputs": [
    {
     "name": "stdout",
     "output_type": "stream",
     "text": [
      "R-squared: -0.0763199744283769\n"
     ]
    }
   ],
   "source": [
    "from sklearn.metrics import r2_score\n",
    "r2 = r2_score(y_test, y_pred_cat)\n",
    "print(f\"R-squared: {r2}\")"
   ]
  },
  {
   "cell_type": "markdown",
   "id": "6925bc98",
   "metadata": {},
   "source": [
    "This seems like a reasonable RMSE, even though R-square is not that significant but RMSE is pretty reasonable."
   ]
  },
  {
   "cell_type": "code",
   "execution_count": 48,
   "id": "3ebb4ee0",
   "metadata": {},
   "outputs": [
    {
     "name": "stdout",
     "output_type": "stream",
     "text": [
      "Mean Absolute Error (MAE): 1.0744127080609798\n",
      "R-squared: -1.099484783636243\n",
      "RMSE: 1.2372162859826463\n",
      "Mean Squared Error: 1.5307041383006932\n"
     ]
    }
   ],
   "source": [
    "# Evaluate the model's performance\n",
    "mae = mean_absolute_error(y_test, y_pred_cat)\n",
    "r2 = r2_score(y_test, y_pred)\n",
    "rmse = np.sqrt(mean_squared_error(y_test, y_pred_cat))\n",
    "mse = mean_squared_error(y_test, y_pred_cat)\n",
    "\n",
    "print(f\"Mean Absolute Error (MAE): {mae}\")\n",
    "print(f\"R-squared: {r2}\")\n",
    "print(f\"RMSE: {rmse}\")\n",
    "print(f'Mean Squared Error: {mse}')"
   ]
  },
  {
   "cell_type": "code",
   "execution_count": 49,
   "id": "8c9769d4",
   "metadata": {},
   "outputs": [
    {
     "name": "stdout",
     "output_type": "stream",
     "text": [
      "Adjusted R-squared:  -1.1572025783753834\n"
     ]
    }
   ],
   "source": [
    "# Calculate Adjusted R-squared\n",
    "n = X_test.shape[0]\n",
    "k = X_test.shape[1]\n",
    "adjusted_r_squared = 1 - ((1 - r2) * (n - 1)) / (n - k - 1)\n",
    "print(\"Adjusted R-squared: \", adjusted_r_squared)"
   ]
  },
  {
   "cell_type": "code",
   "execution_count": 50,
   "id": "1cde225c",
   "metadata": {},
   "outputs": [
    {
     "name": "stdout",
     "output_type": "stream",
     "text": [
      "        Feature  Importance\n",
      "6         Color   16.397684\n",
      "4      Category   16.279553\n",
      "7          Size   14.774949\n",
      "2  Product Name   14.630567\n",
      "3         Brand   14.531810\n",
      "0       User ID    8.449368\n",
      "1    Product ID    7.830425\n",
      "5         Price    7.105646\n"
     ]
    }
   ],
   "source": [
    "# Get feature importance\n",
    "feature_importance = model_cat.get_feature_importance()\n",
    "\n",
    "# Create a DataFrame for easy visualization\n",
    "importance_df = pd.DataFrame({\n",
    "    'Feature': X_train.columns,\n",
    "    'Importance': feature_importance\n",
    "})\n",
    "\n",
    "# Sort features by importance\n",
    "importance_df = importance_df.sort_values(by='Importance', ascending=False)\n",
    "\n",
    "# Print the feature importance\n",
    "print(importance_df)\n"
   ]
  },
  {
   "cell_type": "markdown",
   "id": "ecc42432",
   "metadata": {},
   "source": [
    "# Visualize Feature Importance"
   ]
  },
  {
   "cell_type": "code",
   "execution_count": 51,
   "id": "09566be8",
   "metadata": {},
   "outputs": [
    {
     "data": {
      "image/png": "[encoded data removed]",
      "text/plain": [
       "<Figure size 1000x600 with 1 Axes>"
      ]
     },
     "metadata": {},
     "output_type": "display_data"
    }
   ],
   "source": [
    "# Plot feature importance\n",
    "plt.figure(figsize=(10, 6))\n",
    "plt.barh(importance_df['Feature'], importance_df['Importance'])\n",
    "plt.xlabel('Feature Importance')\n",
    "plt.title('CatBoost Feature Importance')\n",
    "plt.gca().invert_yaxis()  # To display the most important feature at the top\n",
    "plt.show()"
   ]
  },
  {
   "cell_type": "markdown",
   "id": "ade99a7e",
   "metadata": {},
   "source": [
    "# Hyperparameter search using GridSearchCV"
   ]
  },
  {
   "cell_type": "code",
   "execution_count": 52,
   "id": "145a352a",
   "metadata": {},
   "outputs": [
    {
     "name": "stdout",
     "output_type": "stream",
     "text": [
      "Best Hyperparameters: {'bagging_temperature': 0.0, 'depth': 10, 'iterations': 500, 'l2_leaf_reg': 3, 'learning_rate': 0.01, 'od_wait': 300}\n",
      "Best RMSE: 0.01608422863621688\n"
     ]
    }
   ],
   "source": [
    "# Define the hyperparameter grid\n",
    "param_grid = {\n",
    "    'iterations': [500, 1000, 1500],\n",
    "    'learning_rate': [0.01, 0.05, 0.1],\n",
    "    'depth': [6, 8, 10],\n",
    "    'l2_leaf_reg': [1, 3, 5],\n",
    "    'bagging_temperature': [0.0, 0.5, 1.0],\n",
    "    'od_wait': [300],\n",
    "}\n",
    "\n",
    "# Grid search\n",
    "grid_search = GridSearchCV(estimator=model_cat, param_grid=param_grid, cv=5, n_jobs=-1, verbose=False)\n",
    "grid_search.fit(X_train, y_train)\n",
    "\n",
    "# Get the best parameters and best score (RMSE)\n",
    "best_params = grid_search.best_params_\n",
    "best_rmse = -grid_search.best_score_  # Negate because scoring is negative RMSE\n",
    "print(f\"Best Hyperparameters: {best_params}\")\n",
    "print(f\"Best RMSE: {best_rmse}\")"
   ]
  },
  {
   "cell_type": "markdown",
   "id": "bac291b6",
   "metadata": {},
   "source": [
    "Best RMSE: 0.016"
   ]
  },
  {
   "cell_type": "markdown",
   "id": "f42b70d3",
   "metadata": {},
   "source": [
    "We first Sort out the predicted ratings for each user in descending order and then Select the top N products with the highest predicted ratings.\n",
    "\n",
    "This gives us the Top-N recommended products for each user based on the predicted ratings."
   ]
  },
  {
   "cell_type": "code",
   "execution_count": 54,
   "id": "768d6bb2",
   "metadata": {},
   "outputs": [
    {
     "name": "stdout",
     "output_type": "stream",
     "text": [
      "     User ID  Product ID  Predicted Rating\n",
      "985        1         986          3.367446\n",
      "946        1         947          3.268100\n",
      "963        1         964          3.140486\n",
      "464        1         465          2.981350\n",
      "514        1         515          2.814781\n",
      "..       ...         ...               ...\n",
      "678       99         679          2.867106\n",
      "110       99         111          2.844997\n",
      "165      100         166          2.851344\n",
      "81       100          82          2.694966\n",
      "668      100         669          2.576668\n",
      "\n",
      "[288 rows x 3 columns]\n"
     ]
    }
   ],
   "source": [
    "# Assuming `y_pred` are the predicted ratings and `X_test` contains the user-product pairs\n",
    "X_test['Predicted Rating'] = y_pred_cat\n",
    "\n",
    "# Define how many top recommendations per user you want\n",
    "N = 5  # You can change this value to 5, 10, or any other number\n",
    "\n",
    "# Sort by user ID and predicted rating to get top N recommendations\n",
    "top_n_recommendations = X_test.sort_values(by=['User ID', 'Predicted Rating'], ascending=[True, False])\n",
    "\n",
    "# For each user, get top N recommendations (e.g., top 3)\n",
    "top_n_recommendations = top_n_recommendations.groupby('User ID').head(N)\n",
    "\n",
    "print(top_n_recommendations[['User ID', 'Product ID', 'Predicted Rating']])"
   ]
  },
  {
   "cell_type": "code",
   "execution_count": 55,
   "id": "3d9c96d0",
   "metadata": {},
   "outputs": [
    {
     "data": {
      "image/png": "[encoded data removed]",
      "text/plain": [
       "<Figure size 1200x800 with 1 Axes>"
      ]
     },
     "metadata": {},
     "output_type": "display_data"
    }
   ],
   "source": [
    "# Plot Top-N Recommendations for each user\n",
    "plt.figure(figsize=(12, 8))  # Adjusted figure size for top N recommendations\n",
    "\n",
    "# Iterate over each unique user\n",
    "for user_id in top_n_recommendations['User ID'].unique():\n",
    "    user_recommendations = top_n_recommendations[top_n_recommendations['User ID'] == user_id]\n",
    "    \n",
    "    # Plot the top N products for this user\n",
    "    plt.barh(user_recommendations['Product ID'].astype(str), \n",
    "             user_recommendations['Predicted Rating'], \n",
    "             label=f'User {user_id}', alpha=0.7)\n",
    "\n",
    "plt.xlabel('Predicted Rating')\n",
    "plt.ylabel('Product ID')\n",
    "plt.title(f'Top-{N} Product Recommendations for Users')\n",
    "plt.xticks(rotation=45)  # Rotate x-axis labels if needed\n",
    "plt.legend(title='User ID', loc='upper right', bbox_to_anchor=(1.05, 1))\n",
    "plt.tight_layout()  # Adjusts the layout to prevent overlap with the legend\n",
    "plt.show()\n",
    "\n"
   ]
  },
  {
   "cell_type": "markdown",
   "id": "0e766d14",
   "metadata": {},
   "source": [
    "# Method 4 - Singular Value Decomposition (SVD)"
   ]
  },
  {
   "cell_type": "markdown",
   "id": "ddac534f",
   "metadata": {},
   "source": [
    "Here we are using SVD (Singular Value Decomposition) for collaborative filtering-based recommendation, that specifically shows how the User will rate a particular Product."
   ]
  },
  {
   "cell_type": "code",
   "execution_count": 59,
   "id": "e8368202",
   "metadata": {},
   "outputs": [
    {
     "name": "stdout",
     "output_type": "stream",
     "text": [
      "Product ID  1     2     3     4     5     6     7     8     9     10    ...  \\\n",
      "User ID                                                                 ...   \n",
      "1            0.0   0.0   0.0   0.0   0.0   0.0   0.0   0.0   0.0   0.0  ...   \n",
      "2            0.0   0.0   0.0   0.0   0.0   0.0   0.0   0.0   0.0   0.0  ...   \n",
      "3            0.0   0.0   0.0   0.0   0.0   0.0   0.0   0.0   0.0   0.0  ...   \n",
      "4            0.0   0.0   0.0   0.0   0.0   0.0   0.0   0.0   0.0   0.0  ...   \n",
      "5            0.0   0.0   0.0   0.0   0.0   0.0   0.0   0.0   0.0   0.0  ...   \n",
      "\n",
      "Product ID  991   992   993   994   995   996   997   998   999   1000  \n",
      "User ID                                                                 \n",
      "1            0.0   0.0   0.0   0.0   0.0   0.0   0.0   0.0   0.0   0.0  \n",
      "2            0.0   0.0   0.0   0.0   0.0   0.0   0.0   0.0   0.0   0.0  \n",
      "3            0.0   0.0   0.0   0.0   0.0   0.0   0.0   0.0   0.0   0.0  \n",
      "4            0.0   0.0   0.0   0.0   0.0   0.0   0.0   0.0   0.0   0.0  \n",
      "5            0.0   0.0   0.0   0.0   0.0   0.0   0.0   0.0   0.0   0.0  \n",
      "\n",
      "[5 rows x 1000 columns]\n"
     ]
    }
   ],
   "source": [
    "from sklearn.decomposition import TruncatedSVD\n",
    "\n",
    "# Create a user-item matrix (User x Movie)\n",
    "# Create user-item interaction matrix (userId x productId)\n",
    "user_item_matrix = df.pivot(index='User ID', columns='Product ID', values= \"Rating\")\n",
    "\n",
    "# Fill missing values with 0 (indicating no interaction)\n",
    "user_item_matrix = user_item_matrix.fillna(0)\n",
    "\n",
    "print(user_item_matrix.head())"
   ]
  },
  {
   "cell_type": "markdown",
   "id": "172c8f3f",
   "metadata": {},
   "source": [
    "# Collaborative Filtering Using Matrix Factorization (SVD)"
   ]
  },
  {
   "cell_type": "markdown",
   "id": "4d4b0dcc",
   "metadata": {},
   "source": [
    "Using Collaborative Filtering that uses user-item interactions (e.g., user ratings for products) to predict how a user might rate an item."
   ]
  },
  {
   "cell_type": "code",
   "execution_count": 60,
   "id": "f7afab9a",
   "metadata": {},
   "outputs": [
    {
     "name": "stdout",
     "output_type": "stream",
     "text": [
      "Top 5 Recommended Products:\n",
      "     User ID  Product ID    Rating\n",
      "198       39         199  4.980656\n",
      "887       39         888  4.953446\n",
      "181       39         182  4.358913\n",
      "92        33          93  4.928128\n",
      "156       39         157  3.981751\n"
     ]
    }
   ],
   "source": [
    "# Apply SVD for collaborative filtering (matrix factorization)\n",
    "svd = TruncatedSVD(n_components=20)  # Use 20 latent features\n",
    "latent_matrix = svd.fit_transform(user_item_matrix)\n",
    "\n",
    "# Reconstruct the matrix\n",
    "reconstructed_matrix = svd.inverse_transform(latent_matrix)\n",
    "\n",
    "# Example: Recommend products for a user\n",
    "user_id = 1\n",
    "\n",
    "user_ratings = reconstructed_matrix[user_id - 1]  # Indexing is 0-based, so we subtract 1\n",
    "\n",
    "recommended_product_indices = user_ratings.argsort()[::-1]  # Sort products by predicted rating\n",
    "\n",
    "# Display top 5 recommended products for user 1\n",
    "recommended_products = df.iloc[recommended_product_indices[:5]]\n",
    "print(\"Top 5 Recommended Products:\")\n",
    "print(recommended_products[['User ID', 'Product ID', 'Rating']])"
   ]
  },
  {
   "cell_type": "markdown",
   "id": "f699bc11",
   "metadata": {},
   "source": [
    "# Content-based Filtering"
   ]
  },
  {
   "cell_type": "code",
   "execution_count": 61,
   "id": "b6c757f5",
   "metadata": {},
   "outputs": [
    {
     "name": "stdout",
     "output_type": "stream",
     "text": [
      "     Product ID  Price    Rating\n",
      "243         244     85  3.474622\n",
      "481         482     97  3.578219\n",
      "573         574     92  4.491894\n",
      "628         629     95  3.579320\n",
      "635         636     96  4.602211\n"
     ]
    }
   ],
   "source": [
    "from sklearn.metrics.pairwise import cosine_similarity\n",
    "from sklearn.preprocessing import StandardScaler\n",
    "\n",
    "# Prepare product features for content-based filtering\n",
    "product_features = df_new[['Price'] + [col for col in df_new.columns if 'Product_Name' in col or 'Brand' in col]]\n",
    "\n",
    "# Standardize continuous features (like price)\n",
    "scaler = StandardScaler()\n",
    "scaled_features = scaler.fit_transform(product_features)\n",
    "\n",
    "# Calculate the cosine similarity matrix\n",
    "cosine_sim = cosine_similarity(scaled_features)\n",
    "\n",
    "# Example: Recommend products similar to product 101 (Red T-Shirt)\n",
    "def get_similar_products(product_id, top_n=5):\n",
    "    idx = df_new[df_new['Product ID'] == product_id].index[0]\n",
    "    similarity_scores = list(enumerate(cosine_sim[idx]))\n",
    "    similarity_scores = sorted(similarity_scores, key=lambda x: x[1], reverse=True)\n",
    "    \n",
    "    # Get top N most similar products\n",
    "    top_similar_products = [df_new['Product ID'][i[0]] for i in similarity_scores[1:top_n + 1]]\n",
    "    return df_new[df_new['Product ID'].isin(top_similar_products)]\n",
    "\n",
    "similar_products = get_similar_products(101)\n",
    "\n",
    "print(similar_products[['Product ID', 'Price', 'Rating']])"
   ]
  },
  {
   "cell_type": "code",
   "execution_count": 62,
   "id": "22d50661",
   "metadata": {},
   "outputs": [
    {
     "name": "stdout",
     "output_type": "stream",
     "text": [
      "Hybrid Recommendations (Collaborative + Content-Based):\n",
      "     Product ID  Price    Rating\n",
      "198         199     15  4.980656\n",
      "887         888     73  4.953446\n",
      "181         182     68  4.358913\n",
      "92           93     70  4.928128\n",
      "156         157     67  3.981751\n",
      "166         167     43  4.478061\n",
      "601         602     11  4.342864\n",
      "667         668     11  1.842279\n",
      "731         732     28  2.645059\n",
      "907         908     36  3.194487\n"
     ]
    }
   ],
   "source": [
    "# Collaborative recommendations for user (using SVD)\n",
    "collaborative_recommendations = recommended_products[['Product ID', 'Price', 'Rating']]\n",
    "\n",
    "# Content-based recommendations for a product (using cosine similarity)\n",
    "content_based_recommendations = get_similar_products(1)\n",
    "\n",
    "# Combine both recommendation lists\n",
    "hybrid_recommendations = pd.concat([collaborative_recommendations, content_based_recommendations[['Product ID', 'Price', 'Rating']]])\n",
    "print(\"Hybrid Recommendations (Collaborative + Content-Based):\")\n",
    "print(hybrid_recommendations.drop_duplicates())"
   ]
  },
  {
   "cell_type": "code",
   "execution_count": 63,
   "id": "e639fcb4",
   "metadata": {},
   "outputs": [
    {
     "name": "stdout",
     "output_type": "stream",
     "text": [
      "RMSE for Collaborative Filtering (SVD): 0.26672299932084487\n"
     ]
    }
   ],
   "source": [
    "from sklearn.metrics import mean_squared_error\n",
    "import numpy as np\n",
    "\n",
    "# Calculate RMSE for collaborative filtering (SVD)\n",
    "rmse = np.sqrt(mean_squared_error(user_item_matrix.values, reconstructed_matrix))\n",
    "\n",
    "print(f\"RMSE for Collaborative Filtering (SVD): {rmse}\")"
   ]
  },
  {
   "cell_type": "markdown",
   "id": "a7270ecb",
   "metadata": {},
   "source": [
    "The RMSE value of 0.266 for SVD-based Collaborative Filtering model suggests that the model is performing well."
   ]
  },
  {
   "cell_type": "markdown",
   "id": "abbbecf3",
   "metadata": {},
   "source": [
    "# Segmenting the users into spending group"
   ]
  },
  {
   "cell_type": "markdown",
   "id": "583044fa",
   "metadata": {},
   "source": [
    "Segmenting users into high-spending or low-spending group can be used in data analysis and marketing strategy. By doing this, we can personalize marketing efforts, improve customer experience, and optimize business strategies. Here's I segment users based on these a key dimension — spending as how many users purchase the most products."
   ]
  },
  {
   "cell_type": "markdown",
   "id": "477a26fd",
   "metadata": {},
   "source": [
    "High-Spending: Users whose total spending or average purchase amount is above a threshold, 70.\n",
    "\n",
    "Low-Spending: Users whose total spending or average purchase amount is below a certain threshold, which is 70."
   ]
  },
  {
   "cell_type": "code",
   "execution_count": 64,
   "id": "b9af005e",
   "metadata": {},
   "outputs": [],
   "source": [
    "# craete a new dataframe\n",
    "\n",
    "df_seg = pd.DataFrame(df)"
   ]
  },
  {
   "cell_type": "code",
   "execution_count": 65,
   "id": "f6a9b723",
   "metadata": {},
   "outputs": [],
   "source": [
    "# Ensure 'Price' is always treated as an iterable (even if it's a single integer)\n",
    "\n",
    "def handle_purchase_prices(Price):\n",
    "    # since it's not a list or iterable, we will first make it a list\n",
    "    if isinstance(Price, int):\n",
    "        return [Price]\n",
    "    return Price"
   ]
  },
  {
   "cell_type": "code",
   "execution_count": 66,
   "id": "8e168991",
   "metadata": {},
   "outputs": [],
   "source": [
    "# Apply the function to ensure 'purchase_prices' is a list\n",
    "\n",
    "df_seg['Price'] = df_seg['Price'].apply(handle_purchase_prices)"
   ]
  },
  {
   "cell_type": "code",
   "execution_count": 67,
   "id": "fded16c1",
   "metadata": {},
   "outputs": [],
   "source": [
    "# Feature: Total Purchase Amount (Total amount spent by the user)\n",
    "df_seg['total_purchase_amount'] = df_seg['Price'].apply(lambda x: sum(x))\n"
   ]
  },
  {
   "cell_type": "code",
   "execution_count": 68,
   "id": "353b9a60",
   "metadata": {},
   "outputs": [],
   "source": [
    "# Set thresholds for segmentation\n",
    "spending_threshold = 70  # High spending if total_purchase_amount > 70"
   ]
  },
  {
   "cell_type": "code",
   "execution_count": 69,
   "id": "d7adc483",
   "metadata": {},
   "outputs": [],
   "source": [
    "# Create new segmentation columns\n",
    "df_seg['spending_segment'] = np.where(df_seg['total_purchase_amount'] > spending_threshold, 'High Spending', 'Low Spending')"
   ]
  },
  {
   "cell_type": "code",
   "execution_count": 70,
   "id": "13eb83d0",
   "metadata": {},
   "outputs": [],
   "source": [
    "df_seg = df_seg.drop(columns = [\"Price\"])"
   ]
  },
  {
   "cell_type": "code",
   "execution_count": 71,
   "id": "d6d022d0",
   "metadata": {},
   "outputs": [
    {
     "data": {
      "text/html": [
       "<div>\n",
       "<style scoped>\n",
       "    .dataframe tbody tr th:only-of-type {\n",
       "        vertical-align: middle;\n",
       "    }\n",
       "\n",
       "    .dataframe tbody tr th {\n",
       "        vertical-align: top;\n",
       "    }\n",
       "\n",
       "    .dataframe thead th {\n",
       "        text-align: right;\n",
       "    }\n",
       "</style>\n",
       "<table border=\"1\" class=\"dataframe\">\n",
       "  <thead>\n",
       "    <tr style=\"text-align: right;\">\n",
       "      <th></th>\n",
       "      <th>User ID</th>\n",
       "      <th>Product ID</th>\n",
       "      <th>Product Name</th>\n",
       "      <th>Brand</th>\n",
       "      <th>Category</th>\n",
       "      <th>Rating</th>\n",
       "      <th>Color</th>\n",
       "      <th>Size</th>\n",
       "      <th>total_purchase_amount</th>\n",
       "      <th>spending_segment</th>\n",
       "    </tr>\n",
       "  </thead>\n",
       "  <tbody>\n",
       "    <tr>\n",
       "      <th>0</th>\n",
       "      <td>19</td>\n",
       "      <td>1</td>\n",
       "      <td>Dress</td>\n",
       "      <td>Adidas</td>\n",
       "      <td>Men's Fashion</td>\n",
       "      <td>1.043159</td>\n",
       "      <td>Black</td>\n",
       "      <td>XL</td>\n",
       "      <td>40</td>\n",
       "      <td>Low Spending</td>\n",
       "    </tr>\n",
       "    <tr>\n",
       "      <th>1</th>\n",
       "      <td>97</td>\n",
       "      <td>2</td>\n",
       "      <td>Shoes</td>\n",
       "      <td>H&amp;M</td>\n",
       "      <td>Women's Fashion</td>\n",
       "      <td>4.026416</td>\n",
       "      <td>Black</td>\n",
       "      <td>L</td>\n",
       "      <td>82</td>\n",
       "      <td>High Spending</td>\n",
       "    </tr>\n",
       "    <tr>\n",
       "      <th>2</th>\n",
       "      <td>25</td>\n",
       "      <td>3</td>\n",
       "      <td>Dress</td>\n",
       "      <td>Adidas</td>\n",
       "      <td>Women's Fashion</td>\n",
       "      <td>3.337938</td>\n",
       "      <td>Yellow</td>\n",
       "      <td>XL</td>\n",
       "      <td>44</td>\n",
       "      <td>Low Spending</td>\n",
       "    </tr>\n",
       "    <tr>\n",
       "      <th>3</th>\n",
       "      <td>57</td>\n",
       "      <td>4</td>\n",
       "      <td>Shoes</td>\n",
       "      <td>Zara</td>\n",
       "      <td>Men's Fashion</td>\n",
       "      <td>1.049523</td>\n",
       "      <td>White</td>\n",
       "      <td>S</td>\n",
       "      <td>23</td>\n",
       "      <td>Low Spending</td>\n",
       "    </tr>\n",
       "    <tr>\n",
       "      <th>4</th>\n",
       "      <td>79</td>\n",
       "      <td>5</td>\n",
       "      <td>T-shirt</td>\n",
       "      <td>Adidas</td>\n",
       "      <td>Men's Fashion</td>\n",
       "      <td>4.302773</td>\n",
       "      <td>Black</td>\n",
       "      <td>M</td>\n",
       "      <td>79</td>\n",
       "      <td>High Spending</td>\n",
       "    </tr>\n",
       "  </tbody>\n",
       "</table>\n",
       "</div>"
      ],
      "text/plain": [
       "   User ID  Product ID Product Name   Brand         Category    Rating  \\\n",
       "0       19           1        Dress  Adidas    Men's Fashion  1.043159   \n",
       "1       97           2        Shoes     H&M  Women's Fashion  4.026416   \n",
       "2       25           3        Dress  Adidas  Women's Fashion  3.337938   \n",
       "3       57           4        Shoes    Zara    Men's Fashion  1.049523   \n",
       "4       79           5      T-shirt  Adidas    Men's Fashion  4.302773   \n",
       "\n",
       "    Color Size  total_purchase_amount spending_segment  \n",
       "0   Black   XL                     40     Low Spending  \n",
       "1   Black    L                     82    High Spending  \n",
       "2  Yellow   XL                     44     Low Spending  \n",
       "3   White    S                     23     Low Spending  \n",
       "4   Black    M                     79    High Spending  "
      ]
     },
     "execution_count": 71,
     "metadata": {},
     "output_type": "execute_result"
    }
   ],
   "source": [
    "df_seg.head()"
   ]
  },
  {
   "cell_type": "markdown",
   "id": "43b01431",
   "metadata": {},
   "source": [
    "# Segment-wise Analysis"
   ]
  },
  {
   "cell_type": "markdown",
   "id": "9c41a224",
   "metadata": {},
   "source": [
    "# Compute Average Rating per Spending Segment"
   ]
  },
  {
   "cell_type": "markdown",
   "id": "c69dab8c",
   "metadata": {},
   "source": [
    "Calculating the average rating for each spending segment (e.g., Low Spending, High Spending) to see if there's a noticeable difference between them."
   ]
  },
  {
   "cell_type": "code",
   "execution_count": 72,
   "id": "0fe09b4d",
   "metadata": {},
   "outputs": [
    {
     "name": "stdout",
     "output_type": "stream",
     "text": [
      "Average Ratings by Spending Segment:\n",
      "spending_segment\n",
      "High Spending    3.035180\n",
      "Low Spending     2.970891\n",
      "Name: Rating, dtype: float64\n"
     ]
    }
   ],
   "source": [
    "# Assuming 'data' is your dataframe containing 'spending_segment' and 'ratings'\n",
    "\n",
    "# Group by spending segment and calculate the mean of ratings\n",
    "average_ratings_by_segment = df_seg.groupby('spending_segment')['Rating'].mean()\n",
    "\n",
    "print(\"Average Ratings by Spending Segment:\")\n",
    "print(average_ratings_by_segment)"
   ]
  },
  {
   "cell_type": "markdown",
   "id": "759f41f4",
   "metadata": {},
   "source": [
    "There is somewhat difference between high spenders rating vs low spender rating. High spenders tends to rate products slightly more positively than low spenders."
   ]
  },
  {
   "cell_type": "markdown",
   "id": "65901950",
   "metadata": {},
   "source": [
    "# Visualize the Distribution of Ratings for Each Segment"
   ]
  },
  {
   "cell_type": "code",
   "execution_count": 73,
   "id": "40c39166",
   "metadata": {},
   "outputs": [
    {
     "data": {
      "image/png": "[encoded data removed]",
      "text/plain": [
       "<Figure size 800x700 with 1 Axes>"
      ]
     },
     "metadata": {},
     "output_type": "display_data"
    }
   ],
   "source": [
    "import seaborn as sns\n",
    "import matplotlib.pyplot as plt\n",
    "\n",
    "# Boxplot to compare ratings between spending segments\n",
    "plt.figure(figsize=(8, 7))\n",
    "sns.boxplot(x='spending_segment', y='Rating', data=df_seg, palette=\"Set2\")\n",
    "plt.title('Ratings Distribution by Spending Segment')\n",
    "plt.xlabel('Spending Segment')\n",
    "plt.ylabel('Rating')\n",
    "plt.show()"
   ]
  },
  {
   "cell_type": "code",
   "execution_count": 74,
   "id": "74a3c966",
   "metadata": {},
   "outputs": [
    {
     "data": {
      "image/png": "[encoded data removed]",
      "text/plain": [
       "<Figure size 1000x600 with 1 Axes>"
      ]
     },
     "metadata": {},
     "output_type": "display_data"
    }
   ],
   "source": [
    "# Create KDE plot to show the density of ratings for each spending segment\n",
    "plt.figure(figsize=(10, 6))\n",
    "\n",
    "sns.kdeplot(data=df_seg[df_seg['spending_segment'] == 'Low Spending']['Rating'], label='Low Spending', shade=True, color='skyblue')\n",
    "sns.kdeplot(data=df_seg[df_seg['spending_segment'] == 'High Spending']['Rating'], label='High Spending', shade=True, color='orange')\n",
    "\n",
    "# Add more segments if applicable\n",
    "# sns.kdeplot(data[data['Spending Segment'] == 'Medium Spending']['rating'], label='Medium Spending', shade=True, color='green')\n",
    "\n",
    "# Title and labels\n",
    "plt.title('Ratings Distribution Density by Spending Segment', fontsize=16)\n",
    "plt.xlabel('Rating', fontsize=14)\n",
    "plt.ylabel('Density', fontsize=14)\n",
    "\n",
    "# Show the legend and plot\n",
    "plt.legend(title='Spending Segment')\n",
    "plt.show()\n"
   ]
  },
  {
   "cell_type": "markdown",
   "id": "bac9ca32",
   "metadata": {},
   "source": [
    "# Summary:\n",
    "\n",
    "CatBoost, a gradient boosting framework works well with our training set beacuse of the presence of high number of categorical features and is also effective in predicting a continuous outcome (rating)."
   ]
  },
  {
   "cell_type": "code",
   "execution_count": null,
   "id": "8558630d",
   "metadata": {},
   "outputs": [],
   "source": []
  },
  {
   "cell_type": "code",
   "execution_count": null,
   "id": "49ac19a2",
   "metadata": {},
   "outputs": [],
   "source": []
  },
  {
   "cell_type": "code",
   "execution_count": null,
   "id": "f88f3bb9",
   "metadata": {},
   "outputs": [],
   "source": []
  },
  {
   "cell_type": "code",
   "execution_count": null,
   "id": "79102e4c",
   "metadata": {},
   "outputs": [],
   "source": []
  },
  {
   "cell_type": "code",
   "execution_count": null,
   "id": "24a37699",
   "metadata": {},
   "outputs": [],
   "source": []
  },
  {
   "cell_type": "code",
   "execution_count": null,
   "id": "edab967a",
   "metadata": {},
   "outputs": [],
   "source": []
  },
  {
   "cell_type": "code",
   "execution_count": null,
   "id": "a3b88016",
   "metadata": {},
   "outputs": [],
   "source": []
  },
  {
   "cell_type": "code",
   "execution_count": null,
   "id": "6555b7d8",
   "metadata": {},
   "outputs": [],
   "source": []
  },
  {
   "cell_type": "code",
   "execution_count": null,
   "id": "77db2a16",
   "metadata": {},
   "outputs": [],
   "source": []
  },
  {
   "cell_type": "code",
   "execution_count": null,
   "id": "63d68089",
   "metadata": {},
   "outputs": [],
   "source": []
  },
  {
   "cell_type": "code",
   "execution_count": null,
   "id": "c83de003",
   "metadata": {},
   "outputs": [],
   "source": []
  }
 ],
 "metadata": {
  "kernelspec": {
   "display_name": "Python 3 (ipykernel)",
   "language": "python",
   "name": "python3"
  },
  "language_info": {
   "codemirror_mode": {
    "name": "ipython",
    "version": 3
   },
   "file_extension": ".py",
   "mimetype": "text/x-python",
   "name": "python",
   "nbconvert_exporter": "python",
   "pygments_lexer": "ipython3",
   "version": "3.11.7"
  }
 },
 "nbformat": 4,
 "nbformat_minor": 5
}
