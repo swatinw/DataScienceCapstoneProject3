{
 "cells": [
  {
   "cell_type": "markdown",
   "id": "8a162d78",
   "metadata": {},
   "source": [
    "# Import Libraries "
   ]
  },
  {
   "cell_type": "code",
   "execution_count": 1,
   "id": "db9e6ee4",
   "metadata": {},
   "outputs": [
    {
     "name": "stdout",
     "output_type": "stream",
     "text": [
      "Requirement already satisfied: scikit-learn in /opt/anaconda3/lib/python3.11/site-packages (1.6.1)\n",
      "Requirement already satisfied: xgboost in /opt/anaconda3/lib/python3.11/site-packages (3.0.0)\n",
      "Requirement already satisfied: numpy>=1.19.5 in /opt/anaconda3/lib/python3.11/site-packages (from scikit-learn) (1.26.4)\n",
      "Requirement already satisfied: scipy>=1.6.0 in /opt/anaconda3/lib/python3.11/site-packages (from scikit-learn) (1.11.4)\n",
      "Requirement already satisfied: joblib>=1.2.0 in /opt/anaconda3/lib/python3.11/site-packages (from scikit-learn) (1.4.2)\n",
      "Requirement already satisfied: threadpoolctl>=3.1.0 in /opt/anaconda3/lib/python3.11/site-packages (from scikit-learn) (3.5.0)\n",
      "\n",
      "\u001b[1m[\u001b[0m\u001b[34;49mnotice\u001b[0m\u001b[1;39;49m]\u001b[0m\u001b[39;49m A new release of pip is available: \u001b[0m\u001b[31;49m24.3.1\u001b[0m\u001b[39;49m -> \u001b[0m\u001b[32;49m25.0.1\u001b[0m\n",
      "\u001b[1m[\u001b[0m\u001b[34;49mnotice\u001b[0m\u001b[1;39;49m]\u001b[0m\u001b[39;49m To update, run: \u001b[0m\u001b[32;49mpip install --upgrade pip\u001b[0m\n",
      "Note: you may need to restart the kernel to use updated packages.\n"
     ]
    }
   ],
   "source": [
    "pip install -U scikit-learn xgboost"
   ]
  },
  {
   "cell_type": "code",
   "execution_count": 2,
   "id": "e9f3e2fb",
   "metadata": {},
   "outputs": [],
   "source": [
    "import pandas as pd\n",
    "import matplotlib.pyplot as plt\n",
    "import seaborn as sns\n",
    "import os\n",
    "import numpy as np\n",
    "from sklearn.decomposition import PCA\n",
    "from sklearn.preprocessing import scale\n",
    "\n",
    "\n",
    "import pickle\n",
    "\n",
    "from sklearn import __version__ as sklearn_version\n",
    "from sklearn.model_selection import train_test_split, cross_validate, GridSearchCV, learning_curve\n",
    "from sklearn.preprocessing import StandardScaler, MinMaxScaler\n",
    "from sklearn.dummy import DummyRegressor\n",
    "from sklearn.linear_model import LinearRegression\n",
    "from sklearn.ensemble import RandomForestRegressor\n",
    "from sklearn.metrics import r2_score, mean_squared_error, mean_absolute_error\n",
    "from sklearn.pipeline import make_pipeline\n",
    "from sklearn.impute import SimpleImputer\n",
    "from sklearn.feature_selection import SelectKBest, f_regression\n",
    "import datetime\n",
    "from sklearn.metrics import accuracy_score\n",
    "\n",
    "\n",
    "# Show plots inline\n",
    "%matplotlib inline"
   ]
  },
  {
   "cell_type": "code",
   "execution_count": 3,
   "id": "5babddff",
   "metadata": {},
   "outputs": [],
   "source": [
    "import warnings\n",
    "warnings.simplefilter(action='ignore', category=FutureWarning)\n",
    "warnings.simplefilter(action='ignore', category=UserWarning)"
   ]
  },
  {
   "cell_type": "markdown",
   "id": "ea57e344",
   "metadata": {},
   "source": [
    "# Data Collection and Acquisition"
   ]
  },
  {
   "cell_type": "code",
   "execution_count": 4,
   "id": "41ad96f4",
   "metadata": {},
   "outputs": [],
   "source": [
    "# Code task 1 - Gather data\n",
    "# Load CSV from a local file\n",
    "\n",
    "df = pd.read_csv('df_features.csv')\n",
    "df.head(10)\n",
    "\n",
    "df = df.drop(columns = [\"Product ID\"])"
   ]
  },
  {
   "cell_type": "code",
   "execution_count": 95,
   "id": "f1b85751",
   "metadata": {},
   "outputs": [
    {
     "data": {
      "text/html": [
       "<div>\n",
       "<style scoped>\n",
       "    .dataframe tbody tr th:only-of-type {\n",
       "        vertical-align: middle;\n",
       "    }\n",
       "\n",
       "    .dataframe tbody tr th {\n",
       "        vertical-align: top;\n",
       "    }\n",
       "\n",
       "    .dataframe thead th {\n",
       "        text-align: right;\n",
       "    }\n",
       "</style>\n",
       "<table border=\"1\" class=\"dataframe\">\n",
       "  <thead>\n",
       "    <tr style=\"text-align: right;\">\n",
       "      <th></th>\n",
       "      <th>User ID</th>\n",
       "      <th>Product ID</th>\n",
       "      <th>Product Name</th>\n",
       "      <th>Brand</th>\n",
       "      <th>Category</th>\n",
       "      <th>Price</th>\n",
       "      <th>Rating</th>\n",
       "      <th>Color</th>\n",
       "      <th>Size</th>\n",
       "    </tr>\n",
       "  </thead>\n",
       "  <tbody>\n",
       "    <tr>\n",
       "      <th>0</th>\n",
       "      <td>19</td>\n",
       "      <td>1</td>\n",
       "      <td>Dress</td>\n",
       "      <td>Adidas</td>\n",
       "      <td>Men's Fashion</td>\n",
       "      <td>40</td>\n",
       "      <td>1.043159</td>\n",
       "      <td>Black</td>\n",
       "      <td>XL</td>\n",
       "    </tr>\n",
       "    <tr>\n",
       "      <th>1</th>\n",
       "      <td>97</td>\n",
       "      <td>2</td>\n",
       "      <td>Shoes</td>\n",
       "      <td>H&amp;M</td>\n",
       "      <td>Women's Fashion</td>\n",
       "      <td>82</td>\n",
       "      <td>4.026416</td>\n",
       "      <td>Black</td>\n",
       "      <td>L</td>\n",
       "    </tr>\n",
       "    <tr>\n",
       "      <th>2</th>\n",
       "      <td>25</td>\n",
       "      <td>3</td>\n",
       "      <td>Dress</td>\n",
       "      <td>Adidas</td>\n",
       "      <td>Women's Fashion</td>\n",
       "      <td>44</td>\n",
       "      <td>3.337938</td>\n",
       "      <td>Yellow</td>\n",
       "      <td>XL</td>\n",
       "    </tr>\n",
       "    <tr>\n",
       "      <th>3</th>\n",
       "      <td>57</td>\n",
       "      <td>4</td>\n",
       "      <td>Shoes</td>\n",
       "      <td>Zara</td>\n",
       "      <td>Men's Fashion</td>\n",
       "      <td>23</td>\n",
       "      <td>1.049523</td>\n",
       "      <td>White</td>\n",
       "      <td>S</td>\n",
       "    </tr>\n",
       "    <tr>\n",
       "      <th>4</th>\n",
       "      <td>79</td>\n",
       "      <td>5</td>\n",
       "      <td>T-shirt</td>\n",
       "      <td>Adidas</td>\n",
       "      <td>Men's Fashion</td>\n",
       "      <td>79</td>\n",
       "      <td>4.302773</td>\n",
       "      <td>Black</td>\n",
       "      <td>M</td>\n",
       "    </tr>\n",
       "    <tr>\n",
       "      <th>5</th>\n",
       "      <td>98</td>\n",
       "      <td>6</td>\n",
       "      <td>Dress</td>\n",
       "      <td>Adidas</td>\n",
       "      <td>Men's Fashion</td>\n",
       "      <td>47</td>\n",
       "      <td>1.379566</td>\n",
       "      <td>Yellow</td>\n",
       "      <td>L</td>\n",
       "    </tr>\n",
       "    <tr>\n",
       "      <th>6</th>\n",
       "      <td>16</td>\n",
       "      <td>7</td>\n",
       "      <td>Jeans</td>\n",
       "      <td>Gucci</td>\n",
       "      <td>Men's Fashion</td>\n",
       "      <td>37</td>\n",
       "      <td>1.356750</td>\n",
       "      <td>White</td>\n",
       "      <td>XL</td>\n",
       "    </tr>\n",
       "    <tr>\n",
       "      <th>7</th>\n",
       "      <td>63</td>\n",
       "      <td>8</td>\n",
       "      <td>Sweater</td>\n",
       "      <td>Zara</td>\n",
       "      <td>Kids' Fashion</td>\n",
       "      <td>64</td>\n",
       "      <td>4.360303</td>\n",
       "      <td>Blue</td>\n",
       "      <td>XL</td>\n",
       "    </tr>\n",
       "    <tr>\n",
       "      <th>8</th>\n",
       "      <td>96</td>\n",
       "      <td>9</td>\n",
       "      <td>Sweater</td>\n",
       "      <td>H&amp;M</td>\n",
       "      <td>Men's Fashion</td>\n",
       "      <td>53</td>\n",
       "      <td>4.466182</td>\n",
       "      <td>Green</td>\n",
       "      <td>XL</td>\n",
       "    </tr>\n",
       "    <tr>\n",
       "      <th>9</th>\n",
       "      <td>36</td>\n",
       "      <td>10</td>\n",
       "      <td>T-shirt</td>\n",
       "      <td>Zara</td>\n",
       "      <td>Kids' Fashion</td>\n",
       "      <td>55</td>\n",
       "      <td>4.093234</td>\n",
       "      <td>White</td>\n",
       "      <td>XL</td>\n",
       "    </tr>\n",
       "  </tbody>\n",
       "</table>\n",
       "</div>"
      ],
      "text/plain": [
       "   User ID  Product ID Product Name   Brand         Category  Price    Rating  \\\n",
       "0       19           1        Dress  Adidas    Men's Fashion     40  1.043159   \n",
       "1       97           2        Shoes     H&M  Women's Fashion     82  4.026416   \n",
       "2       25           3        Dress  Adidas  Women's Fashion     44  3.337938   \n",
       "3       57           4        Shoes    Zara    Men's Fashion     23  1.049523   \n",
       "4       79           5      T-shirt  Adidas    Men's Fashion     79  4.302773   \n",
       "5       98           6        Dress  Adidas    Men's Fashion     47  1.379566   \n",
       "6       16           7        Jeans   Gucci    Men's Fashion     37  1.356750   \n",
       "7       63           8      Sweater    Zara    Kids' Fashion     64  4.360303   \n",
       "8       96           9      Sweater     H&M    Men's Fashion     53  4.466182   \n",
       "9       36          10      T-shirt    Zara    Kids' Fashion     55  4.093234   \n",
       "\n",
       "    Color Size  \n",
       "0   Black   XL  \n",
       "1   Black    L  \n",
       "2  Yellow   XL  \n",
       "3   White    S  \n",
       "4   Black    M  \n",
       "5  Yellow    L  \n",
       "6   White   XL  \n",
       "7    Blue   XL  \n",
       "8   Green   XL  \n",
       "9   White   XL  "
      ]
     },
     "execution_count": 95,
     "metadata": {},
     "output_type": "execute_result"
    }
   ],
   "source": [
    "df_recommend = pd.read_csv('df_features.csv')\n",
    "df_recommend.head(10)"
   ]
  },
  {
   "cell_type": "code",
   "execution_count": 5,
   "id": "577469d4",
   "metadata": {},
   "outputs": [
    {
     "name": "stdout",
     "output_type": "stream",
     "text": [
      "   User ID Product Name   Brand         Category  Price    Rating   Color Size\n",
      "0       19        Dress  Adidas    Men's Fashion     40  1.043159   Black   XL\n",
      "1       97        Shoes     H&M  Women's Fashion     82  4.026416   Black    L\n",
      "2       25        Dress  Adidas  Women's Fashion     44  3.337938  Yellow   XL\n",
      "3       57        Shoes    Zara    Men's Fashion     23  1.049523   White    S\n",
      "4       79      T-shirt  Adidas    Men's Fashion     79  4.302773   Black    M\n"
     ]
    }
   ],
   "source": [
    "# Show the segmented DataFrame\n",
    "print(df.head())"
   ]
  },
  {
   "cell_type": "code",
   "execution_count": 6,
   "id": "dc18558b",
   "metadata": {},
   "outputs": [
    {
     "name": "stdout",
     "output_type": "stream",
     "text": [
      "<class 'pandas.core.frame.DataFrame'>\n",
      "RangeIndex: 1000 entries, 0 to 999\n",
      "Data columns (total 8 columns):\n",
      " #   Column        Non-Null Count  Dtype  \n",
      "---  ------        --------------  -----  \n",
      " 0   User ID       1000 non-null   int64  \n",
      " 1   Product Name  1000 non-null   object \n",
      " 2   Brand         1000 non-null   object \n",
      " 3   Category      1000 non-null   object \n",
      " 4   Price         1000 non-null   int64  \n",
      " 5   Rating        1000 non-null   float64\n",
      " 6   Color         1000 non-null   object \n",
      " 7   Size          1000 non-null   object \n",
      "dtypes: float64(1), int64(2), object(5)\n",
      "memory usage: 62.6+ KB\n"
     ]
    }
   ],
   "source": [
    "# Code task 4\n",
    "# Check the format of all columns\n",
    "\n",
    "df.info()"
   ]
  },
  {
   "cell_type": "markdown",
   "id": "b367db09",
   "metadata": {},
   "source": [
    "# Feature Encoding"
   ]
  },
  {
   "cell_type": "markdown",
   "id": "4c67da4d",
   "metadata": {},
   "source": [
    "# Handling Non-Numeric Features (Categorical variables)"
   ]
  },
  {
   "cell_type": "markdown",
   "id": "006eef38",
   "metadata": {},
   "source": [
    "Encoding all non-numeric features such as \"Product Name\", \"Brand\", \"Category\", \"Color\", \"Size\" and User ID into numeric values"
   ]
  },
  {
   "cell_type": "code",
   "execution_count": 8,
   "id": "172e320b",
   "metadata": {},
   "outputs": [],
   "source": [
    "import pandas as pd\n",
    "import category_encoders as ce\n",
    "from sklearn.model_selection import train_test_split\n",
    "from sklearn.ensemble import RandomForestRegressor\n",
    "from sklearn.metrics import mean_absolute_error, r2_score\n",
    "\n",
    "# Example dataset with multiple categorical features and a target variable 'Rating'\n",
    "\n",
    "# Create DataFrame\n",
    "df_full = pd.DataFrame(df)\n",
    "\n",
    "# Features and target\n",
    "X = df_full[['Product Name', 'Brand', 'Category', 'Color', 'Size', 'User ID']]\n",
    "y = df_full['Rating']\n",
    "\n",
    "# Initialize CatBoostEncoder\n",
    "encoder = ce.CatBoostEncoder(cols=['Product Name', 'Brand', 'Category', 'Color', 'Size', 'User ID'])\n",
    "\n",
    "# Fit and transform the training data\n",
    "X_encoded = encoder.fit_transform(X, y)\n",
    "\n",
    "# Rename the new encoded columns\n",
    "X_encoded.columns = ['Product Name_encoded', 'Brand_encoded', 'Category_encoded', 'Color_encoded', 'Size_encoded', 'User ID_encoded']\n",
    "\n",
    "# Drop the original categorical columns\n",
    "df_updated = df_full.drop(columns=['Product Name', 'Brand', 'Category', 'Color', 'Size', 'User ID'])\n",
    "\n",
    "# Join the encoded features back to the original DataFrame\n",
    "df_encoded = pd.concat([df_updated, X_encoded], axis=1)\n"
   ]
  },
  {
   "cell_type": "code",
   "execution_count": 9,
   "id": "84034a61",
   "metadata": {},
   "outputs": [
    {
     "data": {
      "text/html": [
       "<div>\n",
       "<style scoped>\n",
       "    .dataframe tbody tr th:only-of-type {\n",
       "        vertical-align: middle;\n",
       "    }\n",
       "\n",
       "    .dataframe tbody tr th {\n",
       "        vertical-align: top;\n",
       "    }\n",
       "\n",
       "    .dataframe thead th {\n",
       "        text-align: right;\n",
       "    }\n",
       "</style>\n",
       "<table border=\"1\" class=\"dataframe\">\n",
       "  <thead>\n",
       "    <tr style=\"text-align: right;\">\n",
       "      <th></th>\n",
       "      <th>Price</th>\n",
       "      <th>Rating</th>\n",
       "      <th>Product Name_encoded</th>\n",
       "      <th>Brand_encoded</th>\n",
       "      <th>Category_encoded</th>\n",
       "      <th>Color_encoded</th>\n",
       "      <th>Size_encoded</th>\n",
       "      <th>User ID_encoded</th>\n",
       "    </tr>\n",
       "  </thead>\n",
       "  <tbody>\n",
       "    <tr>\n",
       "      <th>0</th>\n",
       "      <td>40</td>\n",
       "      <td>1.043159</td>\n",
       "      <td>2.993135</td>\n",
       "      <td>2.993135</td>\n",
       "      <td>2.993135</td>\n",
       "      <td>2.993135</td>\n",
       "      <td>2.993135</td>\n",
       "      <td>2.993135</td>\n",
       "    </tr>\n",
       "    <tr>\n",
       "      <th>1</th>\n",
       "      <td>82</td>\n",
       "      <td>4.026416</td>\n",
       "      <td>2.993135</td>\n",
       "      <td>2.993135</td>\n",
       "      <td>2.993135</td>\n",
       "      <td>2.018147</td>\n",
       "      <td>2.993135</td>\n",
       "      <td>2.993135</td>\n",
       "    </tr>\n",
       "    <tr>\n",
       "      <th>2</th>\n",
       "      <td>44</td>\n",
       "      <td>3.337938</td>\n",
       "      <td>2.018147</td>\n",
       "      <td>2.018147</td>\n",
       "      <td>3.509776</td>\n",
       "      <td>2.993135</td>\n",
       "      <td>2.018147</td>\n",
       "      <td>2.993135</td>\n",
       "    </tr>\n",
       "    <tr>\n",
       "      <th>3</th>\n",
       "      <td>23</td>\n",
       "      <td>1.049523</td>\n",
       "      <td>3.509776</td>\n",
       "      <td>2.993135</td>\n",
       "      <td>2.018147</td>\n",
       "      <td>2.993135</td>\n",
       "      <td>2.993135</td>\n",
       "      <td>2.993135</td>\n",
       "    </tr>\n",
       "    <tr>\n",
       "      <th>4</th>\n",
       "      <td>79</td>\n",
       "      <td>4.302773</td>\n",
       "      <td>2.993135</td>\n",
       "      <td>2.458077</td>\n",
       "      <td>1.695272</td>\n",
       "      <td>2.687570</td>\n",
       "      <td>2.993135</td>\n",
       "      <td>2.993135</td>\n",
       "    </tr>\n",
       "    <tr>\n",
       "      <th>...</th>\n",
       "      <td>...</td>\n",
       "      <td>...</td>\n",
       "      <td>...</td>\n",
       "      <td>...</td>\n",
       "      <td>...</td>\n",
       "      <td>...</td>\n",
       "      <td>...</td>\n",
       "      <td>...</td>\n",
       "    </tr>\n",
       "    <tr>\n",
       "      <th>995</th>\n",
       "      <td>55</td>\n",
       "      <td>1.620081</td>\n",
       "      <td>2.908854</td>\n",
       "      <td>3.003209</td>\n",
       "      <td>3.003089</td>\n",
       "      <td>2.925438</td>\n",
       "      <td>2.953345</td>\n",
       "      <td>2.891994</td>\n",
       "    </tr>\n",
       "    <tr>\n",
       "      <th>996</th>\n",
       "      <td>13</td>\n",
       "      <td>1.544464</td>\n",
       "      <td>3.161843</td>\n",
       "      <td>2.884686</td>\n",
       "      <td>3.038584</td>\n",
       "      <td>3.070148</td>\n",
       "      <td>3.006161</td>\n",
       "      <td>3.361617</td>\n",
       "    </tr>\n",
       "    <tr>\n",
       "      <th>997</th>\n",
       "      <td>47</td>\n",
       "      <td>3.961913</td>\n",
       "      <td>3.152329</td>\n",
       "      <td>2.996362</td>\n",
       "      <td>2.938688</td>\n",
       "      <td>3.025818</td>\n",
       "      <td>3.000314</td>\n",
       "      <td>2.623336</td>\n",
       "    </tr>\n",
       "    <tr>\n",
       "      <th>998</th>\n",
       "      <td>68</td>\n",
       "      <td>3.089722</td>\n",
       "      <td>2.954329</td>\n",
       "      <td>3.001118</td>\n",
       "      <td>2.998847</td>\n",
       "      <td>2.976151</td>\n",
       "      <td>3.025326</td>\n",
       "      <td>3.162969</td>\n",
       "    </tr>\n",
       "    <tr>\n",
       "      <th>999</th>\n",
       "      <td>79</td>\n",
       "      <td>3.093553</td>\n",
       "      <td>2.903049</td>\n",
       "      <td>2.942212</td>\n",
       "      <td>2.999125</td>\n",
       "      <td>3.030668</td>\n",
       "      <td>3.004145</td>\n",
       "      <td>2.995347</td>\n",
       "    </tr>\n",
       "  </tbody>\n",
       "</table>\n",
       "<p>1000 rows × 8 columns</p>\n",
       "</div>"
      ],
      "text/plain": [
       "     Price    Rating  Product Name_encoded  Brand_encoded  Category_encoded  \\\n",
       "0       40  1.043159              2.993135       2.993135          2.993135   \n",
       "1       82  4.026416              2.993135       2.993135          2.993135   \n",
       "2       44  3.337938              2.018147       2.018147          3.509776   \n",
       "3       23  1.049523              3.509776       2.993135          2.018147   \n",
       "4       79  4.302773              2.993135       2.458077          1.695272   \n",
       "..     ...       ...                   ...            ...               ...   \n",
       "995     55  1.620081              2.908854       3.003209          3.003089   \n",
       "996     13  1.544464              3.161843       2.884686          3.038584   \n",
       "997     47  3.961913              3.152329       2.996362          2.938688   \n",
       "998     68  3.089722              2.954329       3.001118          2.998847   \n",
       "999     79  3.093553              2.903049       2.942212          2.999125   \n",
       "\n",
       "     Color_encoded  Size_encoded  User ID_encoded  \n",
       "0         2.993135      2.993135         2.993135  \n",
       "1         2.018147      2.993135         2.993135  \n",
       "2         2.993135      2.018147         2.993135  \n",
       "3         2.993135      2.993135         2.993135  \n",
       "4         2.687570      2.993135         2.993135  \n",
       "..             ...           ...              ...  \n",
       "995       2.925438      2.953345         2.891994  \n",
       "996       3.070148      3.006161         3.361617  \n",
       "997       3.025818      3.000314         2.623336  \n",
       "998       2.976151      3.025326         3.162969  \n",
       "999       3.030668      3.004145         2.995347  \n",
       "\n",
       "[1000 rows x 8 columns]"
      ]
     },
     "execution_count": 9,
     "metadata": {},
     "output_type": "execute_result"
    }
   ],
   "source": [
    "df_encoded"
   ]
  },
  {
   "cell_type": "code",
   "execution_count": 10,
   "id": "9230d2e1",
   "metadata": {},
   "outputs": [
    {
     "data": {
      "text/html": [
       "<div>\n",
       "<style scoped>\n",
       "    .dataframe tbody tr th:only-of-type {\n",
       "        vertical-align: middle;\n",
       "    }\n",
       "\n",
       "    .dataframe tbody tr th {\n",
       "        vertical-align: top;\n",
       "    }\n",
       "\n",
       "    .dataframe thead th {\n",
       "        text-align: right;\n",
       "    }\n",
       "</style>\n",
       "<table border=\"1\" class=\"dataframe\">\n",
       "  <thead>\n",
       "    <tr style=\"text-align: right;\">\n",
       "      <th></th>\n",
       "      <th>Price</th>\n",
       "      <th>Rating</th>\n",
       "      <th>Product Name_encoded</th>\n",
       "      <th>Brand_encoded</th>\n",
       "      <th>Category_encoded</th>\n",
       "      <th>Color_encoded</th>\n",
       "      <th>Size_encoded</th>\n",
       "      <th>User ID_encoded</th>\n",
       "    </tr>\n",
       "  </thead>\n",
       "  <tbody>\n",
       "    <tr>\n",
       "      <th>0</th>\n",
       "      <td>40</td>\n",
       "      <td>1.043159</td>\n",
       "      <td>2.993135</td>\n",
       "      <td>2.993135</td>\n",
       "      <td>2.993135</td>\n",
       "      <td>2.993135</td>\n",
       "      <td>2.993135</td>\n",
       "      <td>2.993135</td>\n",
       "    </tr>\n",
       "    <tr>\n",
       "      <th>1</th>\n",
       "      <td>82</td>\n",
       "      <td>4.026416</td>\n",
       "      <td>2.993135</td>\n",
       "      <td>2.993135</td>\n",
       "      <td>2.993135</td>\n",
       "      <td>2.018147</td>\n",
       "      <td>2.993135</td>\n",
       "      <td>2.993135</td>\n",
       "    </tr>\n",
       "    <tr>\n",
       "      <th>2</th>\n",
       "      <td>44</td>\n",
       "      <td>3.337938</td>\n",
       "      <td>2.018147</td>\n",
       "      <td>2.018147</td>\n",
       "      <td>3.509776</td>\n",
       "      <td>2.993135</td>\n",
       "      <td>2.018147</td>\n",
       "      <td>2.993135</td>\n",
       "    </tr>\n",
       "    <tr>\n",
       "      <th>3</th>\n",
       "      <td>23</td>\n",
       "      <td>1.049523</td>\n",
       "      <td>3.509776</td>\n",
       "      <td>2.993135</td>\n",
       "      <td>2.018147</td>\n",
       "      <td>2.993135</td>\n",
       "      <td>2.993135</td>\n",
       "      <td>2.993135</td>\n",
       "    </tr>\n",
       "    <tr>\n",
       "      <th>4</th>\n",
       "      <td>79</td>\n",
       "      <td>4.302773</td>\n",
       "      <td>2.993135</td>\n",
       "      <td>2.458077</td>\n",
       "      <td>1.695272</td>\n",
       "      <td>2.687570</td>\n",
       "      <td>2.993135</td>\n",
       "      <td>2.993135</td>\n",
       "    </tr>\n",
       "    <tr>\n",
       "      <th>...</th>\n",
       "      <td>...</td>\n",
       "      <td>...</td>\n",
       "      <td>...</td>\n",
       "      <td>...</td>\n",
       "      <td>...</td>\n",
       "      <td>...</td>\n",
       "      <td>...</td>\n",
       "      <td>...</td>\n",
       "    </tr>\n",
       "    <tr>\n",
       "      <th>995</th>\n",
       "      <td>55</td>\n",
       "      <td>1.620081</td>\n",
       "      <td>2.908854</td>\n",
       "      <td>3.003209</td>\n",
       "      <td>3.003089</td>\n",
       "      <td>2.925438</td>\n",
       "      <td>2.953345</td>\n",
       "      <td>2.891994</td>\n",
       "    </tr>\n",
       "    <tr>\n",
       "      <th>996</th>\n",
       "      <td>13</td>\n",
       "      <td>1.544464</td>\n",
       "      <td>3.161843</td>\n",
       "      <td>2.884686</td>\n",
       "      <td>3.038584</td>\n",
       "      <td>3.070148</td>\n",
       "      <td>3.006161</td>\n",
       "      <td>3.361617</td>\n",
       "    </tr>\n",
       "    <tr>\n",
       "      <th>997</th>\n",
       "      <td>47</td>\n",
       "      <td>3.961913</td>\n",
       "      <td>3.152329</td>\n",
       "      <td>2.996362</td>\n",
       "      <td>2.938688</td>\n",
       "      <td>3.025818</td>\n",
       "      <td>3.000314</td>\n",
       "      <td>2.623336</td>\n",
       "    </tr>\n",
       "    <tr>\n",
       "      <th>998</th>\n",
       "      <td>68</td>\n",
       "      <td>3.089722</td>\n",
       "      <td>2.954329</td>\n",
       "      <td>3.001118</td>\n",
       "      <td>2.998847</td>\n",
       "      <td>2.976151</td>\n",
       "      <td>3.025326</td>\n",
       "      <td>3.162969</td>\n",
       "    </tr>\n",
       "    <tr>\n",
       "      <th>999</th>\n",
       "      <td>79</td>\n",
       "      <td>3.093553</td>\n",
       "      <td>2.903049</td>\n",
       "      <td>2.942212</td>\n",
       "      <td>2.999125</td>\n",
       "      <td>3.030668</td>\n",
       "      <td>3.004145</td>\n",
       "      <td>2.995347</td>\n",
       "    </tr>\n",
       "  </tbody>\n",
       "</table>\n",
       "<p>1000 rows × 8 columns</p>\n",
       "</div>"
      ],
      "text/plain": [
       "     Price    Rating  Product Name_encoded  Brand_encoded  Category_encoded  \\\n",
       "0       40  1.043159              2.993135       2.993135          2.993135   \n",
       "1       82  4.026416              2.993135       2.993135          2.993135   \n",
       "2       44  3.337938              2.018147       2.018147          3.509776   \n",
       "3       23  1.049523              3.509776       2.993135          2.018147   \n",
       "4       79  4.302773              2.993135       2.458077          1.695272   \n",
       "..     ...       ...                   ...            ...               ...   \n",
       "995     55  1.620081              2.908854       3.003209          3.003089   \n",
       "996     13  1.544464              3.161843       2.884686          3.038584   \n",
       "997     47  3.961913              3.152329       2.996362          2.938688   \n",
       "998     68  3.089722              2.954329       3.001118          2.998847   \n",
       "999     79  3.093553              2.903049       2.942212          2.999125   \n",
       "\n",
       "     Color_encoded  Size_encoded  User ID_encoded  \n",
       "0         2.993135      2.993135         2.993135  \n",
       "1         2.018147      2.993135         2.993135  \n",
       "2         2.993135      2.018147         2.993135  \n",
       "3         2.993135      2.993135         2.993135  \n",
       "4         2.687570      2.993135         2.993135  \n",
       "..             ...           ...              ...  \n",
       "995       2.925438      2.953345         2.891994  \n",
       "996       3.070148      3.006161         3.361617  \n",
       "997       3.025818      3.000314         2.623336  \n",
       "998       2.976151      3.025326         3.162969  \n",
       "999       3.030668      3.004145         2.995347  \n",
       "\n",
       "[1000 rows x 8 columns]"
      ]
     },
     "execution_count": 10,
     "metadata": {},
     "output_type": "execute_result"
    }
   ],
   "source": [
    "df_new = pd.DataFrame(df_encoded)\n",
    "df_new"
   ]
  },
  {
   "cell_type": "markdown",
   "id": "584a0594",
   "metadata": {},
   "source": [
    "Here, we have created a feature matrix where:\n",
    "\n",
    "Product ID and Price are identifiers.\n",
    "Rating is the target variable.\n",
    "Rest all are the features including User ID as this feature is iterative and repeats several times in the dataset.Choosing User ID as a categorical variable will allow us to capture a group-specific patterns such as preferences, activity levels."
   ]
  },
  {
   "cell_type": "code",
   "execution_count": 11,
   "id": "f8efe69b",
   "metadata": {},
   "outputs": [
    {
     "name": "stdout",
     "output_type": "stream",
     "text": [
      "(1000, 8)\n"
     ]
    }
   ],
   "source": [
    "# Code task 18\n",
    "# Check the shape of the new dataframe (including newly encoded columns) in the DataFrame\n",
    "\n",
    "print(df_new.shape)"
   ]
  },
  {
   "cell_type": "code",
   "execution_count": 12,
   "id": "40b280e7",
   "metadata": {},
   "outputs": [
    {
     "name": "stdout",
     "output_type": "stream",
     "text": [
      "<class 'pandas.core.frame.DataFrame'>\n",
      "RangeIndex: 1000 entries, 0 to 999\n",
      "Data columns (total 8 columns):\n",
      " #   Column                Non-Null Count  Dtype  \n",
      "---  ------                --------------  -----  \n",
      " 0   Price                 1000 non-null   int64  \n",
      " 1   Rating                1000 non-null   float64\n",
      " 2   Product Name_encoded  1000 non-null   float64\n",
      " 3   Brand_encoded         1000 non-null   float64\n",
      " 4   Category_encoded      1000 non-null   float64\n",
      " 5   Color_encoded         1000 non-null   float64\n",
      " 6   Size_encoded          1000 non-null   float64\n",
      " 7   User ID_encoded       1000 non-null   float64\n",
      "dtypes: float64(7), int64(1)\n",
      "memory usage: 62.6 KB\n"
     ]
    }
   ],
   "source": [
    "# Code task 19\n",
    "# Check the format of all columns (including newly encoded columns) in the DataFrame\n",
    "\n",
    "df_new.info()"
   ]
  },
  {
   "cell_type": "markdown",
   "id": "65f25184",
   "metadata": {},
   "source": [
    "All columns are now numeric."
   ]
  },
  {
   "cell_type": "code",
   "execution_count": 13,
   "id": "36e2f847",
   "metadata": {},
   "outputs": [
    {
     "data": {
      "text/html": [
       "<div>\n",
       "<style scoped>\n",
       "    .dataframe tbody tr th:only-of-type {\n",
       "        vertical-align: middle;\n",
       "    }\n",
       "\n",
       "    .dataframe tbody tr th {\n",
       "        vertical-align: top;\n",
       "    }\n",
       "\n",
       "    .dataframe thead th {\n",
       "        text-align: right;\n",
       "    }\n",
       "</style>\n",
       "<table border=\"1\" class=\"dataframe\">\n",
       "  <thead>\n",
       "    <tr style=\"text-align: right;\">\n",
       "      <th></th>\n",
       "      <th>Price</th>\n",
       "      <th>Rating</th>\n",
       "      <th>Product Name_encoded</th>\n",
       "      <th>Brand_encoded</th>\n",
       "      <th>Category_encoded</th>\n",
       "      <th>Color_encoded</th>\n",
       "      <th>Size_encoded</th>\n",
       "      <th>User ID_encoded</th>\n",
       "    </tr>\n",
       "  </thead>\n",
       "  <tbody>\n",
       "    <tr>\n",
       "      <th>count</th>\n",
       "      <td>1000.000000</td>\n",
       "      <td>1000.000000</td>\n",
       "      <td>1000.000000</td>\n",
       "      <td>1000.000000</td>\n",
       "      <td>1000.000000</td>\n",
       "      <td>1000.000000</td>\n",
       "      <td>1000.000000</td>\n",
       "      <td>1000.000000</td>\n",
       "    </tr>\n",
       "    <tr>\n",
       "      <th>mean</th>\n",
       "      <td>55.785000</td>\n",
       "      <td>2.993135</td>\n",
       "      <td>2.966473</td>\n",
       "      <td>2.961967</td>\n",
       "      <td>2.969352</td>\n",
       "      <td>2.965415</td>\n",
       "      <td>2.965117</td>\n",
       "      <td>2.976524</td>\n",
       "    </tr>\n",
       "    <tr>\n",
       "      <th>std</th>\n",
       "      <td>26.291748</td>\n",
       "      <td>1.153185</td>\n",
       "      <td>0.217152</td>\n",
       "      <td>0.193344</td>\n",
       "      <td>0.159867</td>\n",
       "      <td>0.141875</td>\n",
       "      <td>0.136690</td>\n",
       "      <td>0.407035</td>\n",
       "    </tr>\n",
       "    <tr>\n",
       "      <th>min</th>\n",
       "      <td>10.000000</td>\n",
       "      <td>1.000967</td>\n",
       "      <td>1.983693</td>\n",
       "      <td>2.018147</td>\n",
       "      <td>1.695272</td>\n",
       "      <td>1.799803</td>\n",
       "      <td>1.656591</td>\n",
       "      <td>1.701480</td>\n",
       "    </tr>\n",
       "    <tr>\n",
       "      <th>25%</th>\n",
       "      <td>33.000000</td>\n",
       "      <td>1.992786</td>\n",
       "      <td>2.831600</td>\n",
       "      <td>2.854746</td>\n",
       "      <td>2.878439</td>\n",
       "      <td>2.877145</td>\n",
       "      <td>2.929529</td>\n",
       "      <td>2.721392</td>\n",
       "    </tr>\n",
       "    <tr>\n",
       "      <th>50%</th>\n",
       "      <td>57.000000</td>\n",
       "      <td>2.984003</td>\n",
       "      <td>2.943164</td>\n",
       "      <td>2.930428</td>\n",
       "      <td>3.002708</td>\n",
       "      <td>2.982633</td>\n",
       "      <td>2.982184</td>\n",
       "      <td>2.993135</td>\n",
       "    </tr>\n",
       "    <tr>\n",
       "      <th>75%</th>\n",
       "      <td>78.250000</td>\n",
       "      <td>3.985084</td>\n",
       "      <td>3.077073</td>\n",
       "      <td>3.106158</td>\n",
       "      <td>3.056833</td>\n",
       "      <td>3.048068</td>\n",
       "      <td>3.012145</td>\n",
       "      <td>3.228626</td>\n",
       "    </tr>\n",
       "    <tr>\n",
       "      <th>max</th>\n",
       "      <td>100.000000</td>\n",
       "      <td>4.987964</td>\n",
       "      <td>3.939873</td>\n",
       "      <td>3.828578</td>\n",
       "      <td>3.815558</td>\n",
       "      <td>3.953299</td>\n",
       "      <td>3.647954</td>\n",
       "      <td>4.266373</td>\n",
       "    </tr>\n",
       "  </tbody>\n",
       "</table>\n",
       "</div>"
      ],
      "text/plain": [
       "             Price       Rating  Product Name_encoded  Brand_encoded  \\\n",
       "count  1000.000000  1000.000000           1000.000000    1000.000000   \n",
       "mean     55.785000     2.993135              2.966473       2.961967   \n",
       "std      26.291748     1.153185              0.217152       0.193344   \n",
       "min      10.000000     1.000967              1.983693       2.018147   \n",
       "25%      33.000000     1.992786              2.831600       2.854746   \n",
       "50%      57.000000     2.984003              2.943164       2.930428   \n",
       "75%      78.250000     3.985084              3.077073       3.106158   \n",
       "max     100.000000     4.987964              3.939873       3.828578   \n",
       "\n",
       "       Category_encoded  Color_encoded  Size_encoded  User ID_encoded  \n",
       "count       1000.000000    1000.000000   1000.000000      1000.000000  \n",
       "mean           2.969352       2.965415      2.965117         2.976524  \n",
       "std            0.159867       0.141875      0.136690         0.407035  \n",
       "min            1.695272       1.799803      1.656591         1.701480  \n",
       "25%            2.878439       2.877145      2.929529         2.721392  \n",
       "50%            3.002708       2.982633      2.982184         2.993135  \n",
       "75%            3.056833       3.048068      3.012145         3.228626  \n",
       "max            3.815558       3.953299      3.647954         4.266373  "
      ]
     },
     "execution_count": 13,
     "metadata": {},
     "output_type": "execute_result"
    }
   ],
   "source": [
    "# Code task 20\n",
    "# Check the description of all the numerical columns (including newly encoded columns) in the DataFrame\n",
    "\n",
    "df_new.describe()"
   ]
  },
  {
   "cell_type": "markdown",
   "id": "f4b46bf3",
   "metadata": {},
   "source": [
    "# Train/Test Split"
   ]
  },
  {
   "cell_type": "markdown",
   "id": "692b107a",
   "metadata": {},
   "source": [
    "Partition sizes with a 70/30 train/test split"
   ]
  },
  {
   "cell_type": "code",
   "execution_count": 14,
   "id": "3ec73891",
   "metadata": {},
   "outputs": [
    {
     "data": {
      "text/plain": [
       "(700.0, 300.0)"
      ]
     },
     "execution_count": 14,
     "metadata": {},
     "output_type": "execute_result"
    }
   ],
   "source": [
    "len(df_new) * .7, len(df_new) * .3"
   ]
  },
  {
   "cell_type": "code",
   "execution_count": 15,
   "id": "6635ba48",
   "metadata": {},
   "outputs": [],
   "source": [
    "X_train, X_test, y_train, y_test = train_test_split(df_new.drop(columns='Rating'), \n",
    "                                                    df_new.Rating, test_size=0.3, \n",
    "                                                    random_state=47)"
   ]
  },
  {
   "cell_type": "code",
   "execution_count": 16,
   "id": "5391017c",
   "metadata": {},
   "outputs": [
    {
     "data": {
      "text/plain": [
       "((700, 7), (300, 7))"
      ]
     },
     "execution_count": 16,
     "metadata": {},
     "output_type": "execute_result"
    }
   ],
   "source": [
    "X_train.shape, X_test.shape"
   ]
  },
  {
   "cell_type": "code",
   "execution_count": 17,
   "id": "44249539",
   "metadata": {},
   "outputs": [
    {
     "data": {
      "text/plain": [
       "((700,), (300,))"
      ]
     },
     "execution_count": 17,
     "metadata": {},
     "output_type": "execute_result"
    }
   ],
   "source": [
    "y_train.shape, y_test.shape"
   ]
  },
  {
   "cell_type": "code",
   "execution_count": 18,
   "id": "218473d7",
   "metadata": {},
   "outputs": [
    {
     "data": {
      "text/plain": [
       "Price                     int64\n",
       "Product Name_encoded    float64\n",
       "Brand_encoded           float64\n",
       "Category_encoded        float64\n",
       "Color_encoded           float64\n",
       "Size_encoded            float64\n",
       "User ID_encoded         float64\n",
       "dtype: object"
      ]
     },
     "execution_count": 18,
     "metadata": {},
     "output_type": "execute_result"
    }
   ],
   "source": [
    "#Check the `dtypes` attribute of `X_train` to verify all features are numeric\n",
    "X_train.dtypes"
   ]
  },
  {
   "cell_type": "code",
   "execution_count": 19,
   "id": "f5a5b67e",
   "metadata": {},
   "outputs": [
    {
     "data": {
      "text/plain": [
       "Price                     int64\n",
       "Product Name_encoded    float64\n",
       "Brand_encoded           float64\n",
       "Category_encoded        float64\n",
       "Color_encoded           float64\n",
       "Size_encoded            float64\n",
       "User ID_encoded         float64\n",
       "dtype: object"
      ]
     },
     "execution_count": 19,
     "metadata": {},
     "output_type": "execute_result"
    }
   ],
   "source": [
    "#Repeat this check for the test split in `X_test`\n",
    "X_test.dtypes"
   ]
  },
  {
   "cell_type": "markdown",
   "id": "0f11d60d",
   "metadata": {},
   "source": [
    "We have only numeric features in our X now!"
   ]
  },
  {
   "cell_type": "code",
   "execution_count": 20,
   "id": "f32ca8ad",
   "metadata": {},
   "outputs": [
    {
     "name": "stdout",
     "output_type": "stream",
     "text": [
      "<class 'pandas.core.frame.DataFrame'>\n",
      "RangeIndex: 1000 entries, 0 to 999\n",
      "Data columns (total 8 columns):\n",
      " #   Column                Non-Null Count  Dtype  \n",
      "---  ------                --------------  -----  \n",
      " 0   Price                 1000 non-null   int64  \n",
      " 1   Rating                1000 non-null   float64\n",
      " 2   Product Name_encoded  1000 non-null   float64\n",
      " 3   Brand_encoded         1000 non-null   float64\n",
      " 4   Category_encoded      1000 non-null   float64\n",
      " 5   Color_encoded         1000 non-null   float64\n",
      " 6   Size_encoded          1000 non-null   float64\n",
      " 7   User ID_encoded       1000 non-null   float64\n",
      "dtypes: float64(7), int64(1)\n",
      "memory usage: 62.6 KB\n"
     ]
    }
   ],
   "source": [
    "df_new.info()"
   ]
  },
  {
   "cell_type": "code",
   "execution_count": 21,
   "id": "80159df0",
   "metadata": {},
   "outputs": [
    {
     "data": {
      "text/html": [
       "<div>\n",
       "<style scoped>\n",
       "    .dataframe tbody tr th:only-of-type {\n",
       "        vertical-align: middle;\n",
       "    }\n",
       "\n",
       "    .dataframe tbody tr th {\n",
       "        vertical-align: top;\n",
       "    }\n",
       "\n",
       "    .dataframe thead th {\n",
       "        text-align: right;\n",
       "    }\n",
       "</style>\n",
       "<table border=\"1\" class=\"dataframe\">\n",
       "  <thead>\n",
       "    <tr style=\"text-align: right;\">\n",
       "      <th></th>\n",
       "      <th>Price</th>\n",
       "      <th>Product Name_encoded</th>\n",
       "      <th>Brand_encoded</th>\n",
       "      <th>Category_encoded</th>\n",
       "      <th>Color_encoded</th>\n",
       "      <th>Size_encoded</th>\n",
       "      <th>User ID_encoded</th>\n",
       "    </tr>\n",
       "  </thead>\n",
       "  <tbody>\n",
       "    <tr>\n",
       "      <th>Price</th>\n",
       "      <td>1.000000</td>\n",
       "      <td>-0.021768</td>\n",
       "      <td>-0.044327</td>\n",
       "      <td>0.052582</td>\n",
       "      <td>0.008400</td>\n",
       "      <td>0.009211</td>\n",
       "      <td>0.013732</td>\n",
       "    </tr>\n",
       "    <tr>\n",
       "      <th>Product Name_encoded</th>\n",
       "      <td>-0.021768</td>\n",
       "      <td>1.000000</td>\n",
       "      <td>0.129485</td>\n",
       "      <td>-0.047921</td>\n",
       "      <td>0.087746</td>\n",
       "      <td>0.013802</td>\n",
       "      <td>0.005867</td>\n",
       "    </tr>\n",
       "    <tr>\n",
       "      <th>Brand_encoded</th>\n",
       "      <td>-0.044327</td>\n",
       "      <td>0.129485</td>\n",
       "      <td>1.000000</td>\n",
       "      <td>-0.002885</td>\n",
       "      <td>0.145163</td>\n",
       "      <td>-0.011148</td>\n",
       "      <td>-0.014389</td>\n",
       "    </tr>\n",
       "    <tr>\n",
       "      <th>Category_encoded</th>\n",
       "      <td>0.052582</td>\n",
       "      <td>-0.047921</td>\n",
       "      <td>-0.002885</td>\n",
       "      <td>1.000000</td>\n",
       "      <td>-0.026674</td>\n",
       "      <td>0.129205</td>\n",
       "      <td>0.017597</td>\n",
       "    </tr>\n",
       "    <tr>\n",
       "      <th>Color_encoded</th>\n",
       "      <td>0.008400</td>\n",
       "      <td>0.087746</td>\n",
       "      <td>0.145163</td>\n",
       "      <td>-0.026674</td>\n",
       "      <td>1.000000</td>\n",
       "      <td>-0.085906</td>\n",
       "      <td>-0.017502</td>\n",
       "    </tr>\n",
       "    <tr>\n",
       "      <th>Size_encoded</th>\n",
       "      <td>0.009211</td>\n",
       "      <td>0.013802</td>\n",
       "      <td>-0.011148</td>\n",
       "      <td>0.129205</td>\n",
       "      <td>-0.085906</td>\n",
       "      <td>1.000000</td>\n",
       "      <td>-0.048172</td>\n",
       "    </tr>\n",
       "    <tr>\n",
       "      <th>User ID_encoded</th>\n",
       "      <td>0.013732</td>\n",
       "      <td>0.005867</td>\n",
       "      <td>-0.014389</td>\n",
       "      <td>0.017597</td>\n",
       "      <td>-0.017502</td>\n",
       "      <td>-0.048172</td>\n",
       "      <td>1.000000</td>\n",
       "    </tr>\n",
       "  </tbody>\n",
       "</table>\n",
       "</div>"
      ],
      "text/plain": [
       "                         Price  Product Name_encoded  Brand_encoded  \\\n",
       "Price                 1.000000             -0.021768      -0.044327   \n",
       "Product Name_encoded -0.021768              1.000000       0.129485   \n",
       "Brand_encoded        -0.044327              0.129485       1.000000   \n",
       "Category_encoded      0.052582             -0.047921      -0.002885   \n",
       "Color_encoded         0.008400              0.087746       0.145163   \n",
       "Size_encoded          0.009211              0.013802      -0.011148   \n",
       "User ID_encoded       0.013732              0.005867      -0.014389   \n",
       "\n",
       "                      Category_encoded  Color_encoded  Size_encoded  \\\n",
       "Price                         0.052582       0.008400      0.009211   \n",
       "Product Name_encoded         -0.047921       0.087746      0.013802   \n",
       "Brand_encoded                -0.002885       0.145163     -0.011148   \n",
       "Category_encoded              1.000000      -0.026674      0.129205   \n",
       "Color_encoded                -0.026674       1.000000     -0.085906   \n",
       "Size_encoded                  0.129205      -0.085906      1.000000   \n",
       "User ID_encoded               0.017597      -0.017502     -0.048172   \n",
       "\n",
       "                      User ID_encoded  \n",
       "Price                        0.013732  \n",
       "Product Name_encoded         0.005867  \n",
       "Brand_encoded               -0.014389  \n",
       "Category_encoded             0.017597  \n",
       "Color_encoded               -0.017502  \n",
       "Size_encoded                -0.048172  \n",
       "User ID_encoded              1.000000  "
      ]
     },
     "execution_count": 21,
     "metadata": {},
     "output_type": "execute_result"
    }
   ],
   "source": [
    "import pandas as pd\n",
    "correlation_matrix = X_train.corr()\n",
    "correlation_matrix"
   ]
  },
  {
   "cell_type": "markdown",
   "id": "c467fd58",
   "metadata": {},
   "source": [
    "# Method 1 - Random Forest Model"
   ]
  },
  {
   "cell_type": "markdown",
   "id": "a246bc06",
   "metadata": {},
   "source": [
    "# Define the pipeline"
   ]
  },
  {
   "cell_type": "code",
   "execution_count": 22,
   "id": "610f59d4",
   "metadata": {},
   "outputs": [],
   "source": [
    "#Define a pipeline comprising the steps:\n",
    "#SimpleImputer() with a strategy of 'median'\n",
    "#StandardScaler(),\n",
    "#and then RandomForestRegressor() with a random state of 47\n",
    "RF_pipe = make_pipeline(\n",
    "    RandomForestRegressor(n_estimators=100, max_depth=10, random_state=47, min_samples_split=10)\n",
    ")"
   ]
  },
  {
   "cell_type": "code",
   "execution_count": 23,
   "id": "a96d70d4",
   "metadata": {},
   "outputs": [
    {
     "data": {
      "text/html": [
       "<div>\n",
       "<style scoped>\n",
       "    .dataframe tbody tr th:only-of-type {\n",
       "        vertical-align: middle;\n",
       "    }\n",
       "\n",
       "    .dataframe tbody tr th {\n",
       "        vertical-align: top;\n",
       "    }\n",
       "\n",
       "    .dataframe thead th {\n",
       "        text-align: right;\n",
       "    }\n",
       "</style>\n",
       "<table border=\"1\" class=\"dataframe\">\n",
       "  <thead>\n",
       "    <tr style=\"text-align: right;\">\n",
       "      <th></th>\n",
       "      <th>Price</th>\n",
       "      <th>Product Name_encoded</th>\n",
       "      <th>Brand_encoded</th>\n",
       "      <th>Category_encoded</th>\n",
       "      <th>Color_encoded</th>\n",
       "      <th>Size_encoded</th>\n",
       "      <th>User ID_encoded</th>\n",
       "    </tr>\n",
       "  </thead>\n",
       "  <tbody>\n",
       "    <tr>\n",
       "      <th>128</th>\n",
       "      <td>85</td>\n",
       "      <td>2.669062</td>\n",
       "      <td>3.059661</td>\n",
       "      <td>3.143416</td>\n",
       "      <td>2.926661</td>\n",
       "      <td>3.021098</td>\n",
       "      <td>2.993135</td>\n",
       "    </tr>\n",
       "    <tr>\n",
       "      <th>492</th>\n",
       "      <td>88</td>\n",
       "      <td>2.807486</td>\n",
       "      <td>2.844828</td>\n",
       "      <td>2.991981</td>\n",
       "      <td>2.969442</td>\n",
       "      <td>3.011958</td>\n",
       "      <td>2.880183</td>\n",
       "    </tr>\n",
       "    <tr>\n",
       "      <th>303</th>\n",
       "      <td>85</td>\n",
       "      <td>2.828699</td>\n",
       "      <td>2.836282</td>\n",
       "      <td>3.119169</td>\n",
       "      <td>3.084120</td>\n",
       "      <td>2.922178</td>\n",
       "      <td>3.099555</td>\n",
       "    </tr>\n",
       "    <tr>\n",
       "      <th>120</th>\n",
       "      <td>96</td>\n",
       "      <td>2.629612</td>\n",
       "      <td>3.506794</td>\n",
       "      <td>2.750206</td>\n",
       "      <td>3.018945</td>\n",
       "      <td>2.970156</td>\n",
       "      <td>2.993135</td>\n",
       "    </tr>\n",
       "    <tr>\n",
       "      <th>455</th>\n",
       "      <td>14</td>\n",
       "      <td>2.810580</td>\n",
       "      <td>3.213892</td>\n",
       "      <td>2.867895</td>\n",
       "      <td>2.836171</td>\n",
       "      <td>2.886689</td>\n",
       "      <td>2.341233</td>\n",
       "    </tr>\n",
       "  </tbody>\n",
       "</table>\n",
       "</div>"
      ],
      "text/plain": [
       "     Price  Product Name_encoded  Brand_encoded  Category_encoded  \\\n",
       "128     85              2.669062       3.059661          3.143416   \n",
       "492     88              2.807486       2.844828          2.991981   \n",
       "303     85              2.828699       2.836282          3.119169   \n",
       "120     96              2.629612       3.506794          2.750206   \n",
       "455     14              2.810580       3.213892          2.867895   \n",
       "\n",
       "     Color_encoded  Size_encoded  User ID_encoded  \n",
       "128       2.926661      3.021098         2.993135  \n",
       "492       2.969442      3.011958         2.880183  \n",
       "303       3.084120      2.922178         3.099555  \n",
       "120       3.018945      2.970156         2.993135  \n",
       "455       2.836171      2.886689         2.341233  "
      ]
     },
     "execution_count": 23,
     "metadata": {},
     "output_type": "execute_result"
    }
   ],
   "source": [
    "X_train.head()"
   ]
  },
  {
   "cell_type": "markdown",
   "id": "f7aac7ba",
   "metadata": {},
   "source": [
    "# Fit and assess performance using cross-validation"
   ]
  },
  {
   "cell_type": "code",
   "execution_count": 24,
   "id": "d7c94a9c",
   "metadata": {},
   "outputs": [],
   "source": [
    "#Call `cross_validate` to estimate the pipeline's performance.\n",
    "#Pass it the random forest pipe object, `X_train` and `y_train`,\n",
    "#and get it to use 5-fold cross-validation\n",
    "rf_default_cv_results = cross_validate(RF_pipe, X_train, y_train, cv=5, scoring='r2')\n"
   ]
  },
  {
   "cell_type": "code",
   "execution_count": 25,
   "id": "a13e4072",
   "metadata": {},
   "outputs": [
    {
     "data": {
      "text/plain": [
       "array([-0.03485995, -0.03482409, -0.05217029, -0.08870481, -0.06231016])"
      ]
     },
     "execution_count": 25,
     "metadata": {},
     "output_type": "execute_result"
    }
   ],
   "source": [
    "rf_cv_scores = rf_default_cv_results['test_score']\n",
    "rf_cv_scores"
   ]
  },
  {
   "cell_type": "code",
   "execution_count": 26,
   "id": "90fb6814",
   "metadata": {},
   "outputs": [
    {
     "data": {
      "text/plain": [
       "(-0.05457385814019995, 0.020046149873532648)"
      ]
     },
     "execution_count": 26,
     "metadata": {},
     "output_type": "execute_result"
    }
   ],
   "source": [
    "np.mean(rf_cv_scores), np.std(rf_cv_scores)"
   ]
  },
  {
   "cell_type": "markdown",
   "id": "6dd38e8a",
   "metadata": {},
   "source": [
    "# Hyperparameter search using GridSearchCV"
   ]
  },
  {
   "cell_type": "code",
   "execution_count": 27,
   "id": "94cc08d9",
   "metadata": {},
   "outputs": [
    {
     "data": {
      "text/plain": [
       "{'randomforestregressor__n_estimators': [100, 200, 300],\n",
       " 'randomforestregressor__max_depth': [5, 10, 20],\n",
       " 'randomforestregressor__min_samples_split': [2, 5, 10],\n",
       " 'randomforestregressor__min_samples_leaf': [1, 2, 4]}"
      ]
     },
     "execution_count": 27,
     "metadata": {},
     "output_type": "execute_result"
    }
   ],
   "source": [
    "n_est = [100, 200, 300]\n",
    "max_depth=[5, 10, 20]\n",
    "min_samples_split = [2, 5, 10]\n",
    "min_samples_leaf = [1, 2, 4]\n",
    "grid_params = {\n",
    "    'randomforestregressor__n_estimators': n_est, \n",
    "    'randomforestregressor__max_depth': max_depth,\n",
    "    'randomforestregressor__min_samples_split': min_samples_split,\n",
    "    'randomforestregressor__min_samples_leaf': min_samples_leaf\n",
    "}\n",
    "grid_params"
   ]
  },
  {
   "cell_type": "code",
   "execution_count": 28,
   "id": "afc6aff9",
   "metadata": {},
   "outputs": [],
   "source": [
    "#Call `GridSearchCV` with the random forest pipeline, passing in the above `grid_params`\n",
    "#dict for parameters to evaluate, 5-fold cross-validation, and all available CPU cores (if desired)\n",
    "rf_grid_cv = GridSearchCV(RF_pipe, param_grid=grid_params, cv=5, n_jobs=-1)"
   ]
  },
  {
   "cell_type": "code",
   "execution_count": 29,
   "id": "572157f3",
   "metadata": {},
   "outputs": [
    {
     "data": {
      "text/html": [
       "<style>#sk-container-id-1 {\n",
       "  /* Definition of color scheme common for light and dark mode */\n",
       "  --sklearn-color-text: #000;\n",
       "  --sklearn-color-text-muted: #666;\n",
       "  --sklearn-color-line: gray;\n",
       "  /* Definition of color scheme for unfitted estimators */\n",
       "  --sklearn-color-unfitted-level-0: #fff5e6;\n",
       "  --sklearn-color-unfitted-level-1: #f6e4d2;\n",
       "  --sklearn-color-unfitted-level-2: #ffe0b3;\n",
       "  --sklearn-color-unfitted-level-3: chocolate;\n",
       "  /* Definition of color scheme for fitted estimators */\n",
       "  --sklearn-color-fitted-level-0: #f0f8ff;\n",
       "  --sklearn-color-fitted-level-1: #d4ebff;\n",
       "  --sklearn-color-fitted-level-2: #b3dbfd;\n",
       "  --sklearn-color-fitted-level-3: cornflowerblue;\n",
       "\n",
       "  /* Specific color for light theme */\n",
       "  --sklearn-color-text-on-default-background: var(--sg-text-color, var(--theme-code-foreground, var(--jp-content-font-color1, black)));\n",
       "  --sklearn-color-background: var(--sg-background-color, var(--theme-background, var(--jp-layout-color0, white)));\n",
       "  --sklearn-color-border-box: var(--sg-text-color, var(--theme-code-foreground, var(--jp-content-font-color1, black)));\n",
       "  --sklearn-color-icon: #696969;\n",
       "\n",
       "  @media (prefers-color-scheme: dark) {\n",
       "    /* Redefinition of color scheme for dark theme */\n",
       "    --sklearn-color-text-on-default-background: var(--sg-text-color, var(--theme-code-foreground, var(--jp-content-font-color1, white)));\n",
       "    --sklearn-color-background: var(--sg-background-color, var(--theme-background, var(--jp-layout-color0, #111)));\n",
       "    --sklearn-color-border-box: var(--sg-text-color, var(--theme-code-foreground, var(--jp-content-font-color1, white)));\n",
       "    --sklearn-color-icon: #878787;\n",
       "  }\n",
       "}\n",
       "\n",
       "#sk-container-id-1 {\n",
       "  color: var(--sklearn-color-text);\n",
       "}\n",
       "\n",
       "#sk-container-id-1 pre {\n",
       "  padding: 0;\n",
       "}\n",
       "\n",
       "#sk-container-id-1 input.sk-hidden--visually {\n",
       "  border: 0;\n",
       "  clip: rect(1px 1px 1px 1px);\n",
       "  clip: rect(1px, 1px, 1px, 1px);\n",
       "  height: 1px;\n",
       "  margin: -1px;\n",
       "  overflow: hidden;\n",
       "  padding: 0;\n",
       "  position: absolute;\n",
       "  width: 1px;\n",
       "}\n",
       "\n",
       "#sk-container-id-1 div.sk-dashed-wrapped {\n",
       "  border: 1px dashed var(--sklearn-color-line);\n",
       "  margin: 0 0.4em 0.5em 0.4em;\n",
       "  box-sizing: border-box;\n",
       "  padding-bottom: 0.4em;\n",
       "  background-color: var(--sklearn-color-background);\n",
       "}\n",
       "\n",
       "#sk-container-id-1 div.sk-container {\n",
       "  /* jupyter's `normalize.less` sets `[hidden] { display: none; }`\n",
       "     but bootstrap.min.css set `[hidden] { display: none !important; }`\n",
       "     so we also need the `!important` here to be able to override the\n",
       "     default hidden behavior on the sphinx rendered scikit-learn.org.\n",
       "     See: https://github.com/scikit-learn/scikit-learn/issues/21755 */\n",
       "  display: inline-block !important;\n",
       "  position: relative;\n",
       "}\n",
       "\n",
       "#sk-container-id-1 div.sk-text-repr-fallback {\n",
       "  display: none;\n",
       "}\n",
       "\n",
       "div.sk-parallel-item,\n",
       "div.sk-serial,\n",
       "div.sk-item {\n",
       "  /* draw centered vertical line to link estimators */\n",
       "  background-image: linear-gradient(var(--sklearn-color-text-on-default-background), var(--sklearn-color-text-on-default-background));\n",
       "  background-size: 2px 100%;\n",
       "  background-repeat: no-repeat;\n",
       "  background-position: center center;\n",
       "}\n",
       "\n",
       "/* Parallel-specific style estimator block */\n",
       "\n",
       "#sk-container-id-1 div.sk-parallel-item::after {\n",
       "  content: \"\";\n",
       "  width: 100%;\n",
       "  border-bottom: 2px solid var(--sklearn-color-text-on-default-background);\n",
       "  flex-grow: 1;\n",
       "}\n",
       "\n",
       "#sk-container-id-1 div.sk-parallel {\n",
       "  display: flex;\n",
       "  align-items: stretch;\n",
       "  justify-content: center;\n",
       "  background-color: var(--sklearn-color-background);\n",
       "  position: relative;\n",
       "}\n",
       "\n",
       "#sk-container-id-1 div.sk-parallel-item {\n",
       "  display: flex;\n",
       "  flex-direction: column;\n",
       "}\n",
       "\n",
       "#sk-container-id-1 div.sk-parallel-item:first-child::after {\n",
       "  align-self: flex-end;\n",
       "  width: 50%;\n",
       "}\n",
       "\n",
       "#sk-container-id-1 div.sk-parallel-item:last-child::after {\n",
       "  align-self: flex-start;\n",
       "  width: 50%;\n",
       "}\n",
       "\n",
       "#sk-container-id-1 div.sk-parallel-item:only-child::after {\n",
       "  width: 0;\n",
       "}\n",
       "\n",
       "/* Serial-specific style estimator block */\n",
       "\n",
       "#sk-container-id-1 div.sk-serial {\n",
       "  display: flex;\n",
       "  flex-direction: column;\n",
       "  align-items: center;\n",
       "  background-color: var(--sklearn-color-background);\n",
       "  padding-right: 1em;\n",
       "  padding-left: 1em;\n",
       "}\n",
       "\n",
       "\n",
       "/* Toggleable style: style used for estimator/Pipeline/ColumnTransformer box that is\n",
       "clickable and can be expanded/collapsed.\n",
       "- Pipeline and ColumnTransformer use this feature and define the default style\n",
       "- Estimators will overwrite some part of the style using the `sk-estimator` class\n",
       "*/\n",
       "\n",
       "/* Pipeline and ColumnTransformer style (default) */\n",
       "\n",
       "#sk-container-id-1 div.sk-toggleable {\n",
       "  /* Default theme specific background. It is overwritten whether we have a\n",
       "  specific estimator or a Pipeline/ColumnTransformer */\n",
       "  background-color: var(--sklearn-color-background);\n",
       "}\n",
       "\n",
       "/* Toggleable label */\n",
       "#sk-container-id-1 label.sk-toggleable__label {\n",
       "  cursor: pointer;\n",
       "  display: flex;\n",
       "  width: 100%;\n",
       "  margin-bottom: 0;\n",
       "  padding: 0.5em;\n",
       "  box-sizing: border-box;\n",
       "  text-align: center;\n",
       "  align-items: start;\n",
       "  justify-content: space-between;\n",
       "  gap: 0.5em;\n",
       "}\n",
       "\n",
       "#sk-container-id-1 label.sk-toggleable__label .caption {\n",
       "  font-size: 0.6rem;\n",
       "  font-weight: lighter;\n",
       "  color: var(--sklearn-color-text-muted);\n",
       "}\n",
       "\n",
       "#sk-container-id-1 label.sk-toggleable__label-arrow:before {\n",
       "  /* Arrow on the left of the label */\n",
       "  content: \"▸\";\n",
       "  float: left;\n",
       "  margin-right: 0.25em;\n",
       "  color: var(--sklearn-color-icon);\n",
       "}\n",
       "\n",
       "#sk-container-id-1 label.sk-toggleable__label-arrow:hover:before {\n",
       "  color: var(--sklearn-color-text);\n",
       "}\n",
       "\n",
       "/* Toggleable content - dropdown */\n",
       "\n",
       "#sk-container-id-1 div.sk-toggleable__content {\n",
       "  max-height: 0;\n",
       "  max-width: 0;\n",
       "  overflow: hidden;\n",
       "  text-align: left;\n",
       "  /* unfitted */\n",
       "  background-color: var(--sklearn-color-unfitted-level-0);\n",
       "}\n",
       "\n",
       "#sk-container-id-1 div.sk-toggleable__content.fitted {\n",
       "  /* fitted */\n",
       "  background-color: var(--sklearn-color-fitted-level-0);\n",
       "}\n",
       "\n",
       "#sk-container-id-1 div.sk-toggleable__content pre {\n",
       "  margin: 0.2em;\n",
       "  border-radius: 0.25em;\n",
       "  color: var(--sklearn-color-text);\n",
       "  /* unfitted */\n",
       "  background-color: var(--sklearn-color-unfitted-level-0);\n",
       "}\n",
       "\n",
       "#sk-container-id-1 div.sk-toggleable__content.fitted pre {\n",
       "  /* unfitted */\n",
       "  background-color: var(--sklearn-color-fitted-level-0);\n",
       "}\n",
       "\n",
       "#sk-container-id-1 input.sk-toggleable__control:checked~div.sk-toggleable__content {\n",
       "  /* Expand drop-down */\n",
       "  max-height: 200px;\n",
       "  max-width: 100%;\n",
       "  overflow: auto;\n",
       "}\n",
       "\n",
       "#sk-container-id-1 input.sk-toggleable__control:checked~label.sk-toggleable__label-arrow:before {\n",
       "  content: \"▾\";\n",
       "}\n",
       "\n",
       "/* Pipeline/ColumnTransformer-specific style */\n",
       "\n",
       "#sk-container-id-1 div.sk-label input.sk-toggleable__control:checked~label.sk-toggleable__label {\n",
       "  color: var(--sklearn-color-text);\n",
       "  background-color: var(--sklearn-color-unfitted-level-2);\n",
       "}\n",
       "\n",
       "#sk-container-id-1 div.sk-label.fitted input.sk-toggleable__control:checked~label.sk-toggleable__label {\n",
       "  background-color: var(--sklearn-color-fitted-level-2);\n",
       "}\n",
       "\n",
       "/* Estimator-specific style */\n",
       "\n",
       "/* Colorize estimator box */\n",
       "#sk-container-id-1 div.sk-estimator input.sk-toggleable__control:checked~label.sk-toggleable__label {\n",
       "  /* unfitted */\n",
       "  background-color: var(--sklearn-color-unfitted-level-2);\n",
       "}\n",
       "\n",
       "#sk-container-id-1 div.sk-estimator.fitted input.sk-toggleable__control:checked~label.sk-toggleable__label {\n",
       "  /* fitted */\n",
       "  background-color: var(--sklearn-color-fitted-level-2);\n",
       "}\n",
       "\n",
       "#sk-container-id-1 div.sk-label label.sk-toggleable__label,\n",
       "#sk-container-id-1 div.sk-label label {\n",
       "  /* The background is the default theme color */\n",
       "  color: var(--sklearn-color-text-on-default-background);\n",
       "}\n",
       "\n",
       "/* On hover, darken the color of the background */\n",
       "#sk-container-id-1 div.sk-label:hover label.sk-toggleable__label {\n",
       "  color: var(--sklearn-color-text);\n",
       "  background-color: var(--sklearn-color-unfitted-level-2);\n",
       "}\n",
       "\n",
       "/* Label box, darken color on hover, fitted */\n",
       "#sk-container-id-1 div.sk-label.fitted:hover label.sk-toggleable__label.fitted {\n",
       "  color: var(--sklearn-color-text);\n",
       "  background-color: var(--sklearn-color-fitted-level-2);\n",
       "}\n",
       "\n",
       "/* Estimator label */\n",
       "\n",
       "#sk-container-id-1 div.sk-label label {\n",
       "  font-family: monospace;\n",
       "  font-weight: bold;\n",
       "  display: inline-block;\n",
       "  line-height: 1.2em;\n",
       "}\n",
       "\n",
       "#sk-container-id-1 div.sk-label-container {\n",
       "  text-align: center;\n",
       "}\n",
       "\n",
       "/* Estimator-specific */\n",
       "#sk-container-id-1 div.sk-estimator {\n",
       "  font-family: monospace;\n",
       "  border: 1px dotted var(--sklearn-color-border-box);\n",
       "  border-radius: 0.25em;\n",
       "  box-sizing: border-box;\n",
       "  margin-bottom: 0.5em;\n",
       "  /* unfitted */\n",
       "  background-color: var(--sklearn-color-unfitted-level-0);\n",
       "}\n",
       "\n",
       "#sk-container-id-1 div.sk-estimator.fitted {\n",
       "  /* fitted */\n",
       "  background-color: var(--sklearn-color-fitted-level-0);\n",
       "}\n",
       "\n",
       "/* on hover */\n",
       "#sk-container-id-1 div.sk-estimator:hover {\n",
       "  /* unfitted */\n",
       "  background-color: var(--sklearn-color-unfitted-level-2);\n",
       "}\n",
       "\n",
       "#sk-container-id-1 div.sk-estimator.fitted:hover {\n",
       "  /* fitted */\n",
       "  background-color: var(--sklearn-color-fitted-level-2);\n",
       "}\n",
       "\n",
       "/* Specification for estimator info (e.g. \"i\" and \"?\") */\n",
       "\n",
       "/* Common style for \"i\" and \"?\" */\n",
       "\n",
       ".sk-estimator-doc-link,\n",
       "a:link.sk-estimator-doc-link,\n",
       "a:visited.sk-estimator-doc-link {\n",
       "  float: right;\n",
       "  font-size: smaller;\n",
       "  line-height: 1em;\n",
       "  font-family: monospace;\n",
       "  background-color: var(--sklearn-color-background);\n",
       "  border-radius: 1em;\n",
       "  height: 1em;\n",
       "  width: 1em;\n",
       "  text-decoration: none !important;\n",
       "  margin-left: 0.5em;\n",
       "  text-align: center;\n",
       "  /* unfitted */\n",
       "  border: var(--sklearn-color-unfitted-level-1) 1pt solid;\n",
       "  color: var(--sklearn-color-unfitted-level-1);\n",
       "}\n",
       "\n",
       ".sk-estimator-doc-link.fitted,\n",
       "a:link.sk-estimator-doc-link.fitted,\n",
       "a:visited.sk-estimator-doc-link.fitted {\n",
       "  /* fitted */\n",
       "  border: var(--sklearn-color-fitted-level-1) 1pt solid;\n",
       "  color: var(--sklearn-color-fitted-level-1);\n",
       "}\n",
       "\n",
       "/* On hover */\n",
       "div.sk-estimator:hover .sk-estimator-doc-link:hover,\n",
       ".sk-estimator-doc-link:hover,\n",
       "div.sk-label-container:hover .sk-estimator-doc-link:hover,\n",
       ".sk-estimator-doc-link:hover {\n",
       "  /* unfitted */\n",
       "  background-color: var(--sklearn-color-unfitted-level-3);\n",
       "  color: var(--sklearn-color-background);\n",
       "  text-decoration: none;\n",
       "}\n",
       "\n",
       "div.sk-estimator.fitted:hover .sk-estimator-doc-link.fitted:hover,\n",
       ".sk-estimator-doc-link.fitted:hover,\n",
       "div.sk-label-container:hover .sk-estimator-doc-link.fitted:hover,\n",
       ".sk-estimator-doc-link.fitted:hover {\n",
       "  /* fitted */\n",
       "  background-color: var(--sklearn-color-fitted-level-3);\n",
       "  color: var(--sklearn-color-background);\n",
       "  text-decoration: none;\n",
       "}\n",
       "\n",
       "/* Span, style for the box shown on hovering the info icon */\n",
       ".sk-estimator-doc-link span {\n",
       "  display: none;\n",
       "  z-index: 9999;\n",
       "  position: relative;\n",
       "  font-weight: normal;\n",
       "  right: .2ex;\n",
       "  padding: .5ex;\n",
       "  margin: .5ex;\n",
       "  width: min-content;\n",
       "  min-width: 20ex;\n",
       "  max-width: 50ex;\n",
       "  color: var(--sklearn-color-text);\n",
       "  box-shadow: 2pt 2pt 4pt #999;\n",
       "  /* unfitted */\n",
       "  background: var(--sklearn-color-unfitted-level-0);\n",
       "  border: .5pt solid var(--sklearn-color-unfitted-level-3);\n",
       "}\n",
       "\n",
       ".sk-estimator-doc-link.fitted span {\n",
       "  /* fitted */\n",
       "  background: var(--sklearn-color-fitted-level-0);\n",
       "  border: var(--sklearn-color-fitted-level-3);\n",
       "}\n",
       "\n",
       ".sk-estimator-doc-link:hover span {\n",
       "  display: block;\n",
       "}\n",
       "\n",
       "/* \"?\"-specific style due to the `<a>` HTML tag */\n",
       "\n",
       "#sk-container-id-1 a.estimator_doc_link {\n",
       "  float: right;\n",
       "  font-size: 1rem;\n",
       "  line-height: 1em;\n",
       "  font-family: monospace;\n",
       "  background-color: var(--sklearn-color-background);\n",
       "  border-radius: 1rem;\n",
       "  height: 1rem;\n",
       "  width: 1rem;\n",
       "  text-decoration: none;\n",
       "  /* unfitted */\n",
       "  color: var(--sklearn-color-unfitted-level-1);\n",
       "  border: var(--sklearn-color-unfitted-level-1) 1pt solid;\n",
       "}\n",
       "\n",
       "#sk-container-id-1 a.estimator_doc_link.fitted {\n",
       "  /* fitted */\n",
       "  border: var(--sklearn-color-fitted-level-1) 1pt solid;\n",
       "  color: var(--sklearn-color-fitted-level-1);\n",
       "}\n",
       "\n",
       "/* On hover */\n",
       "#sk-container-id-1 a.estimator_doc_link:hover {\n",
       "  /* unfitted */\n",
       "  background-color: var(--sklearn-color-unfitted-level-3);\n",
       "  color: var(--sklearn-color-background);\n",
       "  text-decoration: none;\n",
       "}\n",
       "\n",
       "#sk-container-id-1 a.estimator_doc_link.fitted:hover {\n",
       "  /* fitted */\n",
       "  background-color: var(--sklearn-color-fitted-level-3);\n",
       "}\n",
       "</style><div id=\"sk-container-id-1\" class=\"sk-top-container\"><div class=\"sk-text-repr-fallback\"><pre>GridSearchCV(cv=5,\n",
       "             estimator=Pipeline(steps=[(&#x27;randomforestregressor&#x27;,\n",
       "                                        RandomForestRegressor(max_depth=10,\n",
       "                                                              min_samples_split=10,\n",
       "                                                              random_state=47))]),\n",
       "             n_jobs=-1,\n",
       "             param_grid={&#x27;randomforestregressor__max_depth&#x27;: [5, 10, 20],\n",
       "                         &#x27;randomforestregressor__min_samples_leaf&#x27;: [1, 2, 4],\n",
       "                         &#x27;randomforestregressor__min_samples_split&#x27;: [2, 5, 10],\n",
       "                         &#x27;randomforestregressor__n_estimators&#x27;: [100, 200,\n",
       "                                                                 300]})</pre><b>In a Jupyter environment, please rerun this cell to show the HTML representation or trust the notebook. <br />On GitHub, the HTML representation is unable to render, please try loading this page with nbviewer.org.</b></div><div class=\"sk-container\" hidden><div class=\"sk-item sk-dashed-wrapped\"><div class=\"sk-label-container\"><div class=\"sk-label fitted sk-toggleable\"><input class=\"sk-toggleable__control sk-hidden--visually\" id=\"sk-estimator-id-1\" type=\"checkbox\" ><label for=\"sk-estimator-id-1\" class=\"sk-toggleable__label fitted sk-toggleable__label-arrow\"><div><div>GridSearchCV</div></div><div><a class=\"sk-estimator-doc-link fitted\" rel=\"noreferrer\" target=\"_blank\" href=\"https://scikit-learn.org/1.6/modules/generated/sklearn.model_selection.GridSearchCV.html\">?<span>Documentation for GridSearchCV</span></a><span class=\"sk-estimator-doc-link fitted\">i<span>Fitted</span></span></div></label><div class=\"sk-toggleable__content fitted\"><pre>GridSearchCV(cv=5,\n",
       "             estimator=Pipeline(steps=[(&#x27;randomforestregressor&#x27;,\n",
       "                                        RandomForestRegressor(max_depth=10,\n",
       "                                                              min_samples_split=10,\n",
       "                                                              random_state=47))]),\n",
       "             n_jobs=-1,\n",
       "             param_grid={&#x27;randomforestregressor__max_depth&#x27;: [5, 10, 20],\n",
       "                         &#x27;randomforestregressor__min_samples_leaf&#x27;: [1, 2, 4],\n",
       "                         &#x27;randomforestregressor__min_samples_split&#x27;: [2, 5, 10],\n",
       "                         &#x27;randomforestregressor__n_estimators&#x27;: [100, 200,\n",
       "                                                                 300]})</pre></div> </div></div><div class=\"sk-parallel\"><div class=\"sk-parallel-item\"><div class=\"sk-item\"><div class=\"sk-label-container\"><div class=\"sk-label fitted sk-toggleable\"><input class=\"sk-toggleable__control sk-hidden--visually\" id=\"sk-estimator-id-2\" type=\"checkbox\" ><label for=\"sk-estimator-id-2\" class=\"sk-toggleable__label fitted sk-toggleable__label-arrow\"><div><div>best_estimator_: Pipeline</div></div></label><div class=\"sk-toggleable__content fitted\"><pre>Pipeline(steps=[(&#x27;randomforestregressor&#x27;,\n",
       "                 RandomForestRegressor(max_depth=5, min_samples_leaf=4,\n",
       "                                       n_estimators=300, random_state=47))])</pre></div> </div></div><div class=\"sk-serial\"><div class=\"sk-item\"><div class=\"sk-serial\"><div class=\"sk-item\"><div class=\"sk-estimator fitted sk-toggleable\"><input class=\"sk-toggleable__control sk-hidden--visually\" id=\"sk-estimator-id-3\" type=\"checkbox\" ><label for=\"sk-estimator-id-3\" class=\"sk-toggleable__label fitted sk-toggleable__label-arrow\"><div><div>RandomForestRegressor</div></div><div><a class=\"sk-estimator-doc-link fitted\" rel=\"noreferrer\" target=\"_blank\" href=\"https://scikit-learn.org/1.6/modules/generated/sklearn.ensemble.RandomForestRegressor.html\">?<span>Documentation for RandomForestRegressor</span></a></div></label><div class=\"sk-toggleable__content fitted\"><pre>RandomForestRegressor(max_depth=5, min_samples_leaf=4, n_estimators=300,\n",
       "                      random_state=47)</pre></div> </div></div></div></div></div></div></div></div></div></div></div>"
      ],
      "text/plain": [
       "GridSearchCV(cv=5,\n",
       "             estimator=Pipeline(steps=[('randomforestregressor',\n",
       "                                        RandomForestRegressor(max_depth=10,\n",
       "                                                              min_samples_split=10,\n",
       "                                                              random_state=47))]),\n",
       "             n_jobs=-1,\n",
       "             param_grid={'randomforestregressor__max_depth': [5, 10, 20],\n",
       "                         'randomforestregressor__min_samples_leaf': [1, 2, 4],\n",
       "                         'randomforestregressor__min_samples_split': [2, 5, 10],\n",
       "                         'randomforestregressor__n_estimators': [100, 200,\n",
       "                                                                 300]})"
      ]
     },
     "execution_count": 29,
     "metadata": {},
     "output_type": "execute_result"
    }
   ],
   "source": [
    "#Now call the `GridSearchCV`'s `fit()` method with `X_train` and `y_train` as arguments\n",
    "#to actually start the grid search. This may take a minute or two.\n",
    "rf_grid_cv.fit(X_train, y_train)"
   ]
  },
  {
   "cell_type": "code",
   "execution_count": 30,
   "id": "3a45bb6d",
   "metadata": {},
   "outputs": [
    {
     "data": {
      "text/plain": [
       "{'randomforestregressor__max_depth': 5,\n",
       " 'randomforestregressor__min_samples_leaf': 4,\n",
       " 'randomforestregressor__min_samples_split': 2,\n",
       " 'randomforestregressor__n_estimators': 300}"
      ]
     },
     "execution_count": 30,
     "metadata": {},
     "output_type": "execute_result"
    }
   ],
   "source": [
    "#Print the best params (`best_params_` attribute) from the grid search\n",
    "rf_grid_cv.best_params_"
   ]
  },
  {
   "cell_type": "code",
   "execution_count": 31,
   "id": "c5e7ef70",
   "metadata": {},
   "outputs": [
    {
     "data": {
      "text/plain": [
       "array([-0.01318844, -0.02416851, -0.03265673, -0.04926689, -0.04701904])"
      ]
     },
     "execution_count": 31,
     "metadata": {},
     "output_type": "execute_result"
    }
   ],
   "source": [
    "rf_best_cv_results = cross_validate(rf_grid_cv.best_estimator_, X_train, y_train, cv=5)\n",
    "rf_best_scores = rf_best_cv_results['test_score']\n",
    "rf_best_scores"
   ]
  },
  {
   "cell_type": "code",
   "execution_count": 32,
   "id": "5d366938",
   "metadata": {},
   "outputs": [
    {
     "data": {
      "text/plain": [
       "(-0.033259922590103706, 0.013648578167567788)"
      ]
     },
     "execution_count": 32,
     "metadata": {},
     "output_type": "execute_result"
    }
   ],
   "source": [
    "np.mean(rf_best_scores), np.std(rf_best_scores)"
   ]
  },
  {
   "cell_type": "markdown",
   "id": "4ab7b05e",
   "metadata": {},
   "source": [
    "There is a slight improvement in performance after performing a hyperparameter tuning as compared to has been seen from the default CV results."
   ]
  },
  {
   "cell_type": "code",
   "execution_count": 33,
   "id": "76e466dd",
   "metadata": {},
   "outputs": [
    {
     "data": {
      "image/png": "[encoded data removed]",
      "text/plain": [
       "<Figure size 1000x600 with 1 Axes>"
      ]
     },
     "metadata": {},
     "output_type": "display_data"
    }
   ],
   "source": [
    "#Plot a barplot of the random forest's feature importances,\n",
    "#assigning the `feature_importances_` attribute of \n",
    "#`rf_grid_cv.best_estimator_.named_steps.randomforestregressor` to the name `imps` to then\n",
    "#create a pandas Series object of the feature importances, with the index given by the\n",
    "#training data column names, sorting the values in descending order\n",
    "plt.subplots(figsize=(10, 6))\n",
    "imps = rf_grid_cv.best_estimator_.named_steps.randomforestregressor.feature_importances_\n",
    "rf_feat_imps = pd.Series(imps, index=X_train.columns).sort_values(ascending=False)\n",
    "rf_feat_imps.plot(kind='bar')\n",
    "plt.xlabel('features')\n",
    "plt.ylabel('importance')\n",
    "plt.title('Best random forest regressor feature importances');"
   ]
  },
  {
   "cell_type": "code",
   "execution_count": 34,
   "id": "294293ac",
   "metadata": {},
   "outputs": [
    {
     "name": "stdout",
     "output_type": "stream",
     "text": [
      "Size_encoded            0.191598\n",
      "Color_encoded           0.171933\n",
      "Category_encoded        0.142257\n",
      "Brand_encoded           0.140161\n",
      "User ID_encoded         0.128346\n",
      "Product Name_encoded    0.127769\n",
      "Price                   0.097935\n",
      "dtype: float64\n"
     ]
    },
    {
     "data": {
      "image/png": "[encoded data removed]",
      "text/plain": [
       "<Figure size 640x480 with 1 Axes>"
      ]
     },
     "metadata": {},
     "output_type": "display_data"
    }
   ],
   "source": [
    "# Get the top N important features (e.g., top 3)\n",
    "top_n = 20\n",
    "top_features = rf_feat_imps.head(top_n)\n",
    "\n",
    "# Print top N features\n",
    "print(top_features)\n",
    "\n",
    "top_features.plot(kind='bar')\n",
    "plt.xticks(rotation=75)\n",
    "plt.xlabel('features')\n",
    "plt.ylabel('importance')\n",
    "plt.title('Best random forest regressor feature importances');"
   ]
  },
  {
   "cell_type": "code",
   "execution_count": 35,
   "id": "b2e382ae",
   "metadata": {},
   "outputs": [
    {
     "data": {
      "image/png": "[encoded data removed]",
      "text/plain": [
       "<Figure size 800x600 with 2 Axes>"
      ]
     },
     "metadata": {},
     "output_type": "display_data"
    }
   ],
   "source": [
    "import seaborn as sns\n",
    "import matplotlib.pyplot as plt\n",
    "\n",
    "# Pearson correlation matrix\n",
    "corr_matrix = df_new.corr(method='pearson')\n",
    "\n",
    "# Plotting the correlation matrix using seaborn heatmap\n",
    "plt.figure(figsize=(8, 6))\n",
    "sns.heatmap(corr_matrix, annot=True, cmap='coolwarm', fmt='.2f', linewidths=0.5)\n",
    "plt.title('Feature Correlation Matrix')\n",
    "plt.show()"
   ]
  },
  {
   "cell_type": "code",
   "execution_count": 36,
   "id": "354ba043",
   "metadata": {},
   "outputs": [
    {
     "name": "stdout",
     "output_type": "stream",
     "text": [
      "[3.08140161 3.06861002 2.76354643 2.74971369 2.92868329 3.00395671\n",
      " 3.23226531 3.02947403 3.02789354 3.12729512 3.00160873 3.04566636\n",
      " 3.16639864 2.71218828 3.09599704 2.91805872 2.65957946 3.00712923\n",
      " 3.05246608 3.16027782 2.52602286 3.02179605 2.97616873 3.14982569\n",
      " 3.14927012 3.03663825 2.74420782 3.01555918 2.97372529 2.70804992\n",
      " 2.97380799 3.04590678 3.17879984 3.05772757 3.20331478 2.81195501\n",
      " 3.04969023 2.61643413 3.08385351 3.05755763 2.81646634 2.94638581\n",
      " 2.91753031 3.14306457 2.99066933 3.16219055 2.94473161 3.34016106\n",
      " 2.49423721 2.91273641 3.00044096 3.00909551 3.10468227 2.94222223\n",
      " 2.61904394 3.14217256 2.87422958 3.08514704 2.94325776 3.24273916\n",
      " 3.29145923 3.03013383 3.11634086 3.04306621 3.14526147 3.16915696\n",
      " 3.123396   3.08184509 3.01585066 2.74609423 2.65457822 3.27829034\n",
      " 2.99108482 3.10177743 3.39244894 2.93526808 2.95153509 3.12286825\n",
      " 2.96089894 2.49164432 2.49593977 2.96514567 3.10334056 3.14312518\n",
      " 2.67070285 3.00551198 3.17148599 3.04643937 3.15839672 3.07003921\n",
      " 3.11163593 2.89082366 2.58640168 3.09213343 3.20205613 3.01047222\n",
      " 3.11661963 3.01174042 3.09306069 2.52570544 2.97801001 2.99314693\n",
      " 3.02324864 2.67457297 3.08252908 2.88123615 3.00407583 3.21336703\n",
      " 3.00190553 3.06567802 2.92789226 3.11381884 3.03565136 3.32627844\n",
      " 3.13982728 2.85581979 3.02688983 3.19782312 3.22057589 3.02589052\n",
      " 3.19713379 3.13989997 3.13197939 3.0550038  3.04550261 2.96493977\n",
      " 2.6593885  2.81606858 2.61328583 3.11707491 2.77297175 3.06131256\n",
      " 3.07188352 3.00463921 3.19925863 3.05777431 3.06001048 3.00455266\n",
      " 3.45297004 2.8559617  3.21436041 2.95765222 3.08814188 3.0591388\n",
      " 2.97344624 2.8988546  3.01634591 2.92546103 2.92469619 2.72688347\n",
      " 3.07524516 2.20959652 3.03923011 3.11381348 3.02183456 2.86681256\n",
      " 3.08649219 3.06313915 2.80962747 3.1120359  2.87912165 3.10759109\n",
      " 3.02946342 2.97324982 2.57621388 2.96667661 2.80750101 2.83524424\n",
      " 2.90480585 3.16001416 2.73561022 2.89273199 2.93274633 3.12102501\n",
      " 2.81944805 3.04487791 3.04565642 2.96048088 2.98544951 3.17951334\n",
      " 2.95661201 2.90675455 2.83343628 2.47266219 3.12332158 3.10896296\n",
      " 3.04461512 3.12216428 2.23855634 2.94792317 3.14365109 3.16518912\n",
      " 3.21441531 3.09958873 3.21165811 2.95336576 3.02430711 3.08948202\n",
      " 3.07731318 3.02429892 2.98716539 3.03233885 2.98332933 3.13495518\n",
      " 3.02146345 3.00403247 2.90918422 2.78308914 3.10005512 3.00399617\n",
      " 2.62206651 2.99008881 2.94622842 2.95571024 3.05701554 2.67295839\n",
      " 2.98885159 2.83127982 2.95141674 2.97890381 3.08308026 2.95914402\n",
      " 3.03919289 2.74520419 3.17230799 2.89267724 3.15011234 2.96481075\n",
      " 3.03155425 2.99136671 2.94138079 2.99191396 3.0404863  2.96178219\n",
      " 3.0047491  3.16770345 3.11518241 3.09400368 2.65850339 3.22897818\n",
      " 3.10021854 3.14041686 2.63545353 2.58434399 2.91901246 3.04914157\n",
      " 3.00735453 3.08650082 3.03055932 3.06547061 3.01931597 2.61564791\n",
      " 2.95745494 3.02023508 3.11469397 3.22572968 2.98140448 2.9316726\n",
      " 3.12704065 2.83778594 3.06068084 3.16084699 3.00356424 3.03202253\n",
      " 3.0467031  2.96023835 3.0354022  3.01632479 3.01689982 2.83063879\n",
      " 2.85852929 2.97516959 2.84089513 3.06560243 2.84206516 2.85169627\n",
      " 3.24020621 3.14092213 2.89937926 3.04449956 2.95462156 3.20173447\n",
      " 2.9897163  3.03221221 3.14842106 3.0219698  2.5776059  2.99926764\n",
      " 2.90162392 3.18212962 3.0839757  3.00949562 2.63084309 3.10957566\n",
      " 2.89760699 3.0866005  3.16217351 2.56888002 3.14870604 2.94132109]\n"
     ]
    }
   ],
   "source": [
    "# Predict on the test set\n",
    "y_pred = rf_grid_cv.predict(X_test)\n",
    "\n",
    "# Display predicted ratings\n",
    "print(y_pred)"
   ]
  },
  {
   "cell_type": "code",
   "execution_count": 37,
   "id": "ad01c160",
   "metadata": {},
   "outputs": [
    {
     "name": "stdout",
     "output_type": "stream",
     "text": [
      "Mean Squared Error: 1.26\n",
      "Mean Absolute Error: 0.96\n",
      "RMSE: 1.1238751183602806\n",
      "R-squared: 0.02\n"
     ]
    }
   ],
   "source": [
    "from sklearn.metrics import r2_score\n",
    "from sklearn.metrics import mean_squared_error\n",
    "\n",
    "# Evaluate the model's performance\n",
    "mse = mean_squared_error(y_test, y_pred)\n",
    "mae = mean_absolute_error(y_test, y_pred)\n",
    "r2 = r2_score(y_test, y_pred)\n",
    "rmse = np.sqrt(mse)\n",
    "\n",
    "print(f\"Mean Squared Error: {mse:.2f}\")\n",
    "print(f\"Mean Absolute Error: {mae:.2f}\")\n",
    "print(f\"RMSE: {rmse}\")\n",
    "print(f\"R-squared: {r2:.2f}\")\n"
   ]
  },
  {
   "cell_type": "markdown",
   "id": "476b208a",
   "metadata": {},
   "source": [
    "This is an issue, R square still not significant."
   ]
  },
  {
   "cell_type": "code",
   "execution_count": 38,
   "id": "745c2460",
   "metadata": {},
   "outputs": [
    {
     "name": "stdout",
     "output_type": "stream",
     "text": [
      "Adjusted R-squared:  2.2616327943758563e-05\n"
     ]
    }
   ],
   "source": [
    "# Calculate Adjusted R-squared\n",
    "n = X_test.shape[0]\n",
    "k = X_test.shape[1]\n",
    "adjusted_r_squared = 1 - ((1 - r2) * (n - 1)) / (n - k - 1)\n",
    "print(\"Adjusted R-squared: \", adjusted_r_squared)"
   ]
  },
  {
   "cell_type": "code",
   "execution_count": 39,
   "id": "8c0fb820",
   "metadata": {},
   "outputs": [
    {
     "data": {
      "image/png": "[encoded data removed]",
      "text/plain": [
       "<Figure size 800x600 with 1 Axes>"
      ]
     },
     "metadata": {},
     "output_type": "display_data"
    }
   ],
   "source": [
    "# Plot predicted vs actual ratings\n",
    "plt.figure(figsize=(8, 6))\n",
    "plt.scatter(y_test, y_pred, alpha=0.5)\n",
    "plt.title(\"Predicted vs Actual Ratings\")\n",
    "plt.xlabel(\"Actual Ratings\")\n",
    "plt.ylabel(\"Predicted Ratings\")\n",
    "plt.show()"
   ]
  },
  {
   "cell_type": "markdown",
   "id": "73942a0d",
   "metadata": {},
   "source": [
    "# Analyzing Predicted Ratings Distribution"
   ]
  },
  {
   "cell_type": "code",
   "execution_count": 40,
   "id": "71b83585",
   "metadata": {
    "scrolled": true
   },
   "outputs": [
    {
     "data": {
      "image/png": "[encoded data removed]",
      "text/plain": [
       "<Figure size 640x480 with 1 Axes>"
      ]
     },
     "metadata": {},
     "output_type": "display_data"
    }
   ],
   "source": [
    "import matplotlib.pyplot as plt\n",
    "\n",
    "# Simulate predicted ratings for users\n",
    "predicted_ratings = y_pred\n",
    "\n",
    "# Plot histogram of predicted ratings\n",
    "plt.hist(predicted_ratings, bins=5, edgecolor='black')\n",
    "plt.title(\"Distribution of Predicted Ratings\")\n",
    "plt.xlabel(\"Predicted Rating\")\n",
    "plt.ylabel(\"Frequency\")\n",
    "plt.show()"
   ]
  },
  {
   "cell_type": "markdown",
   "id": "3cea7f43",
   "metadata": {},
   "source": [
    "This mentions 3.0 is the most common rating and 2.5 comes second."
   ]
  },
  {
   "cell_type": "markdown",
   "id": "8c10705a",
   "metadata": {},
   "source": [
    "# Method 2 - XG BOOST MODEL"
   ]
  },
  {
   "cell_type": "markdown",
   "id": "6b6d3c5a",
   "metadata": {},
   "source": [
    "# Initialize, Build and Train the XGBoost Model"
   ]
  },
  {
   "cell_type": "code",
   "execution_count": 41,
   "id": "a669535c",
   "metadata": {},
   "outputs": [],
   "source": [
    "import xgboost as xgb\n",
    "from sklearn.metrics import mean_squared_error\n",
    "import numpy as np\n",
    "\n",
    "# Initialize the XGBoost Regressor\n",
    "xgb_model = xgb.XGBRegressor(objective='reg:squarederror', \n",
    "                             n_estimators=100, \n",
    "                             max_depth=6, \n",
    "                             learning_rate=0.1, \n",
    "                             random_state=42)\n",
    "\n",
    "# Train the model on the training data\n",
    "xgb_model.fit(X_train, y_train)\n",
    "\n",
    "# Make predictions on the test data\n",
    "y_pred = xgb_model.predict(X_test)"
   ]
  },
  {
   "cell_type": "markdown",
   "id": "8ff09b50",
   "metadata": {},
   "source": [
    "# Assess performance using RMSE, MAE, MSE"
   ]
  },
  {
   "cell_type": "code",
   "execution_count": 42,
   "id": "8fc47391",
   "metadata": {},
   "outputs": [
    {
     "name": "stdout",
     "output_type": "stream",
     "text": [
      "Mean Absolute Error (MAE): 1.0329790178006157\n",
      "R-squared: -0.16502047027998668\n",
      "RMSE: 1.227535085843371\n",
      "Mean Squared Error: 1.506842386976492\n"
     ]
    }
   ],
   "source": [
    "# Evaluate the model's performance\n",
    "mae = mean_absolute_error(y_test, y_pred)\n",
    "r2 = r2_score(y_test, y_pred)\n",
    "rmse = np.sqrt(mean_squared_error(y_test, y_pred))\n",
    "mse = mean_squared_error(y_test, y_pred)\n",
    "\n",
    "print(f\"Mean Absolute Error (MAE): {mae}\")\n",
    "print(f\"R-squared: {r2}\")\n",
    "print(f\"RMSE: {rmse}\")\n",
    "print(f'Mean Squared Error: {mse}')\n"
   ]
  },
  {
   "cell_type": "code",
   "execution_count": 43,
   "id": "6d09ae89",
   "metadata": {},
   "outputs": [
    {
     "name": "stdout",
     "output_type": "stream",
     "text": [
      "Adjusted R-squared:  -0.1929490431976577\n"
     ]
    }
   ],
   "source": [
    "# Calculate Adjusted R-squared\n",
    "n = X_test.shape[0]\n",
    "k = X_test.shape[1]\n",
    "adjusted_r_squared = 1 - ((1 - r2) * (n - 1)) / (n - k - 1)\n",
    "print(\"Adjusted R-squared: \", adjusted_r_squared)"
   ]
  },
  {
   "cell_type": "code",
   "execution_count": 44,
   "id": "0f9e192e",
   "metadata": {},
   "outputs": [
    {
     "data": {
      "image/png": "[encoded data removed]",
      "text/plain": [
       "<Figure size 640x480 with 1 Axes>"
      ]
     },
     "metadata": {},
     "output_type": "display_data"
    }
   ],
   "source": [
    "# Plot feature importance\n",
    "xgb.plot_importance(xgb_model, importance_type='weight', max_num_features=10, height=0.5)\n",
    "plt.title('Feature Importance')\n",
    "plt.show()"
   ]
  },
  {
   "cell_type": "markdown",
   "id": "35d44672",
   "metadata": {},
   "source": [
    "# Hyperparameter search using GridSearchCV"
   ]
  },
  {
   "cell_type": "code",
   "execution_count": 45,
   "id": "fc9e0e04",
   "metadata": {},
   "outputs": [
    {
     "name": "stdout",
     "output_type": "stream",
     "text": [
      "Fitting 3 folds for each of 729 candidates, totalling 2187 fits\n",
      "Best Parameters: {'colsample_bytree': 0.8, 'gamma': 0.1, 'learning_rate': 0.01, 'max_depth': 20, 'n_estimators': 100, 'subsample': 0.9}\n",
      "Best Score (Negative MSE): -1.3604735212026038\n"
     ]
    }
   ],
   "source": [
    "from sklearn.model_selection import GridSearchCV\n",
    "from xgboost import XGBRegressor\n",
    "\n",
    "# Define the parameter grid\n",
    "param_grid = {\n",
    "    'n_estimators': [100, 200, 300],\n",
    "    'max_depth': [5, 10, 20],\n",
    "    'learning_rate': [0.01, 0.1, 0.2],\n",
    "    'subsample': [0.8, 0.9, 1.0],\n",
    "    'colsample_bytree': [0.7, 0.8, 1.0],\n",
    "    'gamma': [0, 0.1, 0.2]\n",
    "}\n",
    "\n",
    "# Create an instance of XGBRegressor\n",
    "xgb_regressor = XGBRegressor(objective='reg:squarederror')\n",
    "\n",
    "# Perform grid search with cross-validation\n",
    "grid_search = GridSearchCV(estimator=xgb_regressor, param_grid=param_grid, \n",
    "                           scoring='neg_mean_squared_error', cv=3, verbose=1, n_jobs=-1)\n",
    "\n",
    "# Fit the grid search\n",
    "grid_search.fit(X_train, y_train)\n",
    "\n",
    "# Get the best parameters and best score\n",
    "print(\"Best Parameters:\", grid_search.best_params_)\n",
    "print(\"Best Score (Negative MSE):\", grid_search.best_score_)\n",
    "\n",
    "# Use the best model to predict\n",
    "best_model = grid_search.best_estimator_\n",
    "y_pred = best_model.predict(X_test)"
   ]
  },
  {
   "cell_type": "markdown",
   "id": "a1898b76",
   "metadata": {},
   "source": [
    "# Method 3 - CATBOOST MODEL"
   ]
  },
  {
   "cell_type": "markdown",
   "id": "2154ebfa",
   "metadata": {},
   "source": [
    "Here we are predicting predicting a target like ratings (a continuous variable) based on a variety of features (both numerical and categorical) features such as Price (numerical), Product Name, User ID, Category, Size, Color, Brand (categorical)."
   ]
  },
  {
   "cell_type": "code",
   "execution_count": 46,
   "id": "8574d742",
   "metadata": {},
   "outputs": [
    {
     "data": {
      "text/plain": [
       "array([2.37168022, 2.993138  , 2.48112511, 2.78079818, 2.86218891,\n",
       "       2.88810287, 3.23165111, 2.64199968, 3.17153714, 3.10103874,\n",
       "       3.13576469, 3.07149751, 2.95768237, 2.99829986, 3.07637331,\n",
       "       2.87180567, 3.54787058, 2.74008569, 2.91352537, 3.34571623,\n",
       "       2.49206342, 3.09539734, 2.94552616, 2.82905337, 2.64933845,\n",
       "       3.10185735, 3.10584721, 2.79162604, 3.38022725, 2.98859502,\n",
       "       3.22925738, 2.6371655 , 2.50964264, 2.82885241, 2.89760411,\n",
       "       2.82918265, 3.0988609 , 2.52063324, 3.09779657, 3.46659478,\n",
       "       2.97894855, 3.25204528, 2.82312029, 2.57754704, 2.63022121,\n",
       "       3.1211588 , 3.39294548, 3.22189733, 2.60287435, 2.90950714,\n",
       "       2.86996267, 3.08280054, 3.37946937, 2.80206296, 3.54810418,\n",
       "       2.97378403, 3.24527552, 2.88873356, 3.0889327 , 2.68691523,\n",
       "       2.87709957, 2.89448717, 2.69984134, 2.78814849, 2.89684889,\n",
       "       3.28993102, 3.39897476, 3.06574351, 3.34774427, 2.94996779,\n",
       "       3.00371771, 2.63582131, 2.60452793, 3.29709266, 3.25630699,\n",
       "       3.17636407, 3.13919483, 2.61040548, 3.17633948, 2.95519837,\n",
       "       3.4743543 , 2.97622526, 2.6549553 , 3.29525891, 3.17683793,\n",
       "       2.90054847, 2.98770546, 3.24587832, 2.91515136, 2.66263356,\n",
       "       3.50319535, 2.84267979, 3.43527338, 3.40594307, 3.20362424,\n",
       "       3.12521291, 3.0727239 , 2.78748525, 3.26402657, 2.96215309,\n",
       "       3.03651869, 3.33184919, 2.88051069, 3.05354705, 2.88536893,\n",
       "       3.08423822, 2.94090999, 2.80519633, 3.00076718, 3.00662452,\n",
       "       2.81254829, 2.99508315, 3.43865198, 3.12830521, 2.68624645,\n",
       "       2.8708576 , 2.78638426, 2.83270296, 2.9423186 , 2.77019852,\n",
       "       3.21436055, 3.29855035, 2.75954573, 2.47562977, 2.93139302,\n",
       "       3.30725808, 2.97748081, 2.82082053, 2.80379391, 2.88558817,\n",
       "       2.88589853, 2.93746126, 2.94125384, 2.77197171, 3.03286768,\n",
       "       3.37247761, 3.05457057, 3.06464907, 2.91731275, 2.96029969,\n",
       "       3.15291529, 2.77955022, 2.82274658, 2.8211544 , 3.08030499,\n",
       "       2.82157678, 2.87647244, 2.93783533, 3.4144868 , 3.17958885,\n",
       "       2.70189916, 3.049483  , 2.81179442, 3.09169647, 2.7923113 ,\n",
       "       2.82695492, 3.20533397, 3.08726182, 2.8975453 , 2.69742183,\n",
       "       2.96003216, 2.76203776, 2.91666416, 2.82547039, 3.1092457 ,\n",
       "       2.82273272, 3.03466959, 2.80671356, 3.02428989, 2.66164688,\n",
       "       3.28164485, 3.19510714, 2.85743328, 3.04336292, 2.54596161,\n",
       "       2.84312154, 3.24656967, 3.3868499 , 2.87958021, 3.50748561,\n",
       "       3.36057824, 3.09433302, 3.22255723, 3.01969255, 3.09863111,\n",
       "       3.4079742 , 2.72497261, 2.95629627, 2.63714144, 3.08149755,\n",
       "       2.9453212 , 2.83268547, 3.16298296, 3.00152016, 2.98584131,\n",
       "       2.98293668, 2.67359008, 3.11015272, 2.86977106, 3.10795963,\n",
       "       2.80476924, 3.21089992, 3.26454224, 3.26530289, 3.14298216,\n",
       "       2.95954211, 2.78087883, 3.12840006, 2.95412762, 2.93788541,\n",
       "       2.93946988, 2.8411792 , 2.87959322, 2.91217495, 3.13640217,\n",
       "       2.98988716, 2.73018193, 3.11124224, 2.44938457, 3.03190678,\n",
       "       3.22501764, 3.13110649, 2.98228633, 2.59930132, 2.79517426,\n",
       "       2.92227191, 2.68490872, 3.22289574, 3.11096293, 3.03030089,\n",
       "       3.63091568, 2.90167165, 2.94681033, 2.99099318, 3.28193965,\n",
       "       2.73085233, 2.67496118, 3.01422897, 3.37184195, 2.70880545,\n",
       "       2.71964822, 2.95109112, 3.11904881, 2.8734398 , 2.93129456,\n",
       "       2.58456889, 2.75992922, 2.56637403, 3.18147984, 3.21229803,\n",
       "       2.79025372, 3.39647145, 2.84696673, 2.89741005, 2.63622773,\n",
       "       3.67273   , 2.83972509, 2.72871659, 3.36773231, 2.77898212,\n",
       "       2.67816431, 2.88387731, 3.115344  , 3.0449009 , 3.17503429,\n",
       "       3.10835805, 3.10522378, 2.8499316 , 2.67990731, 2.90227601,\n",
       "       2.4843717 , 3.00300426, 2.40518701, 3.02682039, 3.04328001,\n",
       "       2.94092755, 3.1138861 , 2.90866937, 2.87940293, 3.12597221,\n",
       "       2.79156095, 3.21093633, 2.72973907, 3.32702042, 3.23437059,\n",
       "       2.69638219, 3.23664494, 3.02045072, 2.88323514, 3.27428485,\n",
       "       3.07404292, 2.88420126, 2.57680734, 2.92309607, 3.16566899,\n",
       "       3.39405249, 3.45110769, 3.36441221, 2.87433733, 2.45696466])"
      ]
     },
     "execution_count": 46,
     "metadata": {},
     "output_type": "execute_result"
    }
   ],
   "source": [
    "import pandas as pd\n",
    "from catboost import CatBoostRegressor\n",
    "from sklearn.model_selection import train_test_split\n",
    "from sklearn.metrics import mean_squared_error\n",
    "\n",
    "# Define target and features\n",
    "X = df.drop(columns=['Rating'])\n",
    "y = df['Rating']\n",
    "\n",
    "# Categorical features\n",
    "categorical_features = ['User ID', 'Product Name', 'Brand', 'Category', 'Color', 'Size']\n",
    "\n",
    "\n",
    "# Train-test split\n",
    "X_train, X_test, y_train, y_test = train_test_split(X, y, test_size=0.3, random_state=42)\n",
    "\n",
    "# Create CatBoost model\n",
    "model_cat = CatBoostRegressor(\n",
    "    iterations=1000,        # Number of boosting rounds\n",
    "    depth=10,               # Depth of trees\n",
    "    learning_rate=0.1,      # Learning rate,   # Loss function for regression,  # Specify which features are categorical\n",
    "    loss_function='RMSE',   # Loss function for regression\n",
    "    cat_features=categorical_features,  # Specify which features are categorical\n",
    "    verbose=False             # Output every 200 iterations\n",
    ")\n",
    "\n",
    "# Train the model\n",
    "model_cat.fit(X_train, y_train)\n",
    "\n",
    "# Make predictions\n",
    "y_pred_cat = model_cat.predict(X_test)\n",
    "\n",
    "y_pred_cat"
   ]
  },
  {
   "cell_type": "code",
   "execution_count": 47,
   "id": "117618cc",
   "metadata": {},
   "outputs": [
    {
     "name": "stdout",
     "output_type": "stream",
     "text": [
      "['User ID', 'Product Name', 'Brand', 'Category', 'Price', 'Rating', 'Color', 'Size']\n"
     ]
    }
   ],
   "source": [
    "print(df.columns.tolist())"
   ]
  },
  {
   "cell_type": "code",
   "execution_count": 48,
   "id": "90a47842",
   "metadata": {},
   "outputs": [
    {
     "name": "stdout",
     "output_type": "stream",
     "text": [
      "Root Mean Squared Error (RMSE): 1.4909523425892044\n"
     ]
    }
   ],
   "source": [
    "# Evaluate performance (RMSE)\n",
    "rmse = mean_squared_error(y_test, y_pred_cat)\n",
    "print(f\"Root Mean Squared Error (RMSE): {rmse}\")"
   ]
  },
  {
   "cell_type": "code",
   "execution_count": 49,
   "id": "76440f61",
   "metadata": {},
   "outputs": [
    {
     "name": "stdout",
     "output_type": "stream",
     "text": [
      "R-squared: -0.04836836008756107\n"
     ]
    }
   ],
   "source": [
    "from sklearn.metrics import r2_score\n",
    "r2 = r2_score(y_test, y_pred_cat)\n",
    "print(f\"R-squared: {r2}\")"
   ]
  },
  {
   "cell_type": "markdown",
   "id": "6925bc98",
   "metadata": {},
   "source": [
    "This seems like a reasonable RMSE, even though R-square is not that significant but RMSE is pretty reasonable."
   ]
  },
  {
   "cell_type": "code",
   "execution_count": 50,
   "id": "3ebb4ee0",
   "metadata": {},
   "outputs": [
    {
     "name": "stdout",
     "output_type": "stream",
     "text": [
      "Mean Absolute Error (MAE): 1.0615611138272387\n",
      "R-squared: -0.052146605745354346\n",
      "RMSE: 1.2210455939845999\n",
      "Mean Squared Error: 1.4909523425892044\n"
     ]
    }
   ],
   "source": [
    "# Evaluate the model's performance\n",
    "mae = mean_absolute_error(y_test, y_pred_cat)\n",
    "r2 = r2_score(y_test, y_pred)\n",
    "rmse = np.sqrt(mean_squared_error(y_test, y_pred_cat))\n",
    "mse = mean_squared_error(y_test, y_pred_cat)\n",
    "\n",
    "print(f\"Mean Absolute Error (MAE): {mae}\")\n",
    "print(f\"R-squared: {r2}\")\n",
    "print(f\"RMSE: {rmse}\")\n",
    "print(f'Mean Squared Error: {mse}')"
   ]
  },
  {
   "cell_type": "code",
   "execution_count": 51,
   "id": "8c9769d4",
   "metadata": {},
   "outputs": [
    {
     "name": "stdout",
     "output_type": "stream",
     "text": [
      "Adjusted R-squared:  -0.07736929834883899\n"
     ]
    }
   ],
   "source": [
    "# Calculate Adjusted R-squared\n",
    "n = X_test.shape[0]\n",
    "k = X_test.shape[1]\n",
    "adjusted_r_squared = 1 - ((1 - r2) * (n - 1)) / (n - k - 1)\n",
    "print(\"Adjusted R-squared: \", adjusted_r_squared)"
   ]
  },
  {
   "cell_type": "code",
   "execution_count": 52,
   "id": "1cde225c",
   "metadata": {},
   "outputs": [
    {
     "name": "stdout",
     "output_type": "stream",
     "text": [
      "        Feature  Importance\n",
      "5         Color   18.399562\n",
      "1  Product Name   16.923244\n",
      "3      Category   15.257306\n",
      "2         Brand   14.312512\n",
      "0       User ID   14.266673\n",
      "6          Size   13.436505\n",
      "4         Price    7.404198\n"
     ]
    }
   ],
   "source": [
    "# Get feature importance\n",
    "feature_importance = model_cat.get_feature_importance()\n",
    "\n",
    "# Create a DataFrame for easy visualization\n",
    "importance_df = pd.DataFrame({\n",
    "    'Feature': X_train.columns,\n",
    "    'Importance': feature_importance\n",
    "})\n",
    "\n",
    "# Sort features by importance\n",
    "importance_df = importance_df.sort_values(by='Importance', ascending=False)\n",
    "\n",
    "# Print the feature importance\n",
    "print(importance_df)\n"
   ]
  },
  {
   "cell_type": "markdown",
   "id": "ecc42432",
   "metadata": {},
   "source": [
    "# Visualize Feature Importance"
   ]
  },
  {
   "cell_type": "code",
   "execution_count": 53,
   "id": "09566be8",
   "metadata": {},
   "outputs": [
    {
     "data": {
      "image/png": "[encoded data removed]",
      "text/plain": [
       "<Figure size 1000x600 with 1 Axes>"
      ]
     },
     "metadata": {},
     "output_type": "display_data"
    }
   ],
   "source": [
    "# Plot feature importance\n",
    "plt.figure(figsize=(10, 6))\n",
    "plt.barh(importance_df['Feature'], importance_df['Importance'])\n",
    "plt.xlabel('Feature Importance')\n",
    "plt.title('CatBoost Feature Importance')\n",
    "plt.gca().invert_yaxis()  # To display the most important feature at the top\n",
    "plt.show()"
   ]
  },
  {
   "cell_type": "markdown",
   "id": "ade99a7e",
   "metadata": {},
   "source": [
    "# Hyperparameter search using GridSearchCV"
   ]
  },
  {
   "cell_type": "code",
   "execution_count": 54,
   "id": "145a352a",
   "metadata": {},
   "outputs": [
    {
     "name": "stdout",
     "output_type": "stream",
     "text": [
      "Best Hyperparameters: {'bagging_temperature': 0.0, 'depth': 8, 'iterations': 500, 'l2_leaf_reg': 5, 'learning_rate': 0.01, 'od_wait': 300}\n",
      "Best RMSE: 0.02003061763462246\n"
     ]
    }
   ],
   "source": [
    "# Define the hyperparameter grid\n",
    "param_grid = {\n",
    "    'iterations': [500, 1000, 1500],\n",
    "    'learning_rate': [0.01, 0.05, 0.1],\n",
    "    'depth': [6, 8, 10],\n",
    "    'l2_leaf_reg': [1, 3, 5],\n",
    "    'bagging_temperature': [0.0, 0.5, 1.0],\n",
    "    'od_wait': [300],\n",
    "}\n",
    "\n",
    "# Grid search\n",
    "grid_search_cat = GridSearchCV(estimator=model_cat, param_grid=param_grid, cv=5, n_jobs=-1, verbose=False)\n",
    "grid_search_cat.fit(X_train, y_train)\n",
    "\n",
    "# Get the best parameters and best score (RMSE)\n",
    "best_params = grid_search_cat.best_params_\n",
    "best_rmse = -grid_search_cat.best_score_  # Negate because scoring is negative RMSE\n",
    "print(f\"Best Hyperparameters: {best_params}\")\n",
    "print(f\"Best RMSE: {best_rmse}\")"
   ]
  },
  {
   "cell_type": "code",
   "execution_count": 55,
   "id": "189aa387",
   "metadata": {},
   "outputs": [
    {
     "data": {
      "text/plain": [
       "array([2.82197897, 3.01197375, 3.03015417, 2.97130057, 2.9754019 ,\n",
       "       3.00601856, 3.08077349, 2.91164855, 3.04424187, 3.10915863,\n",
       "       3.10760371, 3.08320577, 3.07145147, 3.00810865, 3.06276136,\n",
       "       3.07255127, 3.16540429, 3.03756778, 2.98906776, 3.11068451,\n",
       "       2.92812933, 3.05573281, 2.997873  , 2.95215114, 2.99178781,\n",
       "       3.03722771, 3.0643511 , 3.05464722, 3.05801319, 3.02156723,\n",
       "       3.1268761 , 2.96079722, 2.90507345, 2.95110983, 2.99369901,\n",
       "       2.92618577, 3.06218893, 2.95598545, 2.98852608, 3.08736712,\n",
       "       3.02930583, 3.00294488, 3.01296021, 2.89743959, 2.88332296,\n",
       "       3.01281363, 3.08523824, 2.95691228, 2.96959453, 3.0482154 ,\n",
       "       2.90841044, 2.98753318, 3.12329743, 3.03753527, 3.09900648,\n",
       "       3.05901315, 3.02245753, 2.98819461, 2.97060804, 3.07038609,\n",
       "       3.01659137, 3.07387968, 2.97385398, 3.01532146, 2.9914945 ,\n",
       "       2.99105255, 2.9773858 , 2.99439953, 3.06209388, 2.93979424,\n",
       "       3.01730953, 3.03144854, 2.95274437, 3.03830263, 3.02201021,\n",
       "       2.95485198, 3.06879794, 3.00791756, 3.09194093, 2.99965547,\n",
       "       3.13863657, 3.07153344, 2.97927417, 2.90002966, 3.10342495,\n",
       "       3.10588902, 2.96540258, 3.03709046, 2.96114241, 2.93133749,\n",
       "       3.14300521, 2.89132986, 3.03778214, 3.17313622, 3.05288438,\n",
       "       2.99015386, 3.02399092, 2.88918981, 3.01713245, 2.97655867,\n",
       "       3.02863526, 3.10664771, 2.96374818, 3.00139047, 2.91125148,\n",
       "       3.00485179, 2.87919359, 2.95006631, 3.07901189, 2.95059659,\n",
       "       2.94319502, 2.91488651, 3.11735262, 3.00947649, 2.97335491,\n",
       "       2.92589962, 2.90983735, 3.02469695, 2.86188747, 2.97238366,\n",
       "       3.05859675, 3.01055562, 3.02213054, 2.96942695, 2.93884318,\n",
       "       3.09093719, 3.01824792, 2.95692686, 2.95485211, 3.00094853,\n",
       "       2.97707612, 3.12963488, 3.01162093, 2.95587043, 3.08669565,\n",
       "       3.03134815, 2.9623985 , 3.04080951, 3.06764022, 2.94421868,\n",
       "       3.06945238, 2.99783427, 3.07078498, 2.96999719, 2.94921416,\n",
       "       2.97016923, 2.97174791, 3.10761493, 3.21787613, 3.00364893,\n",
       "       3.07585094, 2.92017272, 2.94817632, 3.08152098, 2.96081199,\n",
       "       2.99734582, 3.08102654, 3.0560773 , 2.93480704, 3.01655744,\n",
       "       3.1072287 , 3.06090204, 2.94245422, 2.99397287, 3.05969342,\n",
       "       2.88833078, 3.09140074, 3.07796066, 2.99348273, 2.98378245,\n",
       "       2.97670272, 2.97399452, 2.97770582, 2.94824161, 2.93210008,\n",
       "       2.85039998, 3.08481422, 3.09657306, 3.03084051, 3.11462684,\n",
       "       3.04779629, 3.08267144, 2.99299612, 2.99836868, 3.05915468,\n",
       "       3.08285038, 3.07272672, 3.00478095, 3.01782173, 3.0652051 ,\n",
       "       3.10481002, 3.01152781, 3.01896374, 2.96137044, 3.03661371,\n",
       "       3.01375374, 2.89479421, 3.04523887, 2.9844209 , 2.96716114,\n",
       "       3.00505982, 3.08196733, 2.99245851, 3.05900826, 2.93130776,\n",
       "       3.08803933, 3.0374598 , 3.01260749, 3.04985315, 3.06185226,\n",
       "       3.01082066, 3.03978325, 3.04566037, 2.96762363, 3.06583789,\n",
       "       3.0447894 , 2.92500576, 3.07638338, 2.92559402, 3.04922187,\n",
       "       2.98646225, 3.0479466 , 3.00818701, 2.89156406, 3.11229995,\n",
       "       3.04644027, 2.9864304 , 2.92842335, 2.9962447 , 2.97463475,\n",
       "       3.20002475, 3.11653492, 2.99448684, 3.06002752, 3.16698386,\n",
       "       3.05049619, 3.00609566, 3.02253629, 2.9981736 , 2.96179006,\n",
       "       2.96013358, 3.03277703, 2.96752795, 3.04331481, 3.02464576,\n",
       "       3.00279616, 3.08545155, 2.95996359, 3.05697232, 3.14284232,\n",
       "       3.001996  , 2.99959766, 2.96097217, 2.96046287, 2.98113044,\n",
       "       3.05957565, 2.99039462, 2.88259949, 3.04577911, 2.98312618,\n",
       "       2.95470707, 2.9152436 , 3.06516118, 3.05057563, 3.04575   ,\n",
       "       3.0735509 , 2.9671373 , 3.01497111, 2.91853563, 2.90791394,\n",
       "       2.88532146, 2.85930259, 2.97595639, 2.99666042, 3.01149795,\n",
       "       3.01648   , 3.00442145, 2.86854478, 3.08237077, 3.11538545,\n",
       "       2.99694207, 2.97323768, 3.02177554, 3.11946622, 2.89587598,\n",
       "       2.92989301, 3.02407432, 2.95517504, 3.02131412, 3.04298223,\n",
       "       3.04916638, 3.02228175, 2.98994967, 3.02963492, 2.95458869,\n",
       "       3.02833546, 3.13159195, 3.05071354, 3.0392356 , 2.88896804])"
      ]
     },
     "execution_count": 55,
     "metadata": {},
     "output_type": "execute_result"
    }
   ],
   "source": [
    "# Make predictions\n",
    "y_pred_cat_grid = grid_search_cat.predict(X_test)\n",
    "\n",
    "y_pred_cat_grid"
   ]
  },
  {
   "cell_type": "markdown",
   "id": "bac291b6",
   "metadata": {},
   "source": [
    "Best RMSE: 0.02\n",
    "\n",
    "For a rating prediction model where your target is between 1 and 5"
   ]
  },
  {
   "cell_type": "code",
   "execution_count": 56,
   "id": "2a06e38b",
   "metadata": {},
   "outputs": [
    {
     "data": {
      "image/png": "[encoded data removed]",
      "text/plain": [
       "<Figure size 800x600 with 1 Axes>"
      ]
     },
     "metadata": {},
     "output_type": "display_data"
    },
    {
     "data": {
      "image/png": "[encoded data removed]",
      "text/plain": [
       "<Figure size 800x500 with 1 Axes>"
      ]
     },
     "metadata": {},
     "output_type": "display_data"
    }
   ],
   "source": [
    "# === 1. Predictions vs Actuals ===\n",
    "plt.figure(figsize=(8, 6))\n",
    "sns.scatterplot(x=y_test, y=y_pred_cat_grid, color='royalblue', s=40)\n",
    "plt.plot([y_test.min(), y_test.max()], [y_test.min(), y_test.max()], 'r--')  # Diagonal line\n",
    "plt.xlabel(\"Actual\")\n",
    "plt.ylabel(\"Predicted\")\n",
    "plt.title(\"📈 Predictions vs Actuals\")\n",
    "plt.grid(True)\n",
    "plt.tight_layout()\n",
    "plt.show()\n",
    "\n",
    "# === 2. Residuals Plot ===\n",
    "residuals = y_test - y_pred_cat_grid\n",
    "plt.figure(figsize=(8, 5))\n",
    "sns.histplot(residuals, bins=30, kde=True, color='darkorange')\n",
    "plt.title(\"🧮 Residuals Distribution\")\n",
    "plt.xlabel(\"Residual (Actual - Predicted)\")\n",
    "plt.grid(True)\n",
    "plt.tight_layout()\n",
    "plt.show()"
   ]
  },
  {
   "cell_type": "markdown",
   "id": "728e02b9",
   "metadata": {},
   "source": [
    "# Method 4 - Singular Value Decomposition (SVD)"
   ]
  },
  {
   "cell_type": "markdown",
   "id": "fde02291",
   "metadata": {},
   "source": [
    "Here we are using SVD (Singular Value Decomposition) for collaborative filtering-based recommendation, that specifically shows how the User will rate a particular Product."
   ]
  },
  {
   "cell_type": "code",
   "execution_count": 97,
   "id": "250edc94",
   "metadata": {},
   "outputs": [
    {
     "name": "stdout",
     "output_type": "stream",
     "text": [
      "Product ID  1     2     3     4     5     6     7     8     9     10    ...  \\\n",
      "User ID                                                                 ...   \n",
      "1            0.0   0.0   0.0   0.0   0.0   0.0   0.0   0.0   0.0   0.0  ...   \n",
      "2            0.0   0.0   0.0   0.0   0.0   0.0   0.0   0.0   0.0   0.0  ...   \n",
      "3            0.0   0.0   0.0   0.0   0.0   0.0   0.0   0.0   0.0   0.0  ...   \n",
      "4            0.0   0.0   0.0   0.0   0.0   0.0   0.0   0.0   0.0   0.0  ...   \n",
      "5            0.0   0.0   0.0   0.0   0.0   0.0   0.0   0.0   0.0   0.0  ...   \n",
      "\n",
      "Product ID  991   992   993   994   995   996   997   998   999   1000  \n",
      "User ID                                                                 \n",
      "1            0.0   0.0   0.0   0.0   0.0   0.0   0.0   0.0   0.0   0.0  \n",
      "2            0.0   0.0   0.0   0.0   0.0   0.0   0.0   0.0   0.0   0.0  \n",
      "3            0.0   0.0   0.0   0.0   0.0   0.0   0.0   0.0   0.0   0.0  \n",
      "4            0.0   0.0   0.0   0.0   0.0   0.0   0.0   0.0   0.0   0.0  \n",
      "5            0.0   0.0   0.0   0.0   0.0   0.0   0.0   0.0   0.0   0.0  \n",
      "\n",
      "[5 rows x 1000 columns]\n"
     ]
    }
   ],
   "source": [
    "from sklearn.decomposition import TruncatedSVD\n",
    "\n",
    "# Create a user-item matrix (User x Movie)\n",
    "# Create user-item interaction matrix (userId x productId)\n",
    "user_item_matrix = df.pivot(index='User ID', columns='Product ID', values= \"Rating\")\n",
    "\n",
    "# Fill missing values with 0 (indicating no interaction)\n",
    "user_item_matrix = user_item_matrix.fillna(0)\n",
    "\n",
    "print(user_item_matrix.head())"
   ]
  },
  {
   "cell_type": "markdown",
   "id": "8029bf24",
   "metadata": {},
   "source": [
    "# Collaborative Filtering Using Matrix Factorization (SVD)"
   ]
  },
  {
   "cell_type": "markdown",
   "id": "97ea0055",
   "metadata": {},
   "source": [
    "Using Collaborative Filtering that uses user-item interactions (e.g., user ratings for products) to predict how a user might rate an item."
   ]
  },
  {
   "cell_type": "code",
   "execution_count": 98,
   "id": "439ef273",
   "metadata": {},
   "outputs": [
    {
     "name": "stdout",
     "output_type": "stream",
     "text": [
      "Top 5 Recommended Products:\n",
      "     User ID  Product ID    Rating\n",
      "21        56          22  4.568632\n",
      "176       56         177  4.567658\n",
      "422       56         423  4.502435\n",
      "990       60         991  4.972677\n",
      "44        60          45  4.886711\n"
     ]
    }
   ],
   "source": [
    "# Apply SVD for collaborative filtering (matrix factorization)\n",
    "svd = TruncatedSVD(n_components=20)  # Use 20 latent features\n",
    "latent_matrix = svd.fit_transform(user_item_matrix)\n",
    "\n",
    "# Reconstruct the matrix\n",
    "reconstructed_matrix = svd.inverse_transform(latent_matrix)\n",
    "\n",
    "# Example: Recommend products for a user\n",
    "user_id = 1\n",
    "\n",
    "user_ratings = reconstructed_matrix[user_id - 1]  # Indexing is 0-based, so we subtract 1\n",
    "\n",
    "recommended_product_indices = user_ratings.argsort()[::-1]  # Sort products by predicted rating\n",
    "\n",
    "# Display top 5 recommended products for user 1\n",
    "recommended_products = df.iloc[recommended_product_indices[:5]]\n",
    "print(\"Top 5 Recommended Products:\")\n",
    "print(recommended_products[['User ID', 'Product ID', 'Rating']])"
   ]
  },
  {
   "cell_type": "markdown",
   "id": "f699bc11",
   "metadata": {},
   "source": [
    "# Content-based Filtering"
   ]
  },
  {
   "cell_type": "code",
   "execution_count": 99,
   "id": "b6c757f5",
   "metadata": {},
   "outputs": [
    {
     "name": "stdout",
     "output_type": "stream",
     "text": [
      "     Product ID  Price    Rating\n",
      "243         244     85  3.474622\n",
      "481         482     97  3.578219\n",
      "573         574     92  4.491894\n",
      "628         629     95  3.579320\n",
      "635         636     96  4.602211\n"
     ]
    }
   ],
   "source": [
    "from sklearn.metrics.pairwise import cosine_similarity\n",
    "from sklearn.preprocessing import StandardScaler\n",
    "\n",
    "# Prepare product features for content-based filtering\n",
    "product_features = df_new[['Price'] + [col for col in df_new.columns if 'Product_Name' in col or 'Brand' in col]]\n",
    "\n",
    "# Standardize continuous features (like price)\n",
    "scaler = StandardScaler()\n",
    "scaled_features = scaler.fit_transform(product_features)\n",
    "\n",
    "# Calculate the cosine similarity matrix\n",
    "cosine_sim = cosine_similarity(scaled_features)\n",
    "\n",
    "# Example: Recommend products similar to product 101 (Red T-Shirt)\n",
    "def get_similar_products(product_id, top_n=5):\n",
    "    idx = df[df['Product ID'] == product_id].index[0]\n",
    "    similarity_scores = list(enumerate(cosine_sim[idx]))\n",
    "    similarity_scores = sorted(similarity_scores, key=lambda x: x[1], reverse=True)\n",
    "    \n",
    "    # Get top N most similar products\n",
    "    top_similar_products = [df['Product ID'][i[0]] for i in similarity_scores[1:top_n + 1]]\n",
    "    return df[df['Product ID'].isin(top_similar_products)]\n",
    "\n",
    "similar_products = get_similar_products(101)\n",
    "\n",
    "print(similar_products[['Product ID', 'Price', 'Rating']])"
   ]
  },
  {
   "cell_type": "code",
   "execution_count": 100,
   "id": "22d50661",
   "metadata": {},
   "outputs": [
    {
     "name": "stdout",
     "output_type": "stream",
     "text": [
      "Hybrid Recommendations (Collaborative + Content-Based):\n",
      "     Product ID  Price    Rating\n",
      "21           22     89  4.568632\n",
      "176         177     12  4.567658\n",
      "422         423     83  4.502435\n",
      "990         991     25  4.972677\n",
      "44           45     85  4.886711\n",
      "166         167     43  4.478061\n",
      "601         602     11  4.342864\n",
      "667         668     11  1.842279\n",
      "731         732     28  2.645059\n",
      "907         908     36  3.194487\n"
     ]
    }
   ],
   "source": [
    "# Collaborative recommendations for user (using SVD)\n",
    "collaborative_recommendations = recommended_products[['Product ID', 'Price', 'Rating']]\n",
    "\n",
    "# Content-based recommendations for a product (using cosine similarity)\n",
    "content_based_recommendations = get_similar_products(1)\n",
    "\n",
    "# Combine both recommendation lists\n",
    "hybrid_recommendations = pd.concat([collaborative_recommendations, content_based_recommendations[['Product ID', 'Price', 'Rating']]])\n",
    "print(\"Hybrid Recommendations (Collaborative + Content-Based):\")\n",
    "print(hybrid_recommendations.drop_duplicates())"
   ]
  },
  {
   "cell_type": "code",
   "execution_count": 101,
   "id": "e639fcb4",
   "metadata": {},
   "outputs": [
    {
     "name": "stdout",
     "output_type": "stream",
     "text": [
      "RMSE for Collaborative Filtering (SVD): 0.26679103813840327\n"
     ]
    }
   ],
   "source": [
    "from sklearn.metrics import mean_squared_error\n",
    "import numpy as np\n",
    "\n",
    "# Calculate RMSE for collaborative filtering (SVD)\n",
    "rmse = np.sqrt(mean_squared_error(user_item_matrix.values, reconstructed_matrix))\n",
    "\n",
    "print(f\"RMSE for Collaborative Filtering (SVD): {rmse}\")"
   ]
  },
  {
   "cell_type": "markdown",
   "id": "a7270ecb",
   "metadata": {},
   "source": [
    "The RMSE value of 0.266 for SVD-based Collaborative Filtering model suggests that the model is performing well."
   ]
  },
  {
   "cell_type": "markdown",
   "id": "abbbecf3",
   "metadata": {},
   "source": [
    "# Segmenting the users into spending group"
   ]
  },
  {
   "cell_type": "markdown",
   "id": "583044fa",
   "metadata": {},
   "source": [
    "Segmenting users into high-spending or low-spending group can be used in data analysis and marketing strategy. By doing this, we can personalize marketing efforts, improve customer experience, and optimize business strategies. Here's I segment users based on these a key dimension — spending as how many users purchase the most products."
   ]
  },
  {
   "cell_type": "markdown",
   "id": "477a26fd",
   "metadata": {},
   "source": [
    "High-Spending: Users whose total spending or average purchase amount is above a threshold, 70.\n",
    "\n",
    "Low-Spending: Users whose total spending or average purchase amount is below a certain threshold, which is 70."
   ]
  },
  {
   "cell_type": "code",
   "execution_count": 102,
   "id": "b9af005e",
   "metadata": {},
   "outputs": [],
   "source": [
    "# craete a new dataframe\n",
    "\n",
    "df_seg = pd.DataFrame(df)"
   ]
  },
  {
   "cell_type": "code",
   "execution_count": 103,
   "id": "f6a9b723",
   "metadata": {},
   "outputs": [],
   "source": [
    "# Ensure 'Price' is always treated as an iterable (even if it's a single integer)\n",
    "\n",
    "def handle_purchase_prices(Price):\n",
    "    # since it's not a list or iterable, we will first make it a list\n",
    "    if isinstance(Price, int):\n",
    "        return [Price]\n",
    "    return Price"
   ]
  },
  {
   "cell_type": "code",
   "execution_count": 104,
   "id": "8e168991",
   "metadata": {},
   "outputs": [],
   "source": [
    "# Apply the function to ensure 'purchase_prices' is a list\n",
    "\n",
    "df_seg['Price'] = df_seg['Price'].apply(handle_purchase_prices)"
   ]
  },
  {
   "cell_type": "code",
   "execution_count": 105,
   "id": "fded16c1",
   "metadata": {},
   "outputs": [],
   "source": [
    "# Feature: Total Purchase Amount (Total amount spent by the user)\n",
    "df_seg['total_purchase_amount'] = df_seg['Price'].apply(lambda x: sum(x))\n"
   ]
  },
  {
   "cell_type": "code",
   "execution_count": 106,
   "id": "353b9a60",
   "metadata": {},
   "outputs": [],
   "source": [
    "# Set thresholds for segmentation\n",
    "spending_threshold = 70  # High spending if total_purchase_amount > 70"
   ]
  },
  {
   "cell_type": "code",
   "execution_count": 107,
   "id": "d7adc483",
   "metadata": {},
   "outputs": [],
   "source": [
    "# Create new segmentation columns\n",
    "df_seg['spending_segment'] = np.where(df_seg['total_purchase_amount'] > spending_threshold, 'High Spending', 'Low Spending')"
   ]
  },
  {
   "cell_type": "code",
   "execution_count": 108,
   "id": "13eb83d0",
   "metadata": {},
   "outputs": [],
   "source": [
    "df_seg = df_seg.drop(columns = [\"Price\"])"
   ]
  },
  {
   "cell_type": "code",
   "execution_count": 109,
   "id": "d6d022d0",
   "metadata": {},
   "outputs": [
    {
     "data": {
      "text/html": [
       "<div>\n",
       "<style scoped>\n",
       "    .dataframe tbody tr th:only-of-type {\n",
       "        vertical-align: middle;\n",
       "    }\n",
       "\n",
       "    .dataframe tbody tr th {\n",
       "        vertical-align: top;\n",
       "    }\n",
       "\n",
       "    .dataframe thead th {\n",
       "        text-align: right;\n",
       "    }\n",
       "</style>\n",
       "<table border=\"1\" class=\"dataframe\">\n",
       "  <thead>\n",
       "    <tr style=\"text-align: right;\">\n",
       "      <th></th>\n",
       "      <th>User ID</th>\n",
       "      <th>Product ID</th>\n",
       "      <th>Product Name</th>\n",
       "      <th>Brand</th>\n",
       "      <th>Category</th>\n",
       "      <th>Rating</th>\n",
       "      <th>Color</th>\n",
       "      <th>Size</th>\n",
       "      <th>metadata</th>\n",
       "      <th>total_purchase_amount</th>\n",
       "      <th>spending_segment</th>\n",
       "    </tr>\n",
       "  </thead>\n",
       "  <tbody>\n",
       "    <tr>\n",
       "      <th>0</th>\n",
       "      <td>19</td>\n",
       "      <td>1</td>\n",
       "      <td>Dress</td>\n",
       "      <td>Adidas</td>\n",
       "      <td>Men's Fashion</td>\n",
       "      <td>1.043159</td>\n",
       "      <td>Black</td>\n",
       "      <td>XL</td>\n",
       "      <td>Dress Adidas Men's Fashion Black XL</td>\n",
       "      <td>40</td>\n",
       "      <td>Low Spending</td>\n",
       "    </tr>\n",
       "    <tr>\n",
       "      <th>1</th>\n",
       "      <td>97</td>\n",
       "      <td>2</td>\n",
       "      <td>Shoes</td>\n",
       "      <td>H&amp;M</td>\n",
       "      <td>Women's Fashion</td>\n",
       "      <td>4.026416</td>\n",
       "      <td>Black</td>\n",
       "      <td>L</td>\n",
       "      <td>Shoes H&amp;M Women's Fashion Black L</td>\n",
       "      <td>82</td>\n",
       "      <td>High Spending</td>\n",
       "    </tr>\n",
       "    <tr>\n",
       "      <th>2</th>\n",
       "      <td>25</td>\n",
       "      <td>3</td>\n",
       "      <td>Dress</td>\n",
       "      <td>Adidas</td>\n",
       "      <td>Women's Fashion</td>\n",
       "      <td>3.337938</td>\n",
       "      <td>Yellow</td>\n",
       "      <td>XL</td>\n",
       "      <td>Dress Adidas Women's Fashion Yellow XL</td>\n",
       "      <td>44</td>\n",
       "      <td>Low Spending</td>\n",
       "    </tr>\n",
       "    <tr>\n",
       "      <th>3</th>\n",
       "      <td>57</td>\n",
       "      <td>4</td>\n",
       "      <td>Shoes</td>\n",
       "      <td>Zara</td>\n",
       "      <td>Men's Fashion</td>\n",
       "      <td>1.049523</td>\n",
       "      <td>White</td>\n",
       "      <td>S</td>\n",
       "      <td>Shoes Zara Men's Fashion White S</td>\n",
       "      <td>23</td>\n",
       "      <td>Low Spending</td>\n",
       "    </tr>\n",
       "    <tr>\n",
       "      <th>4</th>\n",
       "      <td>79</td>\n",
       "      <td>5</td>\n",
       "      <td>T-shirt</td>\n",
       "      <td>Adidas</td>\n",
       "      <td>Men's Fashion</td>\n",
       "      <td>4.302773</td>\n",
       "      <td>Black</td>\n",
       "      <td>M</td>\n",
       "      <td>T-shirt Adidas Men's Fashion Black M</td>\n",
       "      <td>79</td>\n",
       "      <td>High Spending</td>\n",
       "    </tr>\n",
       "  </tbody>\n",
       "</table>\n",
       "</div>"
      ],
      "text/plain": [
       "   User ID  Product ID Product Name   Brand         Category    Rating  \\\n",
       "0       19           1        Dress  Adidas    Men's Fashion  1.043159   \n",
       "1       97           2        Shoes     H&M  Women's Fashion  4.026416   \n",
       "2       25           3        Dress  Adidas  Women's Fashion  3.337938   \n",
       "3       57           4        Shoes    Zara    Men's Fashion  1.049523   \n",
       "4       79           5      T-shirt  Adidas    Men's Fashion  4.302773   \n",
       "\n",
       "    Color Size                                metadata  total_purchase_amount  \\\n",
       "0   Black   XL     Dress Adidas Men's Fashion Black XL                     40   \n",
       "1   Black    L       Shoes H&M Women's Fashion Black L                     82   \n",
       "2  Yellow   XL  Dress Adidas Women's Fashion Yellow XL                     44   \n",
       "3   White    S        Shoes Zara Men's Fashion White S                     23   \n",
       "4   Black    M    T-shirt Adidas Men's Fashion Black M                     79   \n",
       "\n",
       "  spending_segment  \n",
       "0     Low Spending  \n",
       "1    High Spending  \n",
       "2     Low Spending  \n",
       "3     Low Spending  \n",
       "4    High Spending  "
      ]
     },
     "execution_count": 109,
     "metadata": {},
     "output_type": "execute_result"
    }
   ],
   "source": [
    "df_seg.head()"
   ]
  },
  {
   "cell_type": "markdown",
   "id": "43b01431",
   "metadata": {},
   "source": [
    "# Segment-wise Analysis"
   ]
  },
  {
   "cell_type": "markdown",
   "id": "9c41a224",
   "metadata": {},
   "source": [
    "# Compute Average Rating per Spending Segment"
   ]
  },
  {
   "cell_type": "markdown",
   "id": "c69dab8c",
   "metadata": {},
   "source": [
    "Calculating the average rating for each spending segment (e.g., Low Spending, High Spending) to see if there's a noticeable difference between them."
   ]
  },
  {
   "cell_type": "code",
   "execution_count": 110,
   "id": "0fe09b4d",
   "metadata": {},
   "outputs": [
    {
     "name": "stdout",
     "output_type": "stream",
     "text": [
      "Average Ratings by Spending Segment:\n",
      "spending_segment\n",
      "High Spending    3.035180\n",
      "Low Spending     2.970891\n",
      "Name: Rating, dtype: float64\n"
     ]
    }
   ],
   "source": [
    "# Assuming 'data' is your dataframe containing 'spending_segment' and 'ratings'\n",
    "\n",
    "# Group by spending segment and calculate the mean of ratings\n",
    "average_ratings_by_segment = df_seg.groupby('spending_segment')['Rating'].mean()\n",
    "\n",
    "print(\"Average Ratings by Spending Segment:\")\n",
    "print(average_ratings_by_segment)"
   ]
  },
  {
   "cell_type": "markdown",
   "id": "759f41f4",
   "metadata": {},
   "source": [
    "There is somewhat difference between high spenders rating vs low spender rating. High spenders tends to rate products slightly more positively than low spenders."
   ]
  },
  {
   "cell_type": "markdown",
   "id": "65901950",
   "metadata": {},
   "source": [
    "# Visualize the Distribution of Ratings for Each Segment"
   ]
  },
  {
   "cell_type": "code",
   "execution_count": 111,
   "id": "40c39166",
   "metadata": {},
   "outputs": [
    {
     "data": {
      "image/png": "[encoded data removed]",
      "text/plain": [
       "<Figure size 800x700 with 1 Axes>"
      ]
     },
     "metadata": {},
     "output_type": "display_data"
    }
   ],
   "source": [
    "import seaborn as sns\n",
    "import matplotlib.pyplot as plt\n",
    "\n",
    "# Boxplot to compare ratings between spending segments\n",
    "plt.figure(figsize=(8, 7))\n",
    "sns.boxplot(x='spending_segment', y='Rating', data=df_seg, palette=\"Set2\")\n",
    "plt.title('Ratings Distribution by Spending Segment')\n",
    "plt.xlabel('Spending Segment')\n",
    "plt.ylabel('Rating')\n",
    "plt.show()"
   ]
  },
  {
   "cell_type": "code",
   "execution_count": 112,
   "id": "74a3c966",
   "metadata": {},
   "outputs": [
    {
     "data": {
      "image/png": "[encoded data removed]",
      "text/plain": [
       "<Figure size 1000x600 with 1 Axes>"
      ]
     },
     "metadata": {},
     "output_type": "display_data"
    }
   ],
   "source": [
    "# Create KDE plot to show the density of ratings for each spending segment\n",
    "plt.figure(figsize=(10, 6))\n",
    "\n",
    "sns.kdeplot(data=df_seg[df_seg['spending_segment'] == 'Low Spending']['Rating'], label='Low Spending', shade=True, color='skyblue')\n",
    "sns.kdeplot(data=df_seg[df_seg['spending_segment'] == 'High Spending']['Rating'], label='High Spending', shade=True, color='orange')\n",
    "\n",
    "# Add more segments if applicable\n",
    "# sns.kdeplot(data[data['Spending Segment'] == 'Medium Spending']['rating'], label='Medium Spending', shade=True, color='green')\n",
    "\n",
    "# Title and labels\n",
    "plt.title('Ratings Distribution Density by Spending Segment', fontsize=16)\n",
    "plt.xlabel('Rating', fontsize=14)\n",
    "plt.ylabel('Density', fontsize=14)\n",
    "\n",
    "# Show the legend and plot\n",
    "plt.legend(title='Spending Segment')\n",
    "plt.show()\n"
   ]
  },
  {
   "cell_type": "markdown",
   "id": "eb4c3bfa",
   "metadata": {},
   "source": [
    "# Save best model object"
   ]
  },
  {
   "cell_type": "code",
   "execution_count": 113,
   "id": "663bb627",
   "metadata": {},
   "outputs": [],
   "source": [
    "# save the model\n",
    "import pickle\n",
    "\n",
    "# save the best model as a pickle file\n",
    "model_pkl_file = \"best_model_cat.pkl\"  \n",
    "\n",
    "with open(model_pkl_file, 'wb') as file:\n",
    "    pickle.dump(best_model, file)"
   ]
  },
  {
   "cell_type": "code",
   "execution_count": 114,
   "id": "b18796e8",
   "metadata": {},
   "outputs": [],
   "source": [
    "# Now load it\n",
    "with open(\"best_model_cat.pkl\", \"rb\") as f:\n",
    "    model = pickle.load(f)"
   ]
  },
  {
   "cell_type": "code",
   "execution_count": 115,
   "id": "1959cb02",
   "metadata": {},
   "outputs": [
    {
     "name": "stdout",
     "output_type": "stream",
     "text": [
      "Current directory: /Users/swatisharma/Documents/GitHub/Capstone_3\n",
      "Files: ['fashion_products.csv', 'Recommendation System for Fashion Product.pdf', 'streamlit', '.DS_Store', 'datawrangling_EDA_datasciencecapstone3.ipynb', 'pre-processing_Modeling_OneHotEncoding.ipynb', 'datawrangling_EDA_datasciencecapstone3-Copy1.ipynb', 'pre-processing_Modeling-Copy2.ipynb', 'Recommendation system for Fashion Products.pdf', 'Recommendation system for Fashion Products.key', 'Project Report Recommendation for Fashion Product.pdf', 'Capstone3_Presentation_v0 copy.pdf', 'fashion_recommender_app_xgboost', 'best_model_cat.pkl', 'model_xgBoost.pkl', 'final pre-processing_Modeling_CatBoostEncoder-Copy1.ipynb', 'pre-processing_Modeling.ipynb', 'pkl_pre-processing_Modeling_CatBoostEncoder-Copy1.ipynb', '.ipynb_checkpoints', 'best_catboost_model.pkl', 'pre-processing_Modeling-Copy1.ipynb', 'pre-processing_Modeling_OrdinalEncoder.ipynb', 'pre-processing_Modeling_CatBoostEncoder.ipynb', 'df_features.csv', 'catboost_info', 'pre-processing_Modeling-Copy5.ipynb']\n"
     ]
    }
   ],
   "source": [
    "import os\n",
    "\n",
    "print(\"Current directory:\", os.getcwd())\n",
    "print(\"Files:\", os.listdir())"
   ]
  },
  {
   "cell_type": "markdown",
   "id": "bac9ca32",
   "metadata": {},
   "source": [
    "# Summary:\n",
    "\n",
    "CatBoost, a gradient boosting framework works well with our training set beacuse of the presence of high number of categorical features and is also effective in predicting a continuous outcome (rating)."
   ]
  },
  {
   "cell_type": "code",
   "execution_count": 118,
   "id": "24a37699",
   "metadata": {},
   "outputs": [
    {
     "name": "stdout",
     "output_type": "stream",
     "text": [
      "Evaluating RMSE, MAE of algorithm SVD on 5 split(s).\n",
      "\n",
      "                  Fold 1  Fold 2  Fold 3  Fold 4  Fold 5  Mean    Std     \n",
      "RMSE (testset)    1.2033  1.1023  1.1384  1.1666  1.2115  1.1644  0.0407  \n",
      "MAE (testset)     1.0296  0.9480  0.9465  1.0050  1.0714  1.0001  0.0481  \n",
      "Fit time          0.01    0.02    0.01    0.01    0.01    0.01    0.00    \n",
      "Test time         0.00    0.00    0.00    0.00    0.00    0.00    0.00    \n",
      "Average RMSE: 1.1644\n",
      "Average MAE: 1.0001\n"
     ]
    }
   ],
   "source": [
    "import pandas as pd\n",
    "from surprise import Dataset, Reader, SVD\n",
    "from surprise.model_selection import cross_validate\n",
    "\n",
    "# Load your dataset\n",
    "df = pd.read_csv(\"fashion_products.csv\")\n",
    "\n",
    "# Clean and format for SVD\n",
    "svd_df = df[[\"User ID\", \"Product ID\", \"Rating\"]].copy()\n",
    "svd_df.columns = [\"user\", \"item\", \"rating\"]\n",
    "\n",
    "# Set the rating scale based on your data\n",
    "reader = Reader(rating_scale=(1, 5))\n",
    "data = Dataset.load_from_df(svd_df[[\"user\", \"item\", \"rating\"]], reader)\n",
    "\n",
    "# Initialize SVD model\n",
    "model = SVD()\n",
    "\n",
    "# Cross-validate\n",
    "results = cross_validate(model, data, measures=[\"RMSE\", \"MAE\"], cv=5, verbose=True)\n",
    "\n",
    "# Print average scores\n",
    "print(\"Average RMSE:\", round(results['test_rmse'].mean(), 4))\n",
    "print(\"Average MAE:\", round(results['test_mae'].mean(), 4))\n"
   ]
  },
  {
   "cell_type": "code",
   "execution_count": 119,
   "id": "edab967a",
   "metadata": {},
   "outputs": [
    {
     "name": "stdout",
     "output_type": "stream",
     "text": [
      "Predicted rating: 3.51\n"
     ]
    }
   ],
   "source": [
    "pred = model.predict(uid=25, iid=10)\n",
    "print(f\"Predicted rating: {pred.est:.2f}\")"
   ]
  },
  {
   "cell_type": "code",
   "execution_count": 120,
   "id": "a3b88016",
   "metadata": {},
   "outputs": [
    {
     "data": {
      "text/plain": [
       "((1000, 1000),\n",
       " array([[1.        , 0.35544216, 0.62850886, 0.18919296, 0.67858152],\n",
       "        [0.35544216, 1.        , 0.21382974, 0.3219269 , 0.39430987]]))"
      ]
     },
     "execution_count": 120,
     "metadata": {},
     "output_type": "execute_result"
    }
   ],
   "source": [
    "from sklearn.feature_extraction.text import TfidfVectorizer\n",
    "from sklearn.metrics.pairwise import cosine_similarity\n",
    "\n",
    "# Create a combined text feature for each product\n",
    "df['metadata'] = df[['Product Name', 'Brand', 'Category', 'Color', 'Size']].fillna('').agg(' '.join, axis=1)\n",
    "\n",
    "# Vectorize the combined metadata using TF-IDF\n",
    "tfidf = TfidfVectorizer(stop_words='english')\n",
    "tfidf_matrix = tfidf.fit_transform(df['metadata'])\n",
    "\n",
    "# Compute cosine similarity between all products\n",
    "cosine_sim = cosine_similarity(tfidf_matrix, tfidf_matrix)\n",
    "\n",
    "# Create a mapping from product ID to DataFrame index\n",
    "product_id_to_index = pd.Series(df.index, index=df['Product ID'])\n",
    "\n",
    "# Show shape of the similarity matrix and sample similarity scores\n",
    "cosine_sim.shape, cosine_sim[:2, :5]\n"
   ]
  },
  {
   "cell_type": "code",
   "execution_count": 121,
   "id": "6555b7d8",
   "metadata": {},
   "outputs": [
    {
     "data": {
      "text/html": [
       "<div>\n",
       "<style scoped>\n",
       "    .dataframe tbody tr th:only-of-type {\n",
       "        vertical-align: middle;\n",
       "    }\n",
       "\n",
       "    .dataframe tbody tr th {\n",
       "        vertical-align: top;\n",
       "    }\n",
       "\n",
       "    .dataframe thead th {\n",
       "        text-align: right;\n",
       "    }\n",
       "</style>\n",
       "<table border=\"1\" class=\"dataframe\">\n",
       "  <thead>\n",
       "    <tr style=\"text-align: right;\">\n",
       "      <th></th>\n",
       "      <th>Product ID</th>\n",
       "      <th>Product Name</th>\n",
       "      <th>Brand</th>\n",
       "      <th>Category</th>\n",
       "      <th>Color</th>\n",
       "      <th>Size</th>\n",
       "    </tr>\n",
       "  </thead>\n",
       "  <tbody>\n",
       "    <tr>\n",
       "      <th>124</th>\n",
       "      <td>125</td>\n",
       "      <td>Sweater</td>\n",
       "      <td>H&amp;M</td>\n",
       "      <td>Kids' Fashion</td>\n",
       "      <td>Green</td>\n",
       "      <td>L</td>\n",
       "    </tr>\n",
       "    <tr>\n",
       "      <th>996</th>\n",
       "      <td>997</td>\n",
       "      <td>Sweater</td>\n",
       "      <td>Nike</td>\n",
       "      <td>Kids' Fashion</td>\n",
       "      <td>Green</td>\n",
       "      <td>L</td>\n",
       "    </tr>\n",
       "    <tr>\n",
       "      <th>493</th>\n",
       "      <td>494</td>\n",
       "      <td>Sweater</td>\n",
       "      <td>Zara</td>\n",
       "      <td>Kids' Fashion</td>\n",
       "      <td>Green</td>\n",
       "      <td>M</td>\n",
       "    </tr>\n",
       "    <tr>\n",
       "      <th>500</th>\n",
       "      <td>501</td>\n",
       "      <td>Sweater</td>\n",
       "      <td>Adidas</td>\n",
       "      <td>Kids' Fashion</td>\n",
       "      <td>Green</td>\n",
       "      <td>S</td>\n",
       "    </tr>\n",
       "    <tr>\n",
       "      <th>909</th>\n",
       "      <td>910</td>\n",
       "      <td>Sweater</td>\n",
       "      <td>Adidas</td>\n",
       "      <td>Kids' Fashion</td>\n",
       "      <td>Green</td>\n",
       "      <td>S</td>\n",
       "    </tr>\n",
       "  </tbody>\n",
       "</table>\n",
       "</div>"
      ],
      "text/plain": [
       "     Product ID Product Name   Brand       Category  Color Size\n",
       "124         125      Sweater     H&M  Kids' Fashion  Green    L\n",
       "996         997      Sweater    Nike  Kids' Fashion  Green    L\n",
       "493         494      Sweater    Zara  Kids' Fashion  Green    M\n",
       "500         501      Sweater  Adidas  Kids' Fashion  Green    S\n",
       "909         910      Sweater  Adidas  Kids' Fashion  Green    S"
      ]
     },
     "execution_count": 121,
     "metadata": {},
     "output_type": "execute_result"
    }
   ],
   "source": [
    "# Function to get top N similar products based on content\n",
    "def get_similar_products(product_id, top_n=5):\n",
    "    if product_id not in product_id_to_index:\n",
    "        return f\"❌ Product ID {product_id} not found.\"\n",
    "\n",
    "    # Get index of the product\n",
    "    idx = product_id_to_index[product_id]\n",
    "\n",
    "    # Get similarity scores for this product with all others\n",
    "    sim_scores = list(enumerate(cosine_sim[idx]))\n",
    "\n",
    "    # Sort by similarity score (descending) and skip the product itself (first one)\n",
    "    sim_scores = sorted(sim_scores, key=lambda x: x[1], reverse=True)[1:top_n+1]\n",
    "\n",
    "    # Get product indices\n",
    "    product_indices = [i[0] for i in sim_scores]\n",
    "\n",
    "    # Return the most similar products\n",
    "    return df.iloc[product_indices][[\"Product ID\", \"Product Name\", \"Brand\", \"Category\", \"Color\", \"Size\"]]\n",
    "\n",
    "# Example: Get similar products to Product ID 25\n",
    "get_similar_products(25)\n"
   ]
  },
  {
   "cell_type": "code",
   "execution_count": 122,
   "id": "77db2a16",
   "metadata": {},
   "outputs": [
    {
     "data": {
      "text/html": [
       "<div>\n",
       "<style scoped>\n",
       "    .dataframe tbody tr th:only-of-type {\n",
       "        vertical-align: middle;\n",
       "    }\n",
       "\n",
       "    .dataframe tbody tr th {\n",
       "        vertical-align: top;\n",
       "    }\n",
       "\n",
       "    .dataframe thead th {\n",
       "        text-align: right;\n",
       "    }\n",
       "</style>\n",
       "<table border=\"1\" class=\"dataframe\">\n",
       "  <thead>\n",
       "    <tr style=\"text-align: right;\">\n",
       "      <th></th>\n",
       "      <th>Product ID</th>\n",
       "      <th>Product Name</th>\n",
       "      <th>Brand</th>\n",
       "      <th>Category</th>\n",
       "      <th>Color</th>\n",
       "      <th>Size</th>\n",
       "    </tr>\n",
       "  </thead>\n",
       "  <tbody>\n",
       "    <tr>\n",
       "      <th>884</th>\n",
       "      <td>885</td>\n",
       "      <td>T-shirt</td>\n",
       "      <td>Zara</td>\n",
       "      <td>Kids' Fashion</td>\n",
       "      <td>White</td>\n",
       "      <td>XL</td>\n",
       "    </tr>\n",
       "    <tr>\n",
       "      <th>252</th>\n",
       "      <td>253</td>\n",
       "      <td>T-shirt</td>\n",
       "      <td>Zara</td>\n",
       "      <td>Kids' Fashion</td>\n",
       "      <td>White</td>\n",
       "      <td>M</td>\n",
       "    </tr>\n",
       "    <tr>\n",
       "      <th>630</th>\n",
       "      <td>631</td>\n",
       "      <td>T-shirt</td>\n",
       "      <td>Zara</td>\n",
       "      <td>Kids' Fashion</td>\n",
       "      <td>White</td>\n",
       "      <td>S</td>\n",
       "    </tr>\n",
       "    <tr>\n",
       "      <th>946</th>\n",
       "      <td>947</td>\n",
       "      <td>T-shirt</td>\n",
       "      <td>Zara</td>\n",
       "      <td>Kids' Fashion</td>\n",
       "      <td>White</td>\n",
       "      <td>S</td>\n",
       "    </tr>\n",
       "    <tr>\n",
       "      <th>285</th>\n",
       "      <td>286</td>\n",
       "      <td>T-shirt</td>\n",
       "      <td>H&amp;M</td>\n",
       "      <td>Kids' Fashion</td>\n",
       "      <td>White</td>\n",
       "      <td>XL</td>\n",
       "    </tr>\n",
       "  </tbody>\n",
       "</table>\n",
       "</div>"
      ],
      "text/plain": [
       "     Product ID Product Name Brand       Category  Color Size\n",
       "884         885      T-shirt  Zara  Kids' Fashion  White   XL\n",
       "252         253      T-shirt  Zara  Kids' Fashion  White    M\n",
       "630         631      T-shirt  Zara  Kids' Fashion  White    S\n",
       "946         947      T-shirt  Zara  Kids' Fashion  White    S\n",
       "285         286      T-shirt   H&M  Kids' Fashion  White   XL"
      ]
     },
     "execution_count": 122,
     "metadata": {},
     "output_type": "execute_result"
    }
   ],
   "source": [
    "# Function to get top N similar products based on content\n",
    "def get_similar_products(product_id, top_n=5):\n",
    "    if product_id not in product_id_to_index:\n",
    "        return f\"❌ Product ID {product_id} not found.\"\n",
    "\n",
    "    # Get index of the product\n",
    "    idx = product_id_to_index[product_id]\n",
    "\n",
    "    # Get similarity scores for this product with all others\n",
    "    sim_scores = list(enumerate(cosine_sim[idx]))\n",
    "\n",
    "    # Sort by similarity score (descending) and skip the product itself (first one)\n",
    "    sim_scores = sorted(sim_scores, key=lambda x: x[1], reverse=True)[1:top_n+1]\n",
    "\n",
    "    # Get product indices\n",
    "    product_indices = [i[0] for i in sim_scores]\n",
    "\n",
    "    # Return the most similar products\n",
    "    return df.iloc[product_indices][[\"Product ID\", \"Product Name\", \"Brand\", \"Category\", \"Color\", \"Size\"]]\n",
    "\n",
    "# Example: Get similar products to Product ID 25\n",
    "get_similar_products(10)\n"
   ]
  },
  {
   "cell_type": "markdown",
   "id": "40eb6fe3",
   "metadata": {},
   "source": [
    "This means if a user liked Product 25, you can recommend any of these as similar items!"
   ]
  },
  {
   "cell_type": "code",
   "execution_count": null,
   "id": "c83de003",
   "metadata": {},
   "outputs": [],
   "source": []
  },
  {
   "cell_type": "code",
   "execution_count": null,
   "id": "632e26a5",
   "metadata": {},
   "outputs": [],
   "source": []
  },
  {
   "cell_type": "code",
   "execution_count": null,
   "id": "098af285",
   "metadata": {},
   "outputs": [],
   "source": []
  }
 ],
 "metadata": {
  "kernelspec": {
   "display_name": "Python 3 (ipykernel)",
   "language": "python",
   "name": "python3"
  },
  "language_info": {
   "codemirror_mode": {
    "name": "ipython",
    "version": 3
   },
   "file_extension": ".py",
   "mimetype": "text/x-python",
   "name": "python",
   "nbconvert_exporter": "python",
   "pygments_lexer": "ipython3",
   "version": "3.11.7"
  }
 },
 "nbformat": 4,
 "nbformat_minor": 5
}
